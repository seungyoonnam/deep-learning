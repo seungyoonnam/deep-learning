{
  "nbformat": 4,
  "nbformat_minor": 0,
  "metadata": {
    "colab": {
      "provenance": [],
      "gpuType": "T4",
      "mount_file_id": "1Gzp-l5RtrIJsmJmwI0dczqFsTqqirvmb",
      "authorship_tag": "ABX9TyMR0SECVJiP4lDkEBhZqlXV"
    },
    "kernelspec": {
      "name": "python3",
      "display_name": "Python 3"
    },
    "language_info": {
      "name": "python"
    },
    "accelerator": "GPU"
  },
  "cells": [
    {
      "cell_type": "markdown",
      "source": [
        "전이학습\n",
        "- hand 훈련모델을 hand, chest로 각각 테스트하고\n",
        "- chest 훈련모델을 chest, hand로 각각 테스트\n",
        "- 성능을 높여보자"
      ],
      "metadata": {
        "id": "2htBIJ8-MVRd"
      }
    },
    {
      "cell_type": "code",
      "execution_count": 600,
      "metadata": {
        "id": "r1DndBgEno98"
      },
      "outputs": [],
      "source": [
        "from numpy import expand_dims\n",
        "from numpy import zeros\n",
        "from numpy import ones\n",
        "from numpy import asarray\n",
        "from numpy.random import randn\n",
        "from numpy.random import randint\n",
        "from keras.datasets.mnist import load_data\n",
        "from tensorflow.keras.optimizers import Adam\n",
        "from keras.models import Model\n",
        "from keras.layers import Input\n",
        "from keras.layers import Dense\n",
        "from keras.layers import Reshape\n",
        "from keras.layers import Flatten\n",
        "from keras.layers import Conv2D\n",
        "from keras.layers import Conv2DTranspose\n",
        "from keras.layers import LeakyReLU\n",
        "from keras.layers import Dropout\n",
        "from keras.layers import Lambda\n",
        "from keras.layers import Activation\n",
        "from matplotlib import pyplot\n",
        "from keras import backend\n",
        "\n",
        "import tensorflow as tf\n",
        "import pandas as pd\n",
        "import numpy as np\n",
        "import glob\n",
        "import os\n",
        "from tensorflow.keras.utils import to_categorical\n",
        "\n",
        "from sklearn.preprocessing import StandardScaler\n",
        "import seaborn as sns\n",
        "\n",
        "from sklearn.linear_model import LogisticRegression\n",
        "from sklearn.tree import DecisionTreeClassifier\n",
        "from sklearn.neighbors import KNeighborsClassifier\n",
        "from sklearn.model_selection import train_test_split\n",
        "from sklearn.metrics import accuracy_score\n",
        "from sklearn.model_selection import cross_val_score\n",
        "from sklearn.preprocessing import OneHotEncoder\n",
        "from sklearn.preprocessing import scale\n",
        "\n",
        "from sklearn.preprocessing import StandardScaler, LabelEncoder"
      ]
    },
    {
      "cell_type": "code",
      "source": [
        "df=pd.read_csv('./drive/MyDrive/pamap2.csv', index_col=0)\n",
        "df"
      ],
      "metadata": {
        "colab": {
          "base_uri": "https://localhost:8080/",
          "height": 444
        },
        "id": "Q5ZogZ-SoVi0",
        "outputId": "7a684da1-2fd7-4008-919d-a35c03ee7f7b"
      },
      "execution_count": 601,
      "outputs": [
        {
          "output_type": "execute_result",
          "data": {
            "text/plain": [
              "         timestamp  activityID  heartrate  handTemperature  handAcc16_1  \\\n",
              "2932         37.70           1      100.0          30.3750     2.301060   \n",
              "2943         37.81           1      100.0          30.3750     2.246150   \n",
              "2954         37.92           1      100.0          30.3750     2.300000   \n",
              "2965         38.03           1      100.0          30.3750     2.494550   \n",
              "2976         38.14           1      101.0          30.3750     2.716540   \n",
              "...            ...         ...        ...              ...          ...   \n",
              "2818402    3629.66           5      195.0          30.8125     0.565086   \n",
              "2818413    3629.77           5      195.0          30.8125     0.570697   \n",
              "2818423    3629.87           5      195.0          30.8125     0.756704   \n",
              "2818435    3629.99           5      195.0          30.8125     0.530504   \n",
              "2818445    3630.09           5      195.0          30.8125     0.644139   \n",
              "\n",
              "         handAcc16_2  handAcc16_3  handAcc6_1  handAcc6_2  handAcc6_3  ...  \\\n",
              "2932         7.25857      6.09259    2.207200     7.24042     5.95555  ...   \n",
              "2943         7.48180      5.55219    2.251300     7.40595     5.65313  ...   \n",
              "2954         7.10681      6.09309    2.346130     7.46611     6.12103  ...   \n",
              "2965         7.52335      6.17157    2.591060     7.76653     6.27112  ...   \n",
              "2976         8.30596      4.78671    2.595960     7.94641     4.86635  ...   \n",
              "...              ...          ...         ...         ...         ...  ...   \n",
              "2818402      2.59595      9.27677    0.660681     2.70904     9.44024  ...   \n",
              "2818413      2.82459      9.39155    0.495537     2.75557     9.47051  ...   \n",
              "2818423      2.78452      9.31749    0.781122     2.72325     9.40988  ...   \n",
              "2818435      2.67279      9.35297    0.540382     2.87591     9.30409  ...   \n",
              "2818445      2.70986      9.35454    0.630675     2.81489     9.34943  ...   \n",
              "\n",
              "         ankleGyro2  ankleGyro3  ankleMagne1  ankleMagne2  ankleMagne3  \\\n",
              "2932      -0.048878   -0.006328     -60.2040     -37.1225     -57.8847   \n",
              "2943      -0.017912    0.015243     -60.7820     -36.2116     -58.4891   \n",
              "2954      -0.011798    0.011387     -61.4531     -36.2983     -58.4845   \n",
              "2965      -0.009233    0.005823     -62.0065     -36.7217     -58.3608   \n",
              "2976      -0.042562   -0.009289     -60.4311     -37.5412     -59.0013   \n",
              "...             ...         ...          ...          ...          ...   \n",
              "2818402   -0.002287   -0.017737     -17.6912      12.0079      26.5782   \n",
              "2818413   -0.007246    0.007512     -17.6928      12.0076      26.4364   \n",
              "2818423    0.003818    0.017649     -17.9459      11.7619      26.1521   \n",
              "2818435   -0.003649   -0.002610     -18.2103      12.4200      26.5759   \n",
              "2818445   -0.009639    0.006757     -18.0830      12.2841      26.2929   \n",
              "\n",
              "         ankleOrientation1  ankleOrientation2  ankleOrientation3  \\\n",
              "2932              1.000000           0.000000           0.000000   \n",
              "2943              1.000000           0.000000           0.000000   \n",
              "2954              1.000000           0.000000           0.000000   \n",
              "2965              1.000000           0.000000           0.000000   \n",
              "2976              1.000000           0.000000           0.000000   \n",
              "...                    ...                ...                ...   \n",
              "2818402           0.164776           0.798149           0.227263   \n",
              "2818413           0.166393           0.797223           0.228965   \n",
              "2818423           0.166735           0.797039           0.229771   \n",
              "2818435           0.168936           0.795763           0.231222   \n",
              "2818445           0.170868           0.795143           0.232727   \n",
              "\n",
              "         ankleOrientation4  subject_id  \n",
              "2932              0.000000           1  \n",
              "2943              0.000000           1  \n",
              "2954              0.000000           1  \n",
              "2965              0.000000           1  \n",
              "2976              0.000000           1  \n",
              "...                    ...         ...  \n",
              "2818402           0.533065           8  \n",
              "2818413           0.533221           8  \n",
              "2818423           0.533041           8  \n",
              "2818435           0.533628           8  \n",
              "2818445           0.533282           8  \n",
              "\n",
              "[118516 rows x 55 columns]"
            ],
            "text/html": [
              "\n",
              "  <div id=\"df-c7685573-0c51-4dfd-8e1b-9349af3cec4b\" class=\"colab-df-container\">\n",
              "    <div>\n",
              "<style scoped>\n",
              "    .dataframe tbody tr th:only-of-type {\n",
              "        vertical-align: middle;\n",
              "    }\n",
              "\n",
              "    .dataframe tbody tr th {\n",
              "        vertical-align: top;\n",
              "    }\n",
              "\n",
              "    .dataframe thead th {\n",
              "        text-align: right;\n",
              "    }\n",
              "</style>\n",
              "<table border=\"1\" class=\"dataframe\">\n",
              "  <thead>\n",
              "    <tr style=\"text-align: right;\">\n",
              "      <th></th>\n",
              "      <th>timestamp</th>\n",
              "      <th>activityID</th>\n",
              "      <th>heartrate</th>\n",
              "      <th>handTemperature</th>\n",
              "      <th>handAcc16_1</th>\n",
              "      <th>handAcc16_2</th>\n",
              "      <th>handAcc16_3</th>\n",
              "      <th>handAcc6_1</th>\n",
              "      <th>handAcc6_2</th>\n",
              "      <th>handAcc6_3</th>\n",
              "      <th>...</th>\n",
              "      <th>ankleGyro2</th>\n",
              "      <th>ankleGyro3</th>\n",
              "      <th>ankleMagne1</th>\n",
              "      <th>ankleMagne2</th>\n",
              "      <th>ankleMagne3</th>\n",
              "      <th>ankleOrientation1</th>\n",
              "      <th>ankleOrientation2</th>\n",
              "      <th>ankleOrientation3</th>\n",
              "      <th>ankleOrientation4</th>\n",
              "      <th>subject_id</th>\n",
              "    </tr>\n",
              "  </thead>\n",
              "  <tbody>\n",
              "    <tr>\n",
              "      <th>2932</th>\n",
              "      <td>37.70</td>\n",
              "      <td>1</td>\n",
              "      <td>100.0</td>\n",
              "      <td>30.3750</td>\n",
              "      <td>2.301060</td>\n",
              "      <td>7.25857</td>\n",
              "      <td>6.09259</td>\n",
              "      <td>2.207200</td>\n",
              "      <td>7.24042</td>\n",
              "      <td>5.95555</td>\n",
              "      <td>...</td>\n",
              "      <td>-0.048878</td>\n",
              "      <td>-0.006328</td>\n",
              "      <td>-60.2040</td>\n",
              "      <td>-37.1225</td>\n",
              "      <td>-57.8847</td>\n",
              "      <td>1.000000</td>\n",
              "      <td>0.000000</td>\n",
              "      <td>0.000000</td>\n",
              "      <td>0.000000</td>\n",
              "      <td>1</td>\n",
              "    </tr>\n",
              "    <tr>\n",
              "      <th>2943</th>\n",
              "      <td>37.81</td>\n",
              "      <td>1</td>\n",
              "      <td>100.0</td>\n",
              "      <td>30.3750</td>\n",
              "      <td>2.246150</td>\n",
              "      <td>7.48180</td>\n",
              "      <td>5.55219</td>\n",
              "      <td>2.251300</td>\n",
              "      <td>7.40595</td>\n",
              "      <td>5.65313</td>\n",
              "      <td>...</td>\n",
              "      <td>-0.017912</td>\n",
              "      <td>0.015243</td>\n",
              "      <td>-60.7820</td>\n",
              "      <td>-36.2116</td>\n",
              "      <td>-58.4891</td>\n",
              "      <td>1.000000</td>\n",
              "      <td>0.000000</td>\n",
              "      <td>0.000000</td>\n",
              "      <td>0.000000</td>\n",
              "      <td>1</td>\n",
              "    </tr>\n",
              "    <tr>\n",
              "      <th>2954</th>\n",
              "      <td>37.92</td>\n",
              "      <td>1</td>\n",
              "      <td>100.0</td>\n",
              "      <td>30.3750</td>\n",
              "      <td>2.300000</td>\n",
              "      <td>7.10681</td>\n",
              "      <td>6.09309</td>\n",
              "      <td>2.346130</td>\n",
              "      <td>7.46611</td>\n",
              "      <td>6.12103</td>\n",
              "      <td>...</td>\n",
              "      <td>-0.011798</td>\n",
              "      <td>0.011387</td>\n",
              "      <td>-61.4531</td>\n",
              "      <td>-36.2983</td>\n",
              "      <td>-58.4845</td>\n",
              "      <td>1.000000</td>\n",
              "      <td>0.000000</td>\n",
              "      <td>0.000000</td>\n",
              "      <td>0.000000</td>\n",
              "      <td>1</td>\n",
              "    </tr>\n",
              "    <tr>\n",
              "      <th>2965</th>\n",
              "      <td>38.03</td>\n",
              "      <td>1</td>\n",
              "      <td>100.0</td>\n",
              "      <td>30.3750</td>\n",
              "      <td>2.494550</td>\n",
              "      <td>7.52335</td>\n",
              "      <td>6.17157</td>\n",
              "      <td>2.591060</td>\n",
              "      <td>7.76653</td>\n",
              "      <td>6.27112</td>\n",
              "      <td>...</td>\n",
              "      <td>-0.009233</td>\n",
              "      <td>0.005823</td>\n",
              "      <td>-62.0065</td>\n",
              "      <td>-36.7217</td>\n",
              "      <td>-58.3608</td>\n",
              "      <td>1.000000</td>\n",
              "      <td>0.000000</td>\n",
              "      <td>0.000000</td>\n",
              "      <td>0.000000</td>\n",
              "      <td>1</td>\n",
              "    </tr>\n",
              "    <tr>\n",
              "      <th>2976</th>\n",
              "      <td>38.14</td>\n",
              "      <td>1</td>\n",
              "      <td>101.0</td>\n",
              "      <td>30.3750</td>\n",
              "      <td>2.716540</td>\n",
              "      <td>8.30596</td>\n",
              "      <td>4.78671</td>\n",
              "      <td>2.595960</td>\n",
              "      <td>7.94641</td>\n",
              "      <td>4.86635</td>\n",
              "      <td>...</td>\n",
              "      <td>-0.042562</td>\n",
              "      <td>-0.009289</td>\n",
              "      <td>-60.4311</td>\n",
              "      <td>-37.5412</td>\n",
              "      <td>-59.0013</td>\n",
              "      <td>1.000000</td>\n",
              "      <td>0.000000</td>\n",
              "      <td>0.000000</td>\n",
              "      <td>0.000000</td>\n",
              "      <td>1</td>\n",
              "    </tr>\n",
              "    <tr>\n",
              "      <th>...</th>\n",
              "      <td>...</td>\n",
              "      <td>...</td>\n",
              "      <td>...</td>\n",
              "      <td>...</td>\n",
              "      <td>...</td>\n",
              "      <td>...</td>\n",
              "      <td>...</td>\n",
              "      <td>...</td>\n",
              "      <td>...</td>\n",
              "      <td>...</td>\n",
              "      <td>...</td>\n",
              "      <td>...</td>\n",
              "      <td>...</td>\n",
              "      <td>...</td>\n",
              "      <td>...</td>\n",
              "      <td>...</td>\n",
              "      <td>...</td>\n",
              "      <td>...</td>\n",
              "      <td>...</td>\n",
              "      <td>...</td>\n",
              "      <td>...</td>\n",
              "    </tr>\n",
              "    <tr>\n",
              "      <th>2818402</th>\n",
              "      <td>3629.66</td>\n",
              "      <td>5</td>\n",
              "      <td>195.0</td>\n",
              "      <td>30.8125</td>\n",
              "      <td>0.565086</td>\n",
              "      <td>2.59595</td>\n",
              "      <td>9.27677</td>\n",
              "      <td>0.660681</td>\n",
              "      <td>2.70904</td>\n",
              "      <td>9.44024</td>\n",
              "      <td>...</td>\n",
              "      <td>-0.002287</td>\n",
              "      <td>-0.017737</td>\n",
              "      <td>-17.6912</td>\n",
              "      <td>12.0079</td>\n",
              "      <td>26.5782</td>\n",
              "      <td>0.164776</td>\n",
              "      <td>0.798149</td>\n",
              "      <td>0.227263</td>\n",
              "      <td>0.533065</td>\n",
              "      <td>8</td>\n",
              "    </tr>\n",
              "    <tr>\n",
              "      <th>2818413</th>\n",
              "      <td>3629.77</td>\n",
              "      <td>5</td>\n",
              "      <td>195.0</td>\n",
              "      <td>30.8125</td>\n",
              "      <td>0.570697</td>\n",
              "      <td>2.82459</td>\n",
              "      <td>9.39155</td>\n",
              "      <td>0.495537</td>\n",
              "      <td>2.75557</td>\n",
              "      <td>9.47051</td>\n",
              "      <td>...</td>\n",
              "      <td>-0.007246</td>\n",
              "      <td>0.007512</td>\n",
              "      <td>-17.6928</td>\n",
              "      <td>12.0076</td>\n",
              "      <td>26.4364</td>\n",
              "      <td>0.166393</td>\n",
              "      <td>0.797223</td>\n",
              "      <td>0.228965</td>\n",
              "      <td>0.533221</td>\n",
              "      <td>8</td>\n",
              "    </tr>\n",
              "    <tr>\n",
              "      <th>2818423</th>\n",
              "      <td>3629.87</td>\n",
              "      <td>5</td>\n",
              "      <td>195.0</td>\n",
              "      <td>30.8125</td>\n",
              "      <td>0.756704</td>\n",
              "      <td>2.78452</td>\n",
              "      <td>9.31749</td>\n",
              "      <td>0.781122</td>\n",
              "      <td>2.72325</td>\n",
              "      <td>9.40988</td>\n",
              "      <td>...</td>\n",
              "      <td>0.003818</td>\n",
              "      <td>0.017649</td>\n",
              "      <td>-17.9459</td>\n",
              "      <td>11.7619</td>\n",
              "      <td>26.1521</td>\n",
              "      <td>0.166735</td>\n",
              "      <td>0.797039</td>\n",
              "      <td>0.229771</td>\n",
              "      <td>0.533041</td>\n",
              "      <td>8</td>\n",
              "    </tr>\n",
              "    <tr>\n",
              "      <th>2818435</th>\n",
              "      <td>3629.99</td>\n",
              "      <td>5</td>\n",
              "      <td>195.0</td>\n",
              "      <td>30.8125</td>\n",
              "      <td>0.530504</td>\n",
              "      <td>2.67279</td>\n",
              "      <td>9.35297</td>\n",
              "      <td>0.540382</td>\n",
              "      <td>2.87591</td>\n",
              "      <td>9.30409</td>\n",
              "      <td>...</td>\n",
              "      <td>-0.003649</td>\n",
              "      <td>-0.002610</td>\n",
              "      <td>-18.2103</td>\n",
              "      <td>12.4200</td>\n",
              "      <td>26.5759</td>\n",
              "      <td>0.168936</td>\n",
              "      <td>0.795763</td>\n",
              "      <td>0.231222</td>\n",
              "      <td>0.533628</td>\n",
              "      <td>8</td>\n",
              "    </tr>\n",
              "    <tr>\n",
              "      <th>2818445</th>\n",
              "      <td>3630.09</td>\n",
              "      <td>5</td>\n",
              "      <td>195.0</td>\n",
              "      <td>30.8125</td>\n",
              "      <td>0.644139</td>\n",
              "      <td>2.70986</td>\n",
              "      <td>9.35454</td>\n",
              "      <td>0.630675</td>\n",
              "      <td>2.81489</td>\n",
              "      <td>9.34943</td>\n",
              "      <td>...</td>\n",
              "      <td>-0.009639</td>\n",
              "      <td>0.006757</td>\n",
              "      <td>-18.0830</td>\n",
              "      <td>12.2841</td>\n",
              "      <td>26.2929</td>\n",
              "      <td>0.170868</td>\n",
              "      <td>0.795143</td>\n",
              "      <td>0.232727</td>\n",
              "      <td>0.533282</td>\n",
              "      <td>8</td>\n",
              "    </tr>\n",
              "  </tbody>\n",
              "</table>\n",
              "<p>118516 rows × 55 columns</p>\n",
              "</div>\n",
              "    <div class=\"colab-df-buttons\">\n",
              "\n",
              "  <div class=\"colab-df-container\">\n",
              "    <button class=\"colab-df-convert\" onclick=\"convertToInteractive('df-c7685573-0c51-4dfd-8e1b-9349af3cec4b')\"\n",
              "            title=\"Convert this dataframe to an interactive table.\"\n",
              "            style=\"display:none;\">\n",
              "\n",
              "  <svg xmlns=\"http://www.w3.org/2000/svg\" height=\"24px\" viewBox=\"0 -960 960 960\">\n",
              "    <path d=\"M120-120v-720h720v720H120Zm60-500h600v-160H180v160Zm220 220h160v-160H400v160Zm0 220h160v-160H400v160ZM180-400h160v-160H180v160Zm440 0h160v-160H620v160ZM180-180h160v-160H180v160Zm440 0h160v-160H620v160Z\"/>\n",
              "  </svg>\n",
              "    </button>\n",
              "\n",
              "  <style>\n",
              "    .colab-df-container {\n",
              "      display:flex;\n",
              "      gap: 12px;\n",
              "    }\n",
              "\n",
              "    .colab-df-convert {\n",
              "      background-color: #E8F0FE;\n",
              "      border: none;\n",
              "      border-radius: 50%;\n",
              "      cursor: pointer;\n",
              "      display: none;\n",
              "      fill: #1967D2;\n",
              "      height: 32px;\n",
              "      padding: 0 0 0 0;\n",
              "      width: 32px;\n",
              "    }\n",
              "\n",
              "    .colab-df-convert:hover {\n",
              "      background-color: #E2EBFA;\n",
              "      box-shadow: 0px 1px 2px rgba(60, 64, 67, 0.3), 0px 1px 3px 1px rgba(60, 64, 67, 0.15);\n",
              "      fill: #174EA6;\n",
              "    }\n",
              "\n",
              "    .colab-df-buttons div {\n",
              "      margin-bottom: 4px;\n",
              "    }\n",
              "\n",
              "    [theme=dark] .colab-df-convert {\n",
              "      background-color: #3B4455;\n",
              "      fill: #D2E3FC;\n",
              "    }\n",
              "\n",
              "    [theme=dark] .colab-df-convert:hover {\n",
              "      background-color: #434B5C;\n",
              "      box-shadow: 0px 1px 3px 1px rgba(0, 0, 0, 0.15);\n",
              "      filter: drop-shadow(0px 1px 2px rgba(0, 0, 0, 0.3));\n",
              "      fill: #FFFFFF;\n",
              "    }\n",
              "  </style>\n",
              "\n",
              "    <script>\n",
              "      const buttonEl =\n",
              "        document.querySelector('#df-c7685573-0c51-4dfd-8e1b-9349af3cec4b button.colab-df-convert');\n",
              "      buttonEl.style.display =\n",
              "        google.colab.kernel.accessAllowed ? 'block' : 'none';\n",
              "\n",
              "      async function convertToInteractive(key) {\n",
              "        const element = document.querySelector('#df-c7685573-0c51-4dfd-8e1b-9349af3cec4b');\n",
              "        const dataTable =\n",
              "          await google.colab.kernel.invokeFunction('convertToInteractive',\n",
              "                                                    [key], {});\n",
              "        if (!dataTable) return;\n",
              "\n",
              "        const docLinkHtml = 'Like what you see? Visit the ' +\n",
              "          '<a target=\"_blank\" href=https://colab.research.google.com/notebooks/data_table.ipynb>data table notebook</a>'\n",
              "          + ' to learn more about interactive tables.';\n",
              "        element.innerHTML = '';\n",
              "        dataTable['output_type'] = 'display_data';\n",
              "        await google.colab.output.renderOutput(dataTable, element);\n",
              "        const docLink = document.createElement('div');\n",
              "        docLink.innerHTML = docLinkHtml;\n",
              "        element.appendChild(docLink);\n",
              "      }\n",
              "    </script>\n",
              "  </div>\n",
              "\n",
              "\n",
              "<div id=\"df-5ad92ec8-1089-4b08-921e-7d64e8d43ecb\">\n",
              "  <button class=\"colab-df-quickchart\" onclick=\"quickchart('df-5ad92ec8-1089-4b08-921e-7d64e8d43ecb')\"\n",
              "            title=\"Suggest charts.\"\n",
              "            style=\"display:none;\">\n",
              "\n",
              "<svg xmlns=\"http://www.w3.org/2000/svg\" height=\"24px\"viewBox=\"0 0 24 24\"\n",
              "     width=\"24px\">\n",
              "    <g>\n",
              "        <path d=\"M19 3H5c-1.1 0-2 .9-2 2v14c0 1.1.9 2 2 2h14c1.1 0 2-.9 2-2V5c0-1.1-.9-2-2-2zM9 17H7v-7h2v7zm4 0h-2V7h2v10zm4 0h-2v-4h2v4z\"/>\n",
              "    </g>\n",
              "</svg>\n",
              "  </button>\n",
              "\n",
              "<style>\n",
              "  .colab-df-quickchart {\n",
              "      --bg-color: #E8F0FE;\n",
              "      --fill-color: #1967D2;\n",
              "      --hover-bg-color: #E2EBFA;\n",
              "      --hover-fill-color: #174EA6;\n",
              "      --disabled-fill-color: #AAA;\n",
              "      --disabled-bg-color: #DDD;\n",
              "  }\n",
              "\n",
              "  [theme=dark] .colab-df-quickchart {\n",
              "      --bg-color: #3B4455;\n",
              "      --fill-color: #D2E3FC;\n",
              "      --hover-bg-color: #434B5C;\n",
              "      --hover-fill-color: #FFFFFF;\n",
              "      --disabled-bg-color: #3B4455;\n",
              "      --disabled-fill-color: #666;\n",
              "  }\n",
              "\n",
              "  .colab-df-quickchart {\n",
              "    background-color: var(--bg-color);\n",
              "    border: none;\n",
              "    border-radius: 50%;\n",
              "    cursor: pointer;\n",
              "    display: none;\n",
              "    fill: var(--fill-color);\n",
              "    height: 32px;\n",
              "    padding: 0;\n",
              "    width: 32px;\n",
              "  }\n",
              "\n",
              "  .colab-df-quickchart:hover {\n",
              "    background-color: var(--hover-bg-color);\n",
              "    box-shadow: 0 1px 2px rgba(60, 64, 67, 0.3), 0 1px 3px 1px rgba(60, 64, 67, 0.15);\n",
              "    fill: var(--button-hover-fill-color);\n",
              "  }\n",
              "\n",
              "  .colab-df-quickchart-complete:disabled,\n",
              "  .colab-df-quickchart-complete:disabled:hover {\n",
              "    background-color: var(--disabled-bg-color);\n",
              "    fill: var(--disabled-fill-color);\n",
              "    box-shadow: none;\n",
              "  }\n",
              "\n",
              "  .colab-df-spinner {\n",
              "    border: 2px solid var(--fill-color);\n",
              "    border-color: transparent;\n",
              "    border-bottom-color: var(--fill-color);\n",
              "    animation:\n",
              "      spin 1s steps(1) infinite;\n",
              "  }\n",
              "\n",
              "  @keyframes spin {\n",
              "    0% {\n",
              "      border-color: transparent;\n",
              "      border-bottom-color: var(--fill-color);\n",
              "      border-left-color: var(--fill-color);\n",
              "    }\n",
              "    20% {\n",
              "      border-color: transparent;\n",
              "      border-left-color: var(--fill-color);\n",
              "      border-top-color: var(--fill-color);\n",
              "    }\n",
              "    30% {\n",
              "      border-color: transparent;\n",
              "      border-left-color: var(--fill-color);\n",
              "      border-top-color: var(--fill-color);\n",
              "      border-right-color: var(--fill-color);\n",
              "    }\n",
              "    40% {\n",
              "      border-color: transparent;\n",
              "      border-right-color: var(--fill-color);\n",
              "      border-top-color: var(--fill-color);\n",
              "    }\n",
              "    60% {\n",
              "      border-color: transparent;\n",
              "      border-right-color: var(--fill-color);\n",
              "    }\n",
              "    80% {\n",
              "      border-color: transparent;\n",
              "      border-right-color: var(--fill-color);\n",
              "      border-bottom-color: var(--fill-color);\n",
              "    }\n",
              "    90% {\n",
              "      border-color: transparent;\n",
              "      border-bottom-color: var(--fill-color);\n",
              "    }\n",
              "  }\n",
              "</style>\n",
              "\n",
              "  <script>\n",
              "    async function quickchart(key) {\n",
              "      const quickchartButtonEl =\n",
              "        document.querySelector('#' + key + ' button');\n",
              "      quickchartButtonEl.disabled = true;  // To prevent multiple clicks.\n",
              "      quickchartButtonEl.classList.add('colab-df-spinner');\n",
              "      try {\n",
              "        const charts = await google.colab.kernel.invokeFunction(\n",
              "            'suggestCharts', [key], {});\n",
              "      } catch (error) {\n",
              "        console.error('Error during call to suggestCharts:', error);\n",
              "      }\n",
              "      quickchartButtonEl.classList.remove('colab-df-spinner');\n",
              "      quickchartButtonEl.classList.add('colab-df-quickchart-complete');\n",
              "    }\n",
              "    (() => {\n",
              "      let quickchartButtonEl =\n",
              "        document.querySelector('#df-5ad92ec8-1089-4b08-921e-7d64e8d43ecb button');\n",
              "      quickchartButtonEl.style.display =\n",
              "        google.colab.kernel.accessAllowed ? 'block' : 'none';\n",
              "    })();\n",
              "  </script>\n",
              "</div>\n",
              "    </div>\n",
              "  </div>\n"
            ]
          },
          "metadata": {},
          "execution_count": 601
        }
      ]
    },
    {
      "cell_type": "code",
      "source": [
        "df.columns"
      ],
      "metadata": {
        "colab": {
          "base_uri": "https://localhost:8080/"
        },
        "id": "uA2p1p6ppDUH",
        "outputId": "ca830d0a-9942-42ad-8ff3-cf9e06bc981f"
      },
      "execution_count": 602,
      "outputs": [
        {
          "output_type": "execute_result",
          "data": {
            "text/plain": [
              "Index(['timestamp', 'activityID', 'heartrate', 'handTemperature',\n",
              "       'handAcc16_1', 'handAcc16_2', 'handAcc16_3', 'handAcc6_1', 'handAcc6_2',\n",
              "       'handAcc6_3', 'handGyro1', 'handGyro2', 'handGyro3', 'handMagne1',\n",
              "       'handMagne2', 'handMagne3', 'handOrientation1', 'handOrientation2',\n",
              "       'handOrientation3', 'handOrientation4', 'chestTemperature',\n",
              "       'chestAcc16_1', 'chestAcc16_2', 'chestAcc16_3', 'chestAcc6_1',\n",
              "       'chestAcc6_2', 'chestAcc6_3', 'chestGyro1', 'chestGyro2', 'chestGyro3',\n",
              "       'chestMagne1', 'chestMagne2', 'chestMagne3', 'chestOrientation1',\n",
              "       'chestOrientation2', 'chestOrientation3', 'chestOrientation4',\n",
              "       'ankleTemperature', 'ankleAcc16_1', 'ankleAcc16_2', 'ankleAcc16_3',\n",
              "       'ankleAcc6_1', 'ankleAcc6_2', 'ankleAcc6_3', 'ankleGyro1', 'ankleGyro2',\n",
              "       'ankleGyro3', 'ankleMagne1', 'ankleMagne2', 'ankleMagne3',\n",
              "       'ankleOrientation1', 'ankleOrientation2', 'ankleOrientation3',\n",
              "       'ankleOrientation4', 'subject_id'],\n",
              "      dtype='object')"
            ]
          },
          "metadata": {},
          "execution_count": 602
        }
      ]
    },
    {
      "cell_type": "code",
      "source": [
        "label = LabelEncoder()\n",
        "df['activityID'] = label.fit_transform(df['activityID'])\n",
        "df.head()"
      ],
      "metadata": {
        "colab": {
          "base_uri": "https://localhost:8080/",
          "height": 256
        },
        "id": "9Hg5O_h25hkB",
        "outputId": "3bd342e1-0c9d-492e-90f7-f0051327518b"
      },
      "execution_count": 603,
      "outputs": [
        {
          "output_type": "execute_result",
          "data": {
            "text/plain": [
              "      timestamp  activityID  heartrate  handTemperature  handAcc16_1  \\\n",
              "2932      37.70           0      100.0           30.375      2.30106   \n",
              "2943      37.81           0      100.0           30.375      2.24615   \n",
              "2954      37.92           0      100.0           30.375      2.30000   \n",
              "2965      38.03           0      100.0           30.375      2.49455   \n",
              "2976      38.14           0      101.0           30.375      2.71654   \n",
              "\n",
              "      handAcc16_2  handAcc16_3  handAcc6_1  handAcc6_2  handAcc6_3  ...  \\\n",
              "2932      7.25857      6.09259     2.20720     7.24042     5.95555  ...   \n",
              "2943      7.48180      5.55219     2.25130     7.40595     5.65313  ...   \n",
              "2954      7.10681      6.09309     2.34613     7.46611     6.12103  ...   \n",
              "2965      7.52335      6.17157     2.59106     7.76653     6.27112  ...   \n",
              "2976      8.30596      4.78671     2.59596     7.94641     4.86635  ...   \n",
              "\n",
              "      ankleGyro2  ankleGyro3  ankleMagne1  ankleMagne2  ankleMagne3  \\\n",
              "2932   -0.048878   -0.006328     -60.2040     -37.1225     -57.8847   \n",
              "2943   -0.017912    0.015243     -60.7820     -36.2116     -58.4891   \n",
              "2954   -0.011798    0.011387     -61.4531     -36.2983     -58.4845   \n",
              "2965   -0.009233    0.005823     -62.0065     -36.7217     -58.3608   \n",
              "2976   -0.042562   -0.009289     -60.4311     -37.5412     -59.0013   \n",
              "\n",
              "      ankleOrientation1  ankleOrientation2  ankleOrientation3  \\\n",
              "2932                1.0                0.0                0.0   \n",
              "2943                1.0                0.0                0.0   \n",
              "2954                1.0                0.0                0.0   \n",
              "2965                1.0                0.0                0.0   \n",
              "2976                1.0                0.0                0.0   \n",
              "\n",
              "      ankleOrientation4  subject_id  \n",
              "2932                0.0           1  \n",
              "2943                0.0           1  \n",
              "2954                0.0           1  \n",
              "2965                0.0           1  \n",
              "2976                0.0           1  \n",
              "\n",
              "[5 rows x 55 columns]"
            ],
            "text/html": [
              "\n",
              "  <div id=\"df-16b1b29f-125d-447a-95b5-d31e694f2127\" class=\"colab-df-container\">\n",
              "    <div>\n",
              "<style scoped>\n",
              "    .dataframe tbody tr th:only-of-type {\n",
              "        vertical-align: middle;\n",
              "    }\n",
              "\n",
              "    .dataframe tbody tr th {\n",
              "        vertical-align: top;\n",
              "    }\n",
              "\n",
              "    .dataframe thead th {\n",
              "        text-align: right;\n",
              "    }\n",
              "</style>\n",
              "<table border=\"1\" class=\"dataframe\">\n",
              "  <thead>\n",
              "    <tr style=\"text-align: right;\">\n",
              "      <th></th>\n",
              "      <th>timestamp</th>\n",
              "      <th>activityID</th>\n",
              "      <th>heartrate</th>\n",
              "      <th>handTemperature</th>\n",
              "      <th>handAcc16_1</th>\n",
              "      <th>handAcc16_2</th>\n",
              "      <th>handAcc16_3</th>\n",
              "      <th>handAcc6_1</th>\n",
              "      <th>handAcc6_2</th>\n",
              "      <th>handAcc6_3</th>\n",
              "      <th>...</th>\n",
              "      <th>ankleGyro2</th>\n",
              "      <th>ankleGyro3</th>\n",
              "      <th>ankleMagne1</th>\n",
              "      <th>ankleMagne2</th>\n",
              "      <th>ankleMagne3</th>\n",
              "      <th>ankleOrientation1</th>\n",
              "      <th>ankleOrientation2</th>\n",
              "      <th>ankleOrientation3</th>\n",
              "      <th>ankleOrientation4</th>\n",
              "      <th>subject_id</th>\n",
              "    </tr>\n",
              "  </thead>\n",
              "  <tbody>\n",
              "    <tr>\n",
              "      <th>2932</th>\n",
              "      <td>37.70</td>\n",
              "      <td>0</td>\n",
              "      <td>100.0</td>\n",
              "      <td>30.375</td>\n",
              "      <td>2.30106</td>\n",
              "      <td>7.25857</td>\n",
              "      <td>6.09259</td>\n",
              "      <td>2.20720</td>\n",
              "      <td>7.24042</td>\n",
              "      <td>5.95555</td>\n",
              "      <td>...</td>\n",
              "      <td>-0.048878</td>\n",
              "      <td>-0.006328</td>\n",
              "      <td>-60.2040</td>\n",
              "      <td>-37.1225</td>\n",
              "      <td>-57.8847</td>\n",
              "      <td>1.0</td>\n",
              "      <td>0.0</td>\n",
              "      <td>0.0</td>\n",
              "      <td>0.0</td>\n",
              "      <td>1</td>\n",
              "    </tr>\n",
              "    <tr>\n",
              "      <th>2943</th>\n",
              "      <td>37.81</td>\n",
              "      <td>0</td>\n",
              "      <td>100.0</td>\n",
              "      <td>30.375</td>\n",
              "      <td>2.24615</td>\n",
              "      <td>7.48180</td>\n",
              "      <td>5.55219</td>\n",
              "      <td>2.25130</td>\n",
              "      <td>7.40595</td>\n",
              "      <td>5.65313</td>\n",
              "      <td>...</td>\n",
              "      <td>-0.017912</td>\n",
              "      <td>0.015243</td>\n",
              "      <td>-60.7820</td>\n",
              "      <td>-36.2116</td>\n",
              "      <td>-58.4891</td>\n",
              "      <td>1.0</td>\n",
              "      <td>0.0</td>\n",
              "      <td>0.0</td>\n",
              "      <td>0.0</td>\n",
              "      <td>1</td>\n",
              "    </tr>\n",
              "    <tr>\n",
              "      <th>2954</th>\n",
              "      <td>37.92</td>\n",
              "      <td>0</td>\n",
              "      <td>100.0</td>\n",
              "      <td>30.375</td>\n",
              "      <td>2.30000</td>\n",
              "      <td>7.10681</td>\n",
              "      <td>6.09309</td>\n",
              "      <td>2.34613</td>\n",
              "      <td>7.46611</td>\n",
              "      <td>6.12103</td>\n",
              "      <td>...</td>\n",
              "      <td>-0.011798</td>\n",
              "      <td>0.011387</td>\n",
              "      <td>-61.4531</td>\n",
              "      <td>-36.2983</td>\n",
              "      <td>-58.4845</td>\n",
              "      <td>1.0</td>\n",
              "      <td>0.0</td>\n",
              "      <td>0.0</td>\n",
              "      <td>0.0</td>\n",
              "      <td>1</td>\n",
              "    </tr>\n",
              "    <tr>\n",
              "      <th>2965</th>\n",
              "      <td>38.03</td>\n",
              "      <td>0</td>\n",
              "      <td>100.0</td>\n",
              "      <td>30.375</td>\n",
              "      <td>2.49455</td>\n",
              "      <td>7.52335</td>\n",
              "      <td>6.17157</td>\n",
              "      <td>2.59106</td>\n",
              "      <td>7.76653</td>\n",
              "      <td>6.27112</td>\n",
              "      <td>...</td>\n",
              "      <td>-0.009233</td>\n",
              "      <td>0.005823</td>\n",
              "      <td>-62.0065</td>\n",
              "      <td>-36.7217</td>\n",
              "      <td>-58.3608</td>\n",
              "      <td>1.0</td>\n",
              "      <td>0.0</td>\n",
              "      <td>0.0</td>\n",
              "      <td>0.0</td>\n",
              "      <td>1</td>\n",
              "    </tr>\n",
              "    <tr>\n",
              "      <th>2976</th>\n",
              "      <td>38.14</td>\n",
              "      <td>0</td>\n",
              "      <td>101.0</td>\n",
              "      <td>30.375</td>\n",
              "      <td>2.71654</td>\n",
              "      <td>8.30596</td>\n",
              "      <td>4.78671</td>\n",
              "      <td>2.59596</td>\n",
              "      <td>7.94641</td>\n",
              "      <td>4.86635</td>\n",
              "      <td>...</td>\n",
              "      <td>-0.042562</td>\n",
              "      <td>-0.009289</td>\n",
              "      <td>-60.4311</td>\n",
              "      <td>-37.5412</td>\n",
              "      <td>-59.0013</td>\n",
              "      <td>1.0</td>\n",
              "      <td>0.0</td>\n",
              "      <td>0.0</td>\n",
              "      <td>0.0</td>\n",
              "      <td>1</td>\n",
              "    </tr>\n",
              "  </tbody>\n",
              "</table>\n",
              "<p>5 rows × 55 columns</p>\n",
              "</div>\n",
              "    <div class=\"colab-df-buttons\">\n",
              "\n",
              "  <div class=\"colab-df-container\">\n",
              "    <button class=\"colab-df-convert\" onclick=\"convertToInteractive('df-16b1b29f-125d-447a-95b5-d31e694f2127')\"\n",
              "            title=\"Convert this dataframe to an interactive table.\"\n",
              "            style=\"display:none;\">\n",
              "\n",
              "  <svg xmlns=\"http://www.w3.org/2000/svg\" height=\"24px\" viewBox=\"0 -960 960 960\">\n",
              "    <path d=\"M120-120v-720h720v720H120Zm60-500h600v-160H180v160Zm220 220h160v-160H400v160Zm0 220h160v-160H400v160ZM180-400h160v-160H180v160Zm440 0h160v-160H620v160ZM180-180h160v-160H180v160Zm440 0h160v-160H620v160Z\"/>\n",
              "  </svg>\n",
              "    </button>\n",
              "\n",
              "  <style>\n",
              "    .colab-df-container {\n",
              "      display:flex;\n",
              "      gap: 12px;\n",
              "    }\n",
              "\n",
              "    .colab-df-convert {\n",
              "      background-color: #E8F0FE;\n",
              "      border: none;\n",
              "      border-radius: 50%;\n",
              "      cursor: pointer;\n",
              "      display: none;\n",
              "      fill: #1967D2;\n",
              "      height: 32px;\n",
              "      padding: 0 0 0 0;\n",
              "      width: 32px;\n",
              "    }\n",
              "\n",
              "    .colab-df-convert:hover {\n",
              "      background-color: #E2EBFA;\n",
              "      box-shadow: 0px 1px 2px rgba(60, 64, 67, 0.3), 0px 1px 3px 1px rgba(60, 64, 67, 0.15);\n",
              "      fill: #174EA6;\n",
              "    }\n",
              "\n",
              "    .colab-df-buttons div {\n",
              "      margin-bottom: 4px;\n",
              "    }\n",
              "\n",
              "    [theme=dark] .colab-df-convert {\n",
              "      background-color: #3B4455;\n",
              "      fill: #D2E3FC;\n",
              "    }\n",
              "\n",
              "    [theme=dark] .colab-df-convert:hover {\n",
              "      background-color: #434B5C;\n",
              "      box-shadow: 0px 1px 3px 1px rgba(0, 0, 0, 0.15);\n",
              "      filter: drop-shadow(0px 1px 2px rgba(0, 0, 0, 0.3));\n",
              "      fill: #FFFFFF;\n",
              "    }\n",
              "  </style>\n",
              "\n",
              "    <script>\n",
              "      const buttonEl =\n",
              "        document.querySelector('#df-16b1b29f-125d-447a-95b5-d31e694f2127 button.colab-df-convert');\n",
              "      buttonEl.style.display =\n",
              "        google.colab.kernel.accessAllowed ? 'block' : 'none';\n",
              "\n",
              "      async function convertToInteractive(key) {\n",
              "        const element = document.querySelector('#df-16b1b29f-125d-447a-95b5-d31e694f2127');\n",
              "        const dataTable =\n",
              "          await google.colab.kernel.invokeFunction('convertToInteractive',\n",
              "                                                    [key], {});\n",
              "        if (!dataTable) return;\n",
              "\n",
              "        const docLinkHtml = 'Like what you see? Visit the ' +\n",
              "          '<a target=\"_blank\" href=https://colab.research.google.com/notebooks/data_table.ipynb>data table notebook</a>'\n",
              "          + ' to learn more about interactive tables.';\n",
              "        element.innerHTML = '';\n",
              "        dataTable['output_type'] = 'display_data';\n",
              "        await google.colab.output.renderOutput(dataTable, element);\n",
              "        const docLink = document.createElement('div');\n",
              "        docLink.innerHTML = docLinkHtml;\n",
              "        element.appendChild(docLink);\n",
              "      }\n",
              "    </script>\n",
              "  </div>\n",
              "\n",
              "\n",
              "<div id=\"df-a2d5c5f3-0c1b-4f3f-ad8a-84c4b6b11520\">\n",
              "  <button class=\"colab-df-quickchart\" onclick=\"quickchart('df-a2d5c5f3-0c1b-4f3f-ad8a-84c4b6b11520')\"\n",
              "            title=\"Suggest charts.\"\n",
              "            style=\"display:none;\">\n",
              "\n",
              "<svg xmlns=\"http://www.w3.org/2000/svg\" height=\"24px\"viewBox=\"0 0 24 24\"\n",
              "     width=\"24px\">\n",
              "    <g>\n",
              "        <path d=\"M19 3H5c-1.1 0-2 .9-2 2v14c0 1.1.9 2 2 2h14c1.1 0 2-.9 2-2V5c0-1.1-.9-2-2-2zM9 17H7v-7h2v7zm4 0h-2V7h2v10zm4 0h-2v-4h2v4z\"/>\n",
              "    </g>\n",
              "</svg>\n",
              "  </button>\n",
              "\n",
              "<style>\n",
              "  .colab-df-quickchart {\n",
              "      --bg-color: #E8F0FE;\n",
              "      --fill-color: #1967D2;\n",
              "      --hover-bg-color: #E2EBFA;\n",
              "      --hover-fill-color: #174EA6;\n",
              "      --disabled-fill-color: #AAA;\n",
              "      --disabled-bg-color: #DDD;\n",
              "  }\n",
              "\n",
              "  [theme=dark] .colab-df-quickchart {\n",
              "      --bg-color: #3B4455;\n",
              "      --fill-color: #D2E3FC;\n",
              "      --hover-bg-color: #434B5C;\n",
              "      --hover-fill-color: #FFFFFF;\n",
              "      --disabled-bg-color: #3B4455;\n",
              "      --disabled-fill-color: #666;\n",
              "  }\n",
              "\n",
              "  .colab-df-quickchart {\n",
              "    background-color: var(--bg-color);\n",
              "    border: none;\n",
              "    border-radius: 50%;\n",
              "    cursor: pointer;\n",
              "    display: none;\n",
              "    fill: var(--fill-color);\n",
              "    height: 32px;\n",
              "    padding: 0;\n",
              "    width: 32px;\n",
              "  }\n",
              "\n",
              "  .colab-df-quickchart:hover {\n",
              "    background-color: var(--hover-bg-color);\n",
              "    box-shadow: 0 1px 2px rgba(60, 64, 67, 0.3), 0 1px 3px 1px rgba(60, 64, 67, 0.15);\n",
              "    fill: var(--button-hover-fill-color);\n",
              "  }\n",
              "\n",
              "  .colab-df-quickchart-complete:disabled,\n",
              "  .colab-df-quickchart-complete:disabled:hover {\n",
              "    background-color: var(--disabled-bg-color);\n",
              "    fill: var(--disabled-fill-color);\n",
              "    box-shadow: none;\n",
              "  }\n",
              "\n",
              "  .colab-df-spinner {\n",
              "    border: 2px solid var(--fill-color);\n",
              "    border-color: transparent;\n",
              "    border-bottom-color: var(--fill-color);\n",
              "    animation:\n",
              "      spin 1s steps(1) infinite;\n",
              "  }\n",
              "\n",
              "  @keyframes spin {\n",
              "    0% {\n",
              "      border-color: transparent;\n",
              "      border-bottom-color: var(--fill-color);\n",
              "      border-left-color: var(--fill-color);\n",
              "    }\n",
              "    20% {\n",
              "      border-color: transparent;\n",
              "      border-left-color: var(--fill-color);\n",
              "      border-top-color: var(--fill-color);\n",
              "    }\n",
              "    30% {\n",
              "      border-color: transparent;\n",
              "      border-left-color: var(--fill-color);\n",
              "      border-top-color: var(--fill-color);\n",
              "      border-right-color: var(--fill-color);\n",
              "    }\n",
              "    40% {\n",
              "      border-color: transparent;\n",
              "      border-right-color: var(--fill-color);\n",
              "      border-top-color: var(--fill-color);\n",
              "    }\n",
              "    60% {\n",
              "      border-color: transparent;\n",
              "      border-right-color: var(--fill-color);\n",
              "    }\n",
              "    80% {\n",
              "      border-color: transparent;\n",
              "      border-right-color: var(--fill-color);\n",
              "      border-bottom-color: var(--fill-color);\n",
              "    }\n",
              "    90% {\n",
              "      border-color: transparent;\n",
              "      border-bottom-color: var(--fill-color);\n",
              "    }\n",
              "  }\n",
              "</style>\n",
              "\n",
              "  <script>\n",
              "    async function quickchart(key) {\n",
              "      const quickchartButtonEl =\n",
              "        document.querySelector('#' + key + ' button');\n",
              "      quickchartButtonEl.disabled = true;  // To prevent multiple clicks.\n",
              "      quickchartButtonEl.classList.add('colab-df-spinner');\n",
              "      try {\n",
              "        const charts = await google.colab.kernel.invokeFunction(\n",
              "            'suggestCharts', [key], {});\n",
              "      } catch (error) {\n",
              "        console.error('Error during call to suggestCharts:', error);\n",
              "      }\n",
              "      quickchartButtonEl.classList.remove('colab-df-spinner');\n",
              "      quickchartButtonEl.classList.add('colab-df-quickchart-complete');\n",
              "    }\n",
              "    (() => {\n",
              "      let quickchartButtonEl =\n",
              "        document.querySelector('#df-a2d5c5f3-0c1b-4f3f-ad8a-84c4b6b11520 button');\n",
              "      quickchartButtonEl.style.display =\n",
              "        google.colab.kernel.accessAllowed ? 'block' : 'none';\n",
              "    })();\n",
              "  </script>\n",
              "</div>\n",
              "    </div>\n",
              "  </div>\n"
            ]
          },
          "metadata": {},
          "execution_count": 603
        }
      ]
    },
    {
      "cell_type": "code",
      "source": [
        "df['activityID'].value_counts()"
      ],
      "metadata": {
        "colab": {
          "base_uri": "https://localhost:8080/"
        },
        "id": "OJ1VW4ZEsgVJ",
        "outputId": "ad41d071-2d61-4f22-f922-9eaa5c5d7f4a"
      },
      "execution_count": 604,
      "outputs": [
        {
          "output_type": "execute_result",
          "data": {
            "text/plain": [
              "3    20998\n",
              "0    17575\n",
              "2    17256\n",
              "1    16881\n",
              "5    16857\n",
              "6    10699\n",
              "7     9585\n",
              "4     8665\n",
              "Name: activityID, dtype: int64"
            ]
          },
          "metadata": {},
          "execution_count": 604
        }
      ]
    },
    {
      "cell_type": "code",
      "source": [
        "#hand\n",
        "h_X=df[['handAcc16_1', 'handAcc16_2', 'handAcc16_3', 'handAcc6_1', 'handAcc6_2',\n",
        "       'handAcc6_3', 'handGyro1', 'handGyro2', 'handGyro3', 'handMagne1',\n",
        "       'handMagne2', 'handMagne3']]\n",
        "h_y=df['activityID']\n",
        "\n",
        "#chest\n",
        "c_X=df[['chestAcc16_1', 'chestAcc16_2', 'chestAcc16_3', 'chestAcc6_1',\n",
        "       'chestAcc6_2', 'chestAcc6_3', 'chestGyro1', 'chestGyro2', 'chestGyro3',\n",
        "       'chestMagne1', 'chestMagne2', 'chestMagne3']]\n",
        "c_y=df['activityID']"
      ],
      "metadata": {
        "id": "sgkWynEgrenx"
      },
      "execution_count": 605,
      "outputs": []
    },
    {
      "cell_type": "code",
      "source": [
        "#scale\n",
        "scaler = StandardScaler()\n",
        "\n",
        "h_X= scaler.fit_transform(h_X)\n",
        "\n",
        "scaled_h_X=pd.DataFrame(data=h_X, columns=['handAcc16_1', 'handAcc16_2', 'handAcc16_3', 'handAcc6_1', 'handAcc6_2',\n",
        "       'handAcc6_3', 'handGyro1', 'handGyro2', 'handGyro3', 'handMagne1',\n",
        "       'handMagne2', 'handMagne3'])\n",
        "scaled_h_X['label']=h_y.values\n",
        "\n",
        "\n",
        "\n",
        "c_X= scaler.fit_transform(c_X)\n",
        "\n",
        "scaled_c_X=pd.DataFrame(data=c_X, columns=['chestAcc16_1', 'chestAcc16_2', 'chestAcc16_3', 'chestAcc6_1',\n",
        "       'chestAcc6_2', 'chestAcc6_3', 'chestGyro1', 'chestGyro2', 'chestGyro3',\n",
        "       'chestMagne1', 'chestMagne2', 'chestMagne3'])\n",
        "\n",
        "scaled_c_X['label']=c_y.values"
      ],
      "metadata": {
        "id": "dWzi58QjvPEH"
      },
      "execution_count": 606,
      "outputs": []
    },
    {
      "cell_type": "code",
      "source": [
        "from sklearn.model_selection import train_test_split\n",
        "\n",
        "h_X_train, h_X_test, h_y_train, h_y_test = train_test_split(scaled_h_X,\n",
        "                                                    scaled_h_X['label'],\n",
        "                                                    test_size = 0.95,\n",
        "                                                    shuffle = True,\n",
        "                                                    random_state = 21)\n",
        "\n",
        "c_X_train, c_X_test, c_y_train, c_y_test = train_test_split(scaled_c_X,\n",
        "                                                    scaled_c_X['label'],\n",
        "                                                    test_size = 0.95,\n",
        "                                                    shuffle = True,\n",
        "                                                    random_state = 21)"
      ],
      "metadata": {
        "id": "CToNHBIDvNAb"
      },
      "execution_count": 607,
      "outputs": []
    },
    {
      "cell_type": "markdown",
      "source": [
        "##value_counts()"
      ],
      "metadata": {
        "id": "MPMiPO2hQreU"
      }
    },
    {
      "cell_type": "code",
      "source": [
        "h_X_train['label'].value_counts()"
      ],
      "metadata": {
        "colab": {
          "base_uri": "https://localhost:8080/"
        },
        "id": "99rWbbc8QR_r",
        "outputId": "28db80d4-6d6a-485e-f12e-fae594e44af4"
      },
      "execution_count": 608,
      "outputs": [
        {
          "output_type": "execute_result",
          "data": {
            "text/plain": [
              "3    1087\n",
              "2     876\n",
              "5     856\n",
              "0     842\n",
              "1     805\n",
              "6     539\n",
              "4     473\n",
              "7     447\n",
              "Name: label, dtype: int64"
            ]
          },
          "metadata": {},
          "execution_count": 608
        }
      ]
    },
    {
      "cell_type": "code",
      "source": [
        "h_X_test['label'].value_counts()"
      ],
      "metadata": {
        "colab": {
          "base_uri": "https://localhost:8080/"
        },
        "id": "GQsRdwd3QdsU",
        "outputId": "010b7836-cd3b-4913-e8aa-8dfff496974a"
      },
      "execution_count": 609,
      "outputs": [
        {
          "output_type": "execute_result",
          "data": {
            "text/plain": [
              "3    19911\n",
              "0    16733\n",
              "2    16380\n",
              "1    16076\n",
              "5    16001\n",
              "6    10160\n",
              "7     9138\n",
              "4     8192\n",
              "Name: label, dtype: int64"
            ]
          },
          "metadata": {},
          "execution_count": 609
        }
      ]
    },
    {
      "cell_type": "code",
      "source": [
        "c_X_train['label'].value_counts()"
      ],
      "metadata": {
        "colab": {
          "base_uri": "https://localhost:8080/"
        },
        "id": "QyMTSFrKQvvV",
        "outputId": "d4c76626-adc4-4433-b184-4f2f356fcdee"
      },
      "execution_count": 610,
      "outputs": [
        {
          "output_type": "execute_result",
          "data": {
            "text/plain": [
              "3    1087\n",
              "2     876\n",
              "5     856\n",
              "0     842\n",
              "1     805\n",
              "6     539\n",
              "4     473\n",
              "7     447\n",
              "Name: label, dtype: int64"
            ]
          },
          "metadata": {},
          "execution_count": 610
        }
      ]
    },
    {
      "cell_type": "code",
      "source": [
        "c_X_test['label'].value_counts()"
      ],
      "metadata": {
        "colab": {
          "base_uri": "https://localhost:8080/"
        },
        "id": "Tqc0bYz_Qw23",
        "outputId": "06179829-b32c-4397-ca47-977ca54bed08"
      },
      "execution_count": 611,
      "outputs": [
        {
          "output_type": "execute_result",
          "data": {
            "text/plain": [
              "3    19911\n",
              "0    16733\n",
              "2    16380\n",
              "1    16076\n",
              "5    16001\n",
              "6    10160\n",
              "7     9138\n",
              "4     8192\n",
              "Name: label, dtype: int64"
            ]
          },
          "metadata": {},
          "execution_count": 611
        }
      ]
    },
    {
      "cell_type": "markdown",
      "source": [
        "#Split"
      ],
      "metadata": {
        "id": "RXDEAV3PwjdT"
      }
    },
    {
      "cell_type": "code",
      "source": [
        "#TIME_STEPS : The length of the time segment.\n",
        "#STEP : Determines the amount of overlap between two consecutive time segments.\n",
        "\n",
        "\n",
        "TIME_PERIODS = 40\n",
        "\n",
        "STEP_DISTANCE = 10"
      ],
      "metadata": {
        "id": "2Dd4WNFb_XMq"
      },
      "execution_count": 612,
      "outputs": []
    },
    {
      "cell_type": "code",
      "source": [
        "print(h_X_train.shape, h_X_test.shape)\n",
        "print(h_y_train.shape, h_y_test.shape)"
      ],
      "metadata": {
        "colab": {
          "base_uri": "https://localhost:8080/"
        },
        "id": "6npoix-GR2hW",
        "outputId": "7c2aab6f-4995-4aae-eb9b-8e7808fcaec1"
      },
      "execution_count": 613,
      "outputs": [
        {
          "output_type": "stream",
          "name": "stdout",
          "text": [
            "(5925, 13) (112591, 13)\n",
            "(5925,) (112591,)\n"
          ]
        }
      ]
    },
    {
      "cell_type": "code",
      "source": [
        "from scipy import stats\n",
        "\n",
        "def create_dataset(X, y, time_steps=1, step=1):\n",
        "    Xs, ys = [], []\n",
        "    for i in range(0, len(X) - time_steps, step):\n",
        "        v = X.iloc[i:(i + time_steps)].values\n",
        "        labels = y.iloc[i: i + time_steps]\n",
        "        Xs.append(v)\n",
        "        ys.append(stats.mode(labels)[0])\n",
        "\n",
        "    return np.array(Xs), np.array(ys).reshape(-1, 1)\n",
        "\n",
        "TIME_STEPS = 1\n",
        "STEP = 1\n",
        "\n",
        "h_X_train, h_y_train=create_dataset(h_X_train[['handAcc16_1', 'handAcc16_2', 'handAcc16_3', 'handAcc6_1', 'handAcc6_2',\n",
        "       'handAcc6_3', 'handGyro1', 'handGyro2', 'handGyro3', 'handMagne1',\n",
        "       'handMagne2', 'handMagne3']], h_X_train.label, TIME_STEPS, STEP)\n",
        "\n",
        "h_X_test, h_y_test=create_dataset(h_X_test[['handAcc16_1', 'handAcc16_2', 'handAcc16_3', 'handAcc6_1', 'handAcc6_2',\n",
        "       'handAcc6_3', 'handGyro1', 'handGyro2', 'handGyro3', 'handMagne1',\n",
        "       'handMagne2', 'handMagne3']], h_X_test.label, TIME_STEPS, STEP)\n",
        "\n",
        "print(h_X_train.shape, h_y_train.shape)"
      ],
      "metadata": {
        "colab": {
          "base_uri": "https://localhost:8080/"
        },
        "id": "2hRSZ56Lwsz0",
        "outputId": "964f0c4d-e2a4-4f00-cd91-c329cf5c1dbe"
      },
      "execution_count": 614,
      "outputs": [
        {
          "output_type": "stream",
          "name": "stdout",
          "text": [
            "(5924, 1, 12) (5924, 1)\n"
          ]
        }
      ]
    },
    {
      "cell_type": "code",
      "source": [
        "c_X_train, c_y_train=create_dataset(c_X_train[['chestAcc16_1', 'chestAcc16_2', 'chestAcc16_3', 'chestAcc6_1',\n",
        "       'chestAcc6_2', 'chestAcc6_3', 'chestGyro1', 'chestGyro2', 'chestGyro3',\n",
        "       'chestMagne1', 'chestMagne2', 'chestMagne3']], c_X_train.label, TIME_STEPS, STEP)\n",
        "\n",
        "c_X_test, c_y_test=create_dataset(c_X_test[['chestAcc16_1', 'chestAcc16_2', 'chestAcc16_3', 'chestAcc6_1',\n",
        "       'chestAcc6_2', 'chestAcc6_3', 'chestGyro1', 'chestGyro2', 'chestGyro3',\n",
        "       'chestMagne1', 'chestMagne2', 'chestMagne3']], c_X_test.label, TIME_STEPS, STEP)\n",
        "\n",
        "print(c_X_train.shape, c_y_train.shape)"
      ],
      "metadata": {
        "id": "YkJiGZfMyqZ7",
        "colab": {
          "base_uri": "https://localhost:8080/"
        },
        "outputId": "de9f525d-1298-48a5-9e54-2755ffe1dbeb"
      },
      "execution_count": 615,
      "outputs": [
        {
          "output_type": "stream",
          "name": "stdout",
          "text": [
            "(5924, 1, 12) (5924, 1)\n"
          ]
        }
      ]
    },
    {
      "cell_type": "code",
      "source": [
        "##One-Hot Encoding\n",
        "\n",
        "from sklearn.preprocessing import OneHotEncoder\n",
        "\n",
        "enc = OneHotEncoder(handle_unknown = \"ignore\", sparse = False)\n",
        "enc = enc.fit(h_y_train)\n",
        "\n",
        "h_y_train = enc.transform(h_y_train)\n",
        "h_y_test = enc.transform(h_y_test)\n",
        "\n",
        "enc2 = OneHotEncoder(handle_unknown = \"ignore\", sparse = False)\n",
        "enc2 = enc2.fit(c_y_train)\n",
        "\n",
        "c_y_train = enc.transform(c_y_train)\n",
        "c_y_test = enc.transform(c_y_test)\n",
        "\n"
      ],
      "metadata": {
        "id": "hXu1hDBsyBtz",
        "colab": {
          "base_uri": "https://localhost:8080/"
        },
        "outputId": "b667d4fe-990a-4976-b748-21ff3787f342"
      },
      "execution_count": 616,
      "outputs": [
        {
          "output_type": "stream",
          "name": "stderr",
          "text": [
            "/usr/local/lib/python3.10/dist-packages/sklearn/preprocessing/_encoders.py:868: FutureWarning: `sparse` was renamed to `sparse_output` in version 1.2 and will be removed in 1.4. `sparse_output` is ignored unless you leave `sparse` to its default value.\n",
            "  warnings.warn(\n",
            "/usr/local/lib/python3.10/dist-packages/sklearn/preprocessing/_encoders.py:868: FutureWarning: `sparse` was renamed to `sparse_output` in version 1.2 and will be removed in 1.4. `sparse_output` is ignored unless you leave `sparse` to its default value.\n",
            "  warnings.warn(\n"
          ]
        }
      ]
    },
    {
      "cell_type": "code",
      "source": [
        "print(\"===hand data===\")\n",
        "print(\"X_train.shape: \", h_X_train.shape)\n",
        "print(\"X_test.shape \", h_X_test.shape)\n",
        "print(\"y_train.shape \", h_y_train.shape)\n",
        "print(\"y_test.shape \", h_y_test.shape)"
      ],
      "metadata": {
        "colab": {
          "base_uri": "https://localhost:8080/"
        },
        "id": "LitcWpBtWgZp",
        "outputId": "3156c19b-be20-4235-8b8e-c6d20e17a942"
      },
      "execution_count": 617,
      "outputs": [
        {
          "output_type": "stream",
          "name": "stdout",
          "text": [
            "===hand data===\n",
            "X_train.shape:  (5924, 1, 12)\n",
            "X_test.shape  (112590, 1, 12)\n",
            "y_train.shape  (5924, 8)\n",
            "y_test.shape  (112590, 8)\n"
          ]
        }
      ]
    },
    {
      "cell_type": "code",
      "source": [
        "print(\"===chest data===\")\n",
        "print(\"X_train.shape: \", c_X_train.shape)\n",
        "print(\"X_test.shape \", c_X_test.shape)\n",
        "print(\"y_train.shape \", c_y_train.shape)\n",
        "print(\"y_test.shape \", c_y_test.shape)"
      ],
      "metadata": {
        "colab": {
          "base_uri": "https://localhost:8080/"
        },
        "id": "3k_KgxoNWnA0",
        "outputId": "5654b2de-bdac-49d7-a851-27781477a73e"
      },
      "execution_count": 618,
      "outputs": [
        {
          "output_type": "stream",
          "name": "stdout",
          "text": [
            "===chest data===\n",
            "X_train.shape:  (5924, 1, 12)\n",
            "X_test.shape  (112590, 1, 12)\n",
            "y_train.shape  (5924, 8)\n",
            "y_test.shape  (112590, 8)\n"
          ]
        }
      ]
    },
    {
      "cell_type": "markdown",
      "source": [
        "##Deep Learning"
      ],
      "metadata": {
        "id": "frvYGbsd2Fbb"
      }
    },
    {
      "cell_type": "code",
      "source": [
        "import tensorflow as tf\n",
        "from tensorflow import keras\n",
        "from tensorflow.keras import layers\n",
        "\n",
        "# cnn model vary kernel size\n",
        "from numpy import mean\n",
        "from numpy import std\n",
        "from numpy import dstack\n",
        "from pandas import read_csv\n",
        "from matplotlib import pyplot\n",
        "from tensorflow.keras.models import Sequential\n",
        "from tensorflow.keras.layers import Dense\n",
        "from tensorflow.keras.layers import Flatten\n",
        "from tensorflow.keras.layers import Dropout\n",
        "from tensorflow.keras.utils import to_categorical\n",
        "\n",
        "import tensorflow.keras\n",
        "from tensorflow.keras.models import Sequential\n",
        "from tensorflow.keras.layers import Dense, Dropout, Flatten, Reshape, LSTM, Conv1D, MaxPooling1D\n",
        "from tensorflow.keras.layers import TimeDistributed, Conv1D, MaxPooling1D\n",
        "\n",
        "import numpy as np\n",
        "import tensorflow as tf\n",
        "from tensorflow import keras\n",
        "from tensorflow.keras.layers import Bidirectional, LSTM, Dropout, Dense\n",
        "import pandas as pd\n",
        "import seaborn as sns\n",
        "from pylab import rcParams\n",
        "import matplotlib.pyplot as plt\n",
        "from matplotlib import rc\n",
        "from pandas.plotting import register_matplotlib_converters"
      ],
      "metadata": {
        "id": "umOVWFFD11j6"
      },
      "execution_count": 619,
      "outputs": []
    },
    {
      "cell_type": "markdown",
      "source": [
        "###hand train - hand test"
      ],
      "metadata": {
        "id": "-guYkAPyDj5L"
      }
    },
    {
      "cell_type": "code",
      "source": [
        "#Epoch 500\n",
        "\n",
        "verbose,epochs,batch_size=1,10,32\n",
        "\n",
        "n_timesteps,n_features,n_outputs=h_X_train.shape[1],h_X_train.shape[2],h_y_train.shape[1]\n",
        "\n",
        "n_timesteps, n_features, n_outputs"
      ],
      "metadata": {
        "id": "bA5QJG6519FZ",
        "colab": {
          "base_uri": "https://localhost:8080/"
        },
        "outputId": "fee30c2e-d46c-40b3-a134-b9a2e24a7c58"
      },
      "execution_count": 620,
      "outputs": [
        {
          "output_type": "execute_result",
          "data": {
            "text/plain": [
              "(1, 12, 8)"
            ]
          },
          "metadata": {},
          "execution_count": 620
        }
      ]
    },
    {
      "cell_type": "code",
      "source": [
        "#MODEL\n",
        "\n",
        "model = Sequential()\n",
        "\n",
        "model.add(LSTM(64,input_shape = [n_timesteps, n_features], return_sequences=True))\n",
        "\n",
        "model.add(LSTM(128))\n",
        "\n",
        "model.add(Dropout(0.3))\n",
        "\n",
        "model.add(Dense(64, activation=\"relu\"))\n",
        "\n",
        "model.add(Dropout(0.5))\n",
        "\n",
        "model.add(Dense(n_outputs, activation = \"softmax\"))\n",
        "model.summary()"
      ],
      "metadata": {
        "id": "gE51JbRh2Cnl",
        "colab": {
          "base_uri": "https://localhost:8080/"
        },
        "outputId": "379362fc-6e08-43b6-f4d5-459be456c4af"
      },
      "execution_count": 621,
      "outputs": [
        {
          "output_type": "stream",
          "name": "stdout",
          "text": [
            "Model: \"sequential_40\"\n",
            "_________________________________________________________________\n",
            " Layer (type)                Output Shape              Param #   \n",
            "=================================================================\n",
            " lstm_54 (LSTM)              (None, 1, 64)             19712     \n",
            "                                                                 \n",
            " lstm_55 (LSTM)              (None, 128)               98816     \n",
            "                                                                 \n",
            " dropout_54 (Dropout)        (None, 128)               0         \n",
            "                                                                 \n",
            " dense_67 (Dense)            (None, 64)                8256      \n",
            "                                                                 \n",
            " dropout_55 (Dropout)        (None, 64)                0         \n",
            "                                                                 \n",
            " dense_68 (Dense)            (None, 8)                 520       \n",
            "                                                                 \n",
            "=================================================================\n",
            "Total params: 127304 (497.28 KB)\n",
            "Trainable params: 127304 (497.28 KB)\n",
            "Non-trainable params: 0 (0.00 Byte)\n",
            "_________________________________________________________________\n"
          ]
        }
      ]
    },
    {
      "cell_type": "code",
      "source": [
        "model.compile(loss = \"categorical_crossentropy\", optimizer = \"adam\", metrics = [\"acc\"])"
      ],
      "metadata": {
        "id": "29sZtZPYC0tF"
      },
      "execution_count": 622,
      "outputs": []
    },
    {
      "cell_type": "code",
      "source": [
        "history = model.fit(h_X_train, h_y_train, epochs = epochs, batch_size = batch_size, validation_split = 0.1, shuffle = True)\n",
        "print(model.summary())"
      ],
      "metadata": {
        "id": "z-ynpBzODEVt",
        "colab": {
          "base_uri": "https://localhost:8080/"
        },
        "outputId": "a9c0ef6f-7008-4ef4-95e6-909919458e73"
      },
      "execution_count": 623,
      "outputs": [
        {
          "output_type": "stream",
          "name": "stdout",
          "text": [
            "Epoch 1/10\n",
            "167/167 [==============================] - 7s 13ms/step - loss: 1.7614 - acc: 0.3806 - val_loss: 1.5109 - val_acc: 0.4503\n",
            "Epoch 2/10\n",
            "167/167 [==============================] - 1s 7ms/step - loss: 1.4197 - acc: 0.5189 - val_loss: 1.2844 - val_acc: 0.5902\n",
            "Epoch 3/10\n",
            "167/167 [==============================] - 1s 7ms/step - loss: 1.2596 - acc: 0.5920 - val_loss: 1.1064 - val_acc: 0.6189\n",
            "Epoch 4/10\n",
            "167/167 [==============================] - 1s 7ms/step - loss: 1.1287 - acc: 0.6417 - val_loss: 0.9981 - val_acc: 0.6678\n",
            "Epoch 5/10\n",
            "167/167 [==============================] - 1s 7ms/step - loss: 1.0611 - acc: 0.6646 - val_loss: 0.9323 - val_acc: 0.6813\n",
            "Epoch 6/10\n",
            "167/167 [==============================] - 1s 7ms/step - loss: 0.9978 - acc: 0.6779 - val_loss: 0.8911 - val_acc: 0.6981\n",
            "Epoch 7/10\n",
            "167/167 [==============================] - 1s 7ms/step - loss: 0.9504 - acc: 0.7032 - val_loss: 0.8461 - val_acc: 0.7167\n",
            "Epoch 8/10\n",
            "167/167 [==============================] - 1s 7ms/step - loss: 0.9036 - acc: 0.7104 - val_loss: 0.8145 - val_acc: 0.7285\n",
            "Epoch 9/10\n",
            "167/167 [==============================] - 1s 7ms/step - loss: 0.8948 - acc: 0.7192 - val_loss: 0.7977 - val_acc: 0.7386\n",
            "Epoch 10/10\n",
            "167/167 [==============================] - 1s 8ms/step - loss: 0.8775 - acc: 0.7207 - val_loss: 0.7935 - val_acc: 0.7302\n",
            "Model: \"sequential_40\"\n",
            "_________________________________________________________________\n",
            " Layer (type)                Output Shape              Param #   \n",
            "=================================================================\n",
            " lstm_54 (LSTM)              (None, 1, 64)             19712     \n",
            "                                                                 \n",
            " lstm_55 (LSTM)              (None, 128)               98816     \n",
            "                                                                 \n",
            " dropout_54 (Dropout)        (None, 128)               0         \n",
            "                                                                 \n",
            " dense_67 (Dense)            (None, 64)                8256      \n",
            "                                                                 \n",
            " dropout_55 (Dropout)        (None, 64)                0         \n",
            "                                                                 \n",
            " dense_68 (Dense)            (None, 8)                 520       \n",
            "                                                                 \n",
            "=================================================================\n",
            "Total params: 127304 (497.28 KB)\n",
            "Trainable params: 127304 (497.28 KB)\n",
            "Non-trainable params: 0 (0.00 Byte)\n",
            "_________________________________________________________________\n",
            "None\n"
          ]
        }
      ]
    },
    {
      "cell_type": "code",
      "source": [
        "from sklearn.metrics import confusion_matrix,classification_report,accuracy_score\n",
        "\n",
        "y_test_arg=np.argmax(h_y_test,axis=1)\n",
        "Y_pred = np.argmax(model.predict(h_X_test),axis=1)\n",
        "print('Confusion Matrix')\n",
        "print(confusion_matrix(y_test_arg, Y_pred))"
      ],
      "metadata": {
        "colab": {
          "base_uri": "https://localhost:8080/"
        },
        "id": "0YucQslrraB7",
        "outputId": "cfc9b020-79d5-4712-9578-c4946f2bf2f6"
      },
      "execution_count": 624,
      "outputs": [
        {
          "output_type": "stream",
          "name": "stdout",
          "text": [
            "3519/3519 [==============================] - 11s 3ms/step\n",
            "Confusion Matrix\n",
            "[[15266   193   315   278    32   123   211   315]\n",
            " [   67 14110  1002   145    62   482    28   180]\n",
            " [  342  1050 13058   589    51   949   169   172]\n",
            " [   24   208   997 16694   161  1014   378   435]\n",
            " [   29   152   242   280  6948   477    19    44]\n",
            " [   43   602   141  1691   694 12682    35   113]\n",
            " [   24   359  1263  5211   247   815  1689   552]\n",
            " [  241   779  1049  2633   347   626   774  2689]]\n"
          ]
        }
      ]
    },
    {
      "cell_type": "code",
      "source": [
        "from mlxtend.plotting import plot_confusion_matrix\n",
        "from sklearn.metrics import confusion_matrix\n",
        "\n",
        "\n",
        "base_loss,base_accuracy=model.evaluate(h_X_test,h_y_test,batch_size=batch_size,verbose=1)\n",
        "\n",
        "score=base_accuracy*100\n",
        "print('Accuracy >{:f}'.format(score))\n",
        "print('Base Loss >{:.2f}'.format(base_loss))"
      ],
      "metadata": {
        "id": "mOI9RZGpDzkx",
        "colab": {
          "base_uri": "https://localhost:8080/"
        },
        "outputId": "b151def1-f964-40a8-c738-4ca45117b07f"
      },
      "execution_count": 625,
      "outputs": [
        {
          "output_type": "stream",
          "name": "stdout",
          "text": [
            "3519/3519 [==============================] - 14s 4ms/step - loss: 0.8075 - acc: 0.7384\n",
            "Accuracy >73.839593\n",
            "Base Loss >0.81\n"
          ]
        }
      ]
    },
    {
      "cell_type": "markdown",
      "source": [
        "###hand train - chest test"
      ],
      "metadata": {
        "id": "PCb96NWGFDsE"
      }
    },
    {
      "cell_type": "code",
      "source": [
        "from mlxtend.plotting import plot_confusion_matrix\n",
        "from sklearn.metrics import confusion_matrix\n",
        "\n",
        "\n",
        "base_loss,base_accuracy=model.evaluate(c_X_test,c_y_test,batch_size=batch_size,verbose=1)\n",
        "\n",
        "score=base_accuracy*100\n",
        "print('Accuracy >{:f}'.format(score))\n",
        "print('Base Loss >{:.2f}'.format(base_loss))"
      ],
      "metadata": {
        "id": "_D6K_3RjFC0N",
        "colab": {
          "base_uri": "https://localhost:8080/"
        },
        "outputId": "ad9c21e2-eb09-4b2d-f9bc-8e6bf3218336"
      },
      "execution_count": 626,
      "outputs": [
        {
          "output_type": "stream",
          "name": "stdout",
          "text": [
            "3519/3519 [==============================] - 18s 5ms/step - loss: 2.3240 - acc: 0.2683\n",
            "Accuracy >26.828316\n",
            "Base Loss >2.32\n"
          ]
        }
      ]
    },
    {
      "cell_type": "markdown",
      "source": [
        "###chest train - chest test"
      ],
      "metadata": {
        "id": "IoKfewJKUTvj"
      }
    },
    {
      "cell_type": "code",
      "source": [
        "#Epoch 500\n",
        "\n",
        "verbose,epochs,batch_size=1,10,32\n",
        "\n",
        "n_timesteps,n_features,n_outputs=c_X_train.shape[1],c_X_train.shape[2],c_y_train.shape[1]\n",
        "\n",
        "n_timesteps, n_features, n_outputs"
      ],
      "metadata": {
        "id": "B987Duv0Ude_",
        "colab": {
          "base_uri": "https://localhost:8080/"
        },
        "outputId": "64f286bb-41f3-4c74-8281-8a4af4607b08"
      },
      "execution_count": 627,
      "outputs": [
        {
          "output_type": "execute_result",
          "data": {
            "text/plain": [
              "(1, 12, 8)"
            ]
          },
          "metadata": {},
          "execution_count": 627
        }
      ]
    },
    {
      "cell_type": "code",
      "source": [
        "#MODEL\n",
        "\n",
        "model = Sequential()\n",
        "\n",
        "model.add(LSTM(64,input_shape = [n_timesteps, n_features], return_sequences=True))\n",
        "\n",
        "model.add(LSTM(128))\n",
        "\n",
        "model.add(Dropout(0.3))\n",
        "\n",
        "model.add(Dense(64, activation=\"relu\"))\n",
        "\n",
        "model.add(Dropout(0.5))\n",
        "\n",
        "model.add(Dense(n_outputs, activation = \"softmax\"))\n",
        "model.summary()"
      ],
      "metadata": {
        "colab": {
          "base_uri": "https://localhost:8080/"
        },
        "id": "C4rfsI5AbvHr",
        "outputId": "9edc0142-b86f-4435-bea9-867c8ed87b48"
      },
      "execution_count": 628,
      "outputs": [
        {
          "output_type": "stream",
          "name": "stdout",
          "text": [
            "Model: \"sequential_41\"\n",
            "_________________________________________________________________\n",
            " Layer (type)                Output Shape              Param #   \n",
            "=================================================================\n",
            " lstm_56 (LSTM)              (None, 1, 64)             19712     \n",
            "                                                                 \n",
            " lstm_57 (LSTM)              (None, 128)               98816     \n",
            "                                                                 \n",
            " dropout_56 (Dropout)        (None, 128)               0         \n",
            "                                                                 \n",
            " dense_69 (Dense)            (None, 64)                8256      \n",
            "                                                                 \n",
            " dropout_57 (Dropout)        (None, 64)                0         \n",
            "                                                                 \n",
            " dense_70 (Dense)            (None, 8)                 520       \n",
            "                                                                 \n",
            "=================================================================\n",
            "Total params: 127304 (497.28 KB)\n",
            "Trainable params: 127304 (497.28 KB)\n",
            "Non-trainable params: 0 (0.00 Byte)\n",
            "_________________________________________________________________\n"
          ]
        }
      ]
    },
    {
      "cell_type": "code",
      "source": [
        "model.compile(loss = \"categorical_crossentropy\", optimizer = \"adam\", metrics = [\"acc\"])"
      ],
      "metadata": {
        "id": "TYSNJGOqb2dH"
      },
      "execution_count": 629,
      "outputs": []
    },
    {
      "cell_type": "code",
      "source": [
        "history = model.fit(c_X_train, c_y_train, epochs = epochs, batch_size = batch_size, validation_split = 0.1, shuffle = True)\n",
        "print(model.summary())"
      ],
      "metadata": {
        "id": "3r_hPHC-U4GD",
        "colab": {
          "base_uri": "https://localhost:8080/"
        },
        "outputId": "3d85a94e-346f-436a-c574-855154210217"
      },
      "execution_count": 630,
      "outputs": [
        {
          "output_type": "stream",
          "name": "stdout",
          "text": [
            "Epoch 1/10\n",
            "167/167 [==============================] - 6s 13ms/step - loss: 1.7275 - acc: 0.3442 - val_loss: 1.3695 - val_acc: 0.4570\n",
            "Epoch 2/10\n",
            "167/167 [==============================] - 2s 9ms/step - loss: 1.3205 - acc: 0.4898 - val_loss: 1.1004 - val_acc: 0.5936\n",
            "Epoch 3/10\n",
            "167/167 [==============================] - 2s 9ms/step - loss: 1.1519 - acc: 0.5721 - val_loss: 0.9787 - val_acc: 0.6341\n",
            "Epoch 4/10\n",
            "167/167 [==============================] - 1s 8ms/step - loss: 1.0646 - acc: 0.6096 - val_loss: 0.9014 - val_acc: 0.6830\n",
            "Epoch 5/10\n",
            "167/167 [==============================] - 1s 7ms/step - loss: 1.0007 - acc: 0.6368 - val_loss: 0.8585 - val_acc: 0.6728\n",
            "Epoch 6/10\n",
            "167/167 [==============================] - 1s 7ms/step - loss: 0.9570 - acc: 0.6573 - val_loss: 0.8187 - val_acc: 0.6981\n",
            "Epoch 7/10\n",
            "167/167 [==============================] - 1s 7ms/step - loss: 0.9096 - acc: 0.6753 - val_loss: 0.8004 - val_acc: 0.6998\n",
            "Epoch 8/10\n",
            "167/167 [==============================] - 1s 7ms/step - loss: 0.8965 - acc: 0.6738 - val_loss: 0.8001 - val_acc: 0.7150\n",
            "Epoch 9/10\n",
            "167/167 [==============================] - 1s 7ms/step - loss: 0.8677 - acc: 0.6822 - val_loss: 0.7841 - val_acc: 0.7133\n",
            "Epoch 10/10\n",
            "167/167 [==============================] - 1s 7ms/step - loss: 0.8545 - acc: 0.6866 - val_loss: 0.7630 - val_acc: 0.7218\n",
            "Model: \"sequential_41\"\n",
            "_________________________________________________________________\n",
            " Layer (type)                Output Shape              Param #   \n",
            "=================================================================\n",
            " lstm_56 (LSTM)              (None, 1, 64)             19712     \n",
            "                                                                 \n",
            " lstm_57 (LSTM)              (None, 128)               98816     \n",
            "                                                                 \n",
            " dropout_56 (Dropout)        (None, 128)               0         \n",
            "                                                                 \n",
            " dense_69 (Dense)            (None, 64)                8256      \n",
            "                                                                 \n",
            " dropout_57 (Dropout)        (None, 64)                0         \n",
            "                                                                 \n",
            " dense_70 (Dense)            (None, 8)                 520       \n",
            "                                                                 \n",
            "=================================================================\n",
            "Total params: 127304 (497.28 KB)\n",
            "Trainable params: 127304 (497.28 KB)\n",
            "Non-trainable params: 0 (0.00 Byte)\n",
            "_________________________________________________________________\n",
            "None\n"
          ]
        }
      ]
    },
    {
      "cell_type": "code",
      "source": [
        "from mlxtend.plotting import plot_confusion_matrix\n",
        "from sklearn.metrics import confusion_matrix\n",
        "\n",
        "\n",
        "base_loss,base_accuracy=model.evaluate(c_X_test,c_y_test,batch_size=batch_size,verbose=1)\n",
        "\n",
        "score=base_accuracy*100\n",
        "print('Accuracy >{:f}'.format(score))\n",
        "print('Base Loss >{:.2f}'.format(base_loss))"
      ],
      "metadata": {
        "id": "OHerk1AWVFaR",
        "colab": {
          "base_uri": "https://localhost:8080/"
        },
        "outputId": "025fdd9d-c6b9-45b9-988c-ace3e394b11d"
      },
      "execution_count": 631,
      "outputs": [
        {
          "output_type": "stream",
          "name": "stdout",
          "text": [
            "3519/3519 [==============================] - 14s 4ms/step - loss: 0.8205 - acc: 0.6922\n",
            "Accuracy >69.215739\n",
            "Base Loss >0.82\n"
          ]
        }
      ]
    },
    {
      "cell_type": "markdown",
      "source": [
        "###chest train - hand test"
      ],
      "metadata": {
        "id": "FbUFIf27UXNn"
      }
    },
    {
      "cell_type": "code",
      "source": [
        "from mlxtend.plotting import plot_confusion_matrix\n",
        "from sklearn.metrics import confusion_matrix\n",
        "\n",
        "\n",
        "base_loss,base_accuracy=model.evaluate(h_X_test,h_y_test,batch_size=batch_size,verbose=1)\n",
        "\n",
        "score=base_accuracy*100\n",
        "print('Accuracy >{:f}'.format(score))\n",
        "print('Base Loss >{:.2f}'.format(base_loss))"
      ],
      "metadata": {
        "id": "jYDm7UmYUeVv",
        "colab": {
          "base_uri": "https://localhost:8080/"
        },
        "outputId": "411c56b0-1c70-401a-8cb6-68a910870633"
      },
      "execution_count": 632,
      "outputs": [
        {
          "output_type": "stream",
          "name": "stdout",
          "text": [
            "3519/3519 [==============================] - 14s 4ms/step - loss: 3.9616 - acc: 0.1758\n",
            "Accuracy >17.578825\n",
            "Base Loss >3.96\n"
          ]
        }
      ]
    },
    {
      "cell_type": "markdown",
      "source": [
        "Save chest trained base model"
      ],
      "metadata": {
        "id": "NcwQ2KwLZ0oK"
      }
    },
    {
      "cell_type": "code",
      "source": [
        "cnn_file='./drive/MyDrive/chest_CNN_Model.h5'\n",
        "\n",
        "tf.keras.models.save_model(model, cnn_file, include_optimizer=False)\n",
        "print('model saved at ', cnn_file)"
      ],
      "metadata": {
        "colab": {
          "base_uri": "https://localhost:8080/"
        },
        "id": "K_62DhaVZwqi",
        "outputId": "e75069ad-32e5-4d7f-9021-f2a07b799c83"
      },
      "execution_count": 633,
      "outputs": [
        {
          "output_type": "stream",
          "name": "stdout",
          "text": [
            "model saved at  ./drive/MyDrive/chest_CNN_Model.h5\n"
          ]
        },
        {
          "output_type": "stream",
          "name": "stderr",
          "text": [
            "<ipython-input-633-a838c996d8c7>:3: UserWarning: You are saving your model as an HDF5 file via `model.save()`. This file format is considered legacy. We recommend using instead the native Keras format, e.g. `model.save('my_model.keras')`.\n",
            "  tf.keras.models.save_model(model, cnn_file, include_optimizer=False)\n"
          ]
        }
      ]
    },
    {
      "cell_type": "markdown",
      "source": [
        "##Fine-Tuning"
      ],
      "metadata": {
        "id": "V4mryv-wZ232"
      }
    },
    {
      "cell_type": "markdown",
      "source": [
        "Chest data를 훈련한 모델을 save한 뒤 불러와 전이학습"
      ],
      "metadata": {
        "id": "N4KcenbocVCQ"
      }
    },
    {
      "cell_type": "code",
      "source": [
        "# Base 모델을 로드\n",
        "\n",
        "base_model = keras.models.load_model(cnn_file)"
      ],
      "metadata": {
        "colab": {
          "base_uri": "https://localhost:8080/"
        },
        "id": "aF1qszPeZQa8",
        "outputId": "0970ac76-a113-42e5-9ea6-26e9cfe6130e"
      },
      "execution_count": 634,
      "outputs": [
        {
          "output_type": "stream",
          "name": "stderr",
          "text": [
            "WARNING:tensorflow:No training configuration found in the save file, so the model was *not* compiled. Compile it manually.\n"
          ]
        }
      ]
    },
    {
      "cell_type": "code",
      "source": [
        "print(\"Number of layers in the base model: \", len(base_model.layers))\n",
        "\n",
        "# Fine-tune from this layer onwards\n",
        "fine_tune_at = len(base_model.layers)-1\n",
        "\n",
        "# Freeze all the layers before the `fine_tune_at` layer 전부 동결\n",
        "for layer in base_model.layers[:fine_tune_at]:\n",
        "  layer.trainable =  False\n",
        "\n",
        "# 동결 후 레이어 추가\n",
        "new_model = keras.models.Sequential(base_model.layers[:-1])\n",
        "new_model.add(keras.layers.Dense(n_outputs, activation='sigmoid'))\n",
        "\n",
        "new_model.compile(loss=\"categorical_crossentropy\",\n",
        "                     optimizer=keras.optimizers.SGD(learning_rate=1e-3),\n",
        "                     metrics=[\"accuracy\"])"
      ],
      "metadata": {
        "colab": {
          "base_uri": "https://localhost:8080/"
        },
        "id": "ik4JvbiabgW9",
        "outputId": "566b5802-4ea8-4529-9be3-c9a03cdc087e"
      },
      "execution_count": 635,
      "outputs": [
        {
          "output_type": "stream",
          "name": "stdout",
          "text": [
            "Number of layers in the base model:  6\n"
          ]
        }
      ]
    },
    {
      "cell_type": "code",
      "source": [
        "# 동결 확인\n",
        "import pandas as pd\n",
        "display_layers = [(layer, layer.name, layer.trainable) for layer in base_model.layers]\n",
        "pd.DataFrame(display_layers, columns=['Layer Type', 'Layer Name', 'Layer Trainable'])"
      ],
      "metadata": {
        "colab": {
          "base_uri": "https://localhost:8080/",
          "height": 238
        },
        "id": "aFSyNfJNcvvs",
        "outputId": "bf93e798-d2e6-4d08-875b-936f3f3eaa02"
      },
      "execution_count": 636,
      "outputs": [
        {
          "output_type": "execute_result",
          "data": {
            "text/plain": [
              "                                          Layer Type  Layer Name  \\\n",
              "0  <keras.src.layers.rnn.lstm.LSTM object at 0x78...     lstm_56   \n",
              "1  <keras.src.layers.rnn.lstm.LSTM object at 0x78...     lstm_57   \n",
              "2  <keras.src.layers.regularization.dropout.Dropo...  dropout_56   \n",
              "3  <keras.src.layers.core.dense.Dense object at 0...    dense_69   \n",
              "4  <keras.src.layers.regularization.dropout.Dropo...  dropout_57   \n",
              "5  <keras.src.layers.core.dense.Dense object at 0...    dense_70   \n",
              "\n",
              "   Layer Trainable  \n",
              "0            False  \n",
              "1            False  \n",
              "2            False  \n",
              "3            False  \n",
              "4            False  \n",
              "5             True  "
            ],
            "text/html": [
              "\n",
              "  <div id=\"df-99c3cc5b-f3d5-46dc-ac46-cac78335be81\" class=\"colab-df-container\">\n",
              "    <div>\n",
              "<style scoped>\n",
              "    .dataframe tbody tr th:only-of-type {\n",
              "        vertical-align: middle;\n",
              "    }\n",
              "\n",
              "    .dataframe tbody tr th {\n",
              "        vertical-align: top;\n",
              "    }\n",
              "\n",
              "    .dataframe thead th {\n",
              "        text-align: right;\n",
              "    }\n",
              "</style>\n",
              "<table border=\"1\" class=\"dataframe\">\n",
              "  <thead>\n",
              "    <tr style=\"text-align: right;\">\n",
              "      <th></th>\n",
              "      <th>Layer Type</th>\n",
              "      <th>Layer Name</th>\n",
              "      <th>Layer Trainable</th>\n",
              "    </tr>\n",
              "  </thead>\n",
              "  <tbody>\n",
              "    <tr>\n",
              "      <th>0</th>\n",
              "      <td>&lt;keras.src.layers.rnn.lstm.LSTM object at 0x78...</td>\n",
              "      <td>lstm_56</td>\n",
              "      <td>False</td>\n",
              "    </tr>\n",
              "    <tr>\n",
              "      <th>1</th>\n",
              "      <td>&lt;keras.src.layers.rnn.lstm.LSTM object at 0x78...</td>\n",
              "      <td>lstm_57</td>\n",
              "      <td>False</td>\n",
              "    </tr>\n",
              "    <tr>\n",
              "      <th>2</th>\n",
              "      <td>&lt;keras.src.layers.regularization.dropout.Dropo...</td>\n",
              "      <td>dropout_56</td>\n",
              "      <td>False</td>\n",
              "    </tr>\n",
              "    <tr>\n",
              "      <th>3</th>\n",
              "      <td>&lt;keras.src.layers.core.dense.Dense object at 0...</td>\n",
              "      <td>dense_69</td>\n",
              "      <td>False</td>\n",
              "    </tr>\n",
              "    <tr>\n",
              "      <th>4</th>\n",
              "      <td>&lt;keras.src.layers.regularization.dropout.Dropo...</td>\n",
              "      <td>dropout_57</td>\n",
              "      <td>False</td>\n",
              "    </tr>\n",
              "    <tr>\n",
              "      <th>5</th>\n",
              "      <td>&lt;keras.src.layers.core.dense.Dense object at 0...</td>\n",
              "      <td>dense_70</td>\n",
              "      <td>True</td>\n",
              "    </tr>\n",
              "  </tbody>\n",
              "</table>\n",
              "</div>\n",
              "    <div class=\"colab-df-buttons\">\n",
              "\n",
              "  <div class=\"colab-df-container\">\n",
              "    <button class=\"colab-df-convert\" onclick=\"convertToInteractive('df-99c3cc5b-f3d5-46dc-ac46-cac78335be81')\"\n",
              "            title=\"Convert this dataframe to an interactive table.\"\n",
              "            style=\"display:none;\">\n",
              "\n",
              "  <svg xmlns=\"http://www.w3.org/2000/svg\" height=\"24px\" viewBox=\"0 -960 960 960\">\n",
              "    <path d=\"M120-120v-720h720v720H120Zm60-500h600v-160H180v160Zm220 220h160v-160H400v160Zm0 220h160v-160H400v160ZM180-400h160v-160H180v160Zm440 0h160v-160H620v160ZM180-180h160v-160H180v160Zm440 0h160v-160H620v160Z\"/>\n",
              "  </svg>\n",
              "    </button>\n",
              "\n",
              "  <style>\n",
              "    .colab-df-container {\n",
              "      display:flex;\n",
              "      gap: 12px;\n",
              "    }\n",
              "\n",
              "    .colab-df-convert {\n",
              "      background-color: #E8F0FE;\n",
              "      border: none;\n",
              "      border-radius: 50%;\n",
              "      cursor: pointer;\n",
              "      display: none;\n",
              "      fill: #1967D2;\n",
              "      height: 32px;\n",
              "      padding: 0 0 0 0;\n",
              "      width: 32px;\n",
              "    }\n",
              "\n",
              "    .colab-df-convert:hover {\n",
              "      background-color: #E2EBFA;\n",
              "      box-shadow: 0px 1px 2px rgba(60, 64, 67, 0.3), 0px 1px 3px 1px rgba(60, 64, 67, 0.15);\n",
              "      fill: #174EA6;\n",
              "    }\n",
              "\n",
              "    .colab-df-buttons div {\n",
              "      margin-bottom: 4px;\n",
              "    }\n",
              "\n",
              "    [theme=dark] .colab-df-convert {\n",
              "      background-color: #3B4455;\n",
              "      fill: #D2E3FC;\n",
              "    }\n",
              "\n",
              "    [theme=dark] .colab-df-convert:hover {\n",
              "      background-color: #434B5C;\n",
              "      box-shadow: 0px 1px 3px 1px rgba(0, 0, 0, 0.15);\n",
              "      filter: drop-shadow(0px 1px 2px rgba(0, 0, 0, 0.3));\n",
              "      fill: #FFFFFF;\n",
              "    }\n",
              "  </style>\n",
              "\n",
              "    <script>\n",
              "      const buttonEl =\n",
              "        document.querySelector('#df-99c3cc5b-f3d5-46dc-ac46-cac78335be81 button.colab-df-convert');\n",
              "      buttonEl.style.display =\n",
              "        google.colab.kernel.accessAllowed ? 'block' : 'none';\n",
              "\n",
              "      async function convertToInteractive(key) {\n",
              "        const element = document.querySelector('#df-99c3cc5b-f3d5-46dc-ac46-cac78335be81');\n",
              "        const dataTable =\n",
              "          await google.colab.kernel.invokeFunction('convertToInteractive',\n",
              "                                                    [key], {});\n",
              "        if (!dataTable) return;\n",
              "\n",
              "        const docLinkHtml = 'Like what you see? Visit the ' +\n",
              "          '<a target=\"_blank\" href=https://colab.research.google.com/notebooks/data_table.ipynb>data table notebook</a>'\n",
              "          + ' to learn more about interactive tables.';\n",
              "        element.innerHTML = '';\n",
              "        dataTable['output_type'] = 'display_data';\n",
              "        await google.colab.output.renderOutput(dataTable, element);\n",
              "        const docLink = document.createElement('div');\n",
              "        docLink.innerHTML = docLinkHtml;\n",
              "        element.appendChild(docLink);\n",
              "      }\n",
              "    </script>\n",
              "  </div>\n",
              "\n",
              "\n",
              "<div id=\"df-e61cf55b-61aa-4b9a-9893-d4f96b93c190\">\n",
              "  <button class=\"colab-df-quickchart\" onclick=\"quickchart('df-e61cf55b-61aa-4b9a-9893-d4f96b93c190')\"\n",
              "            title=\"Suggest charts.\"\n",
              "            style=\"display:none;\">\n",
              "\n",
              "<svg xmlns=\"http://www.w3.org/2000/svg\" height=\"24px\"viewBox=\"0 0 24 24\"\n",
              "     width=\"24px\">\n",
              "    <g>\n",
              "        <path d=\"M19 3H5c-1.1 0-2 .9-2 2v14c0 1.1.9 2 2 2h14c1.1 0 2-.9 2-2V5c0-1.1-.9-2-2-2zM9 17H7v-7h2v7zm4 0h-2V7h2v10zm4 0h-2v-4h2v4z\"/>\n",
              "    </g>\n",
              "</svg>\n",
              "  </button>\n",
              "\n",
              "<style>\n",
              "  .colab-df-quickchart {\n",
              "      --bg-color: #E8F0FE;\n",
              "      --fill-color: #1967D2;\n",
              "      --hover-bg-color: #E2EBFA;\n",
              "      --hover-fill-color: #174EA6;\n",
              "      --disabled-fill-color: #AAA;\n",
              "      --disabled-bg-color: #DDD;\n",
              "  }\n",
              "\n",
              "  [theme=dark] .colab-df-quickchart {\n",
              "      --bg-color: #3B4455;\n",
              "      --fill-color: #D2E3FC;\n",
              "      --hover-bg-color: #434B5C;\n",
              "      --hover-fill-color: #FFFFFF;\n",
              "      --disabled-bg-color: #3B4455;\n",
              "      --disabled-fill-color: #666;\n",
              "  }\n",
              "\n",
              "  .colab-df-quickchart {\n",
              "    background-color: var(--bg-color);\n",
              "    border: none;\n",
              "    border-radius: 50%;\n",
              "    cursor: pointer;\n",
              "    display: none;\n",
              "    fill: var(--fill-color);\n",
              "    height: 32px;\n",
              "    padding: 0;\n",
              "    width: 32px;\n",
              "  }\n",
              "\n",
              "  .colab-df-quickchart:hover {\n",
              "    background-color: var(--hover-bg-color);\n",
              "    box-shadow: 0 1px 2px rgba(60, 64, 67, 0.3), 0 1px 3px 1px rgba(60, 64, 67, 0.15);\n",
              "    fill: var(--button-hover-fill-color);\n",
              "  }\n",
              "\n",
              "  .colab-df-quickchart-complete:disabled,\n",
              "  .colab-df-quickchart-complete:disabled:hover {\n",
              "    background-color: var(--disabled-bg-color);\n",
              "    fill: var(--disabled-fill-color);\n",
              "    box-shadow: none;\n",
              "  }\n",
              "\n",
              "  .colab-df-spinner {\n",
              "    border: 2px solid var(--fill-color);\n",
              "    border-color: transparent;\n",
              "    border-bottom-color: var(--fill-color);\n",
              "    animation:\n",
              "      spin 1s steps(1) infinite;\n",
              "  }\n",
              "\n",
              "  @keyframes spin {\n",
              "    0% {\n",
              "      border-color: transparent;\n",
              "      border-bottom-color: var(--fill-color);\n",
              "      border-left-color: var(--fill-color);\n",
              "    }\n",
              "    20% {\n",
              "      border-color: transparent;\n",
              "      border-left-color: var(--fill-color);\n",
              "      border-top-color: var(--fill-color);\n",
              "    }\n",
              "    30% {\n",
              "      border-color: transparent;\n",
              "      border-left-color: var(--fill-color);\n",
              "      border-top-color: var(--fill-color);\n",
              "      border-right-color: var(--fill-color);\n",
              "    }\n",
              "    40% {\n",
              "      border-color: transparent;\n",
              "      border-right-color: var(--fill-color);\n",
              "      border-top-color: var(--fill-color);\n",
              "    }\n",
              "    60% {\n",
              "      border-color: transparent;\n",
              "      border-right-color: var(--fill-color);\n",
              "    }\n",
              "    80% {\n",
              "      border-color: transparent;\n",
              "      border-right-color: var(--fill-color);\n",
              "      border-bottom-color: var(--fill-color);\n",
              "    }\n",
              "    90% {\n",
              "      border-color: transparent;\n",
              "      border-bottom-color: var(--fill-color);\n",
              "    }\n",
              "  }\n",
              "</style>\n",
              "\n",
              "  <script>\n",
              "    async function quickchart(key) {\n",
              "      const quickchartButtonEl =\n",
              "        document.querySelector('#' + key + ' button');\n",
              "      quickchartButtonEl.disabled = true;  // To prevent multiple clicks.\n",
              "      quickchartButtonEl.classList.add('colab-df-spinner');\n",
              "      try {\n",
              "        const charts = await google.colab.kernel.invokeFunction(\n",
              "            'suggestCharts', [key], {});\n",
              "      } catch (error) {\n",
              "        console.error('Error during call to suggestCharts:', error);\n",
              "      }\n",
              "      quickchartButtonEl.classList.remove('colab-df-spinner');\n",
              "      quickchartButtonEl.classList.add('colab-df-quickchart-complete');\n",
              "    }\n",
              "    (() => {\n",
              "      let quickchartButtonEl =\n",
              "        document.querySelector('#df-e61cf55b-61aa-4b9a-9893-d4f96b93c190 button');\n",
              "      quickchartButtonEl.style.display =\n",
              "        google.colab.kernel.accessAllowed ? 'block' : 'none';\n",
              "    })();\n",
              "  </script>\n",
              "</div>\n",
              "    </div>\n",
              "  </div>\n"
            ]
          },
          "metadata": {},
          "execution_count": 636
        }
      ]
    },
    {
      "cell_type": "markdown",
      "source": [
        "hand data 적재 학습"
      ],
      "metadata": {
        "id": "9BGWBzlZdKMI"
      }
    },
    {
      "cell_type": "code",
      "source": [
        "history2 = new_model.fit(h_X_train, h_y_train, epochs = epochs, batch_size = batch_size, validation_split = 0.1, shuffle = True)\n",
        "new_model.summary()"
      ],
      "metadata": {
        "colab": {
          "base_uri": "https://localhost:8080/"
        },
        "id": "oxEpIRmxc7I3",
        "outputId": "610ac96e-bcc6-46a4-e79f-326a89c13919"
      },
      "execution_count": 637,
      "outputs": [
        {
          "output_type": "stream",
          "name": "stdout",
          "text": [
            "Epoch 1/10\n",
            "167/167 [==============================] - 6s 10ms/step - loss: 2.3982 - accuracy: 0.1660 - val_loss: 2.1350 - val_accuracy: 0.2530\n",
            "Epoch 2/10\n",
            "167/167 [==============================] - 1s 5ms/step - loss: 2.2990 - accuracy: 0.1876 - val_loss: 2.0693 - val_accuracy: 0.2546\n",
            "Epoch 3/10\n",
            "167/167 [==============================] - 1s 5ms/step - loss: 2.2406 - accuracy: 0.1986 - val_loss: 2.0234 - val_accuracy: 0.2428\n",
            "Epoch 4/10\n",
            "167/167 [==============================] - 1s 5ms/step - loss: 2.1951 - accuracy: 0.2030 - val_loss: 1.9880 - val_accuracy: 0.2344\n",
            "Epoch 5/10\n",
            "167/167 [==============================] - 1s 5ms/step - loss: 2.1581 - accuracy: 0.2093 - val_loss: 1.9587 - val_accuracy: 0.2327\n",
            "Epoch 6/10\n",
            "167/167 [==============================] - 1s 5ms/step - loss: 2.1374 - accuracy: 0.2187 - val_loss: 1.9334 - val_accuracy: 0.2395\n",
            "Epoch 7/10\n",
            "167/167 [==============================] - 1s 5ms/step - loss: 2.1036 - accuracy: 0.2273 - val_loss: 1.9110 - val_accuracy: 0.2496\n",
            "Epoch 8/10\n",
            "167/167 [==============================] - 1s 5ms/step - loss: 2.0992 - accuracy: 0.2315 - val_loss: 1.8913 - val_accuracy: 0.2698\n",
            "Epoch 9/10\n",
            "167/167 [==============================] - 1s 5ms/step - loss: 2.0592 - accuracy: 0.2465 - val_loss: 1.8724 - val_accuracy: 0.2799\n",
            "Epoch 10/10\n",
            "167/167 [==============================] - 1s 5ms/step - loss: 2.0419 - accuracy: 0.2572 - val_loss: 1.8564 - val_accuracy: 0.2934\n",
            "Model: \"sequential_42\"\n",
            "_________________________________________________________________\n",
            " Layer (type)                Output Shape              Param #   \n",
            "=================================================================\n",
            " lstm_56 (LSTM)              (None, 1, 64)             19712     \n",
            "                                                                 \n",
            " lstm_57 (LSTM)              (None, 128)               98816     \n",
            "                                                                 \n",
            " dropout_56 (Dropout)        (None, 128)               0         \n",
            "                                                                 \n",
            " dense_69 (Dense)            (None, 64)                8256      \n",
            "                                                                 \n",
            " dropout_57 (Dropout)        (None, 64)                0         \n",
            "                                                                 \n",
            " dense_71 (Dense)            (None, 8)                 520       \n",
            "                                                                 \n",
            "=================================================================\n",
            "Total params: 127304 (497.28 KB)\n",
            "Trainable params: 520 (2.03 KB)\n",
            "Non-trainable params: 126784 (495.25 KB)\n",
            "_________________________________________________________________\n"
          ]
        }
      ]
    },
    {
      "cell_type": "markdown",
      "source": [
        "미세조정"
      ],
      "metadata": {
        "id": "PrKdQTSNdiZs"
      }
    },
    {
      "cell_type": "code",
      "source": [
        "#동결 해제 후 컴파일, 새롭게 훈련\n",
        "base_model.trainable = True\n",
        "new_model.compile(loss=\"categorical_crossentropy\",\n",
        "                     optimizer=keras.optimizers.SGD(learning_rate=1e-3),\n",
        "                     metrics=[\"accuracy\"])"
      ],
      "metadata": {
        "id": "sXg50lMFdfea"
      },
      "execution_count": 638,
      "outputs": []
    },
    {
      "cell_type": "code",
      "source": [
        "#동결해제 확인\n",
        "import pandas as pd\n",
        "display_layers = [(layer, layer.name, layer.trainable) for layer in base_model.layers]\n",
        "pd.DataFrame(display_layers, columns=['Layer Type', 'Layer Name', 'Layer Trainable'])"
      ],
      "metadata": {
        "colab": {
          "base_uri": "https://localhost:8080/",
          "height": 238
        },
        "id": "dZbpvkjsdl33",
        "outputId": "fefad101-ded9-4734-d3b9-7606dff2e354"
      },
      "execution_count": 639,
      "outputs": [
        {
          "output_type": "execute_result",
          "data": {
            "text/plain": [
              "                                          Layer Type  Layer Name  \\\n",
              "0  <keras.src.layers.rnn.lstm.LSTM object at 0x78...     lstm_56   \n",
              "1  <keras.src.layers.rnn.lstm.LSTM object at 0x78...     lstm_57   \n",
              "2  <keras.src.layers.regularization.dropout.Dropo...  dropout_56   \n",
              "3  <keras.src.layers.core.dense.Dense object at 0...    dense_69   \n",
              "4  <keras.src.layers.regularization.dropout.Dropo...  dropout_57   \n",
              "5  <keras.src.layers.core.dense.Dense object at 0...    dense_70   \n",
              "\n",
              "   Layer Trainable  \n",
              "0             True  \n",
              "1             True  \n",
              "2             True  \n",
              "3             True  \n",
              "4             True  \n",
              "5             True  "
            ],
            "text/html": [
              "\n",
              "  <div id=\"df-665aa417-3198-4b35-a21e-4ce75b9aa289\" class=\"colab-df-container\">\n",
              "    <div>\n",
              "<style scoped>\n",
              "    .dataframe tbody tr th:only-of-type {\n",
              "        vertical-align: middle;\n",
              "    }\n",
              "\n",
              "    .dataframe tbody tr th {\n",
              "        vertical-align: top;\n",
              "    }\n",
              "\n",
              "    .dataframe thead th {\n",
              "        text-align: right;\n",
              "    }\n",
              "</style>\n",
              "<table border=\"1\" class=\"dataframe\">\n",
              "  <thead>\n",
              "    <tr style=\"text-align: right;\">\n",
              "      <th></th>\n",
              "      <th>Layer Type</th>\n",
              "      <th>Layer Name</th>\n",
              "      <th>Layer Trainable</th>\n",
              "    </tr>\n",
              "  </thead>\n",
              "  <tbody>\n",
              "    <tr>\n",
              "      <th>0</th>\n",
              "      <td>&lt;keras.src.layers.rnn.lstm.LSTM object at 0x78...</td>\n",
              "      <td>lstm_56</td>\n",
              "      <td>True</td>\n",
              "    </tr>\n",
              "    <tr>\n",
              "      <th>1</th>\n",
              "      <td>&lt;keras.src.layers.rnn.lstm.LSTM object at 0x78...</td>\n",
              "      <td>lstm_57</td>\n",
              "      <td>True</td>\n",
              "    </tr>\n",
              "    <tr>\n",
              "      <th>2</th>\n",
              "      <td>&lt;keras.src.layers.regularization.dropout.Dropo...</td>\n",
              "      <td>dropout_56</td>\n",
              "      <td>True</td>\n",
              "    </tr>\n",
              "    <tr>\n",
              "      <th>3</th>\n",
              "      <td>&lt;keras.src.layers.core.dense.Dense object at 0...</td>\n",
              "      <td>dense_69</td>\n",
              "      <td>True</td>\n",
              "    </tr>\n",
              "    <tr>\n",
              "      <th>4</th>\n",
              "      <td>&lt;keras.src.layers.regularization.dropout.Dropo...</td>\n",
              "      <td>dropout_57</td>\n",
              "      <td>True</td>\n",
              "    </tr>\n",
              "    <tr>\n",
              "      <th>5</th>\n",
              "      <td>&lt;keras.src.layers.core.dense.Dense object at 0...</td>\n",
              "      <td>dense_70</td>\n",
              "      <td>True</td>\n",
              "    </tr>\n",
              "  </tbody>\n",
              "</table>\n",
              "</div>\n",
              "    <div class=\"colab-df-buttons\">\n",
              "\n",
              "  <div class=\"colab-df-container\">\n",
              "    <button class=\"colab-df-convert\" onclick=\"convertToInteractive('df-665aa417-3198-4b35-a21e-4ce75b9aa289')\"\n",
              "            title=\"Convert this dataframe to an interactive table.\"\n",
              "            style=\"display:none;\">\n",
              "\n",
              "  <svg xmlns=\"http://www.w3.org/2000/svg\" height=\"24px\" viewBox=\"0 -960 960 960\">\n",
              "    <path d=\"M120-120v-720h720v720H120Zm60-500h600v-160H180v160Zm220 220h160v-160H400v160Zm0 220h160v-160H400v160ZM180-400h160v-160H180v160Zm440 0h160v-160H620v160ZM180-180h160v-160H180v160Zm440 0h160v-160H620v160Z\"/>\n",
              "  </svg>\n",
              "    </button>\n",
              "\n",
              "  <style>\n",
              "    .colab-df-container {\n",
              "      display:flex;\n",
              "      gap: 12px;\n",
              "    }\n",
              "\n",
              "    .colab-df-convert {\n",
              "      background-color: #E8F0FE;\n",
              "      border: none;\n",
              "      border-radius: 50%;\n",
              "      cursor: pointer;\n",
              "      display: none;\n",
              "      fill: #1967D2;\n",
              "      height: 32px;\n",
              "      padding: 0 0 0 0;\n",
              "      width: 32px;\n",
              "    }\n",
              "\n",
              "    .colab-df-convert:hover {\n",
              "      background-color: #E2EBFA;\n",
              "      box-shadow: 0px 1px 2px rgba(60, 64, 67, 0.3), 0px 1px 3px 1px rgba(60, 64, 67, 0.15);\n",
              "      fill: #174EA6;\n",
              "    }\n",
              "\n",
              "    .colab-df-buttons div {\n",
              "      margin-bottom: 4px;\n",
              "    }\n",
              "\n",
              "    [theme=dark] .colab-df-convert {\n",
              "      background-color: #3B4455;\n",
              "      fill: #D2E3FC;\n",
              "    }\n",
              "\n",
              "    [theme=dark] .colab-df-convert:hover {\n",
              "      background-color: #434B5C;\n",
              "      box-shadow: 0px 1px 3px 1px rgba(0, 0, 0, 0.15);\n",
              "      filter: drop-shadow(0px 1px 2px rgba(0, 0, 0, 0.3));\n",
              "      fill: #FFFFFF;\n",
              "    }\n",
              "  </style>\n",
              "\n",
              "    <script>\n",
              "      const buttonEl =\n",
              "        document.querySelector('#df-665aa417-3198-4b35-a21e-4ce75b9aa289 button.colab-df-convert');\n",
              "      buttonEl.style.display =\n",
              "        google.colab.kernel.accessAllowed ? 'block' : 'none';\n",
              "\n",
              "      async function convertToInteractive(key) {\n",
              "        const element = document.querySelector('#df-665aa417-3198-4b35-a21e-4ce75b9aa289');\n",
              "        const dataTable =\n",
              "          await google.colab.kernel.invokeFunction('convertToInteractive',\n",
              "                                                    [key], {});\n",
              "        if (!dataTable) return;\n",
              "\n",
              "        const docLinkHtml = 'Like what you see? Visit the ' +\n",
              "          '<a target=\"_blank\" href=https://colab.research.google.com/notebooks/data_table.ipynb>data table notebook</a>'\n",
              "          + ' to learn more about interactive tables.';\n",
              "        element.innerHTML = '';\n",
              "        dataTable['output_type'] = 'display_data';\n",
              "        await google.colab.output.renderOutput(dataTable, element);\n",
              "        const docLink = document.createElement('div');\n",
              "        docLink.innerHTML = docLinkHtml;\n",
              "        element.appendChild(docLink);\n",
              "      }\n",
              "    </script>\n",
              "  </div>\n",
              "\n",
              "\n",
              "<div id=\"df-a37bafcc-5064-4718-bb1b-0954a053436b\">\n",
              "  <button class=\"colab-df-quickchart\" onclick=\"quickchart('df-a37bafcc-5064-4718-bb1b-0954a053436b')\"\n",
              "            title=\"Suggest charts.\"\n",
              "            style=\"display:none;\">\n",
              "\n",
              "<svg xmlns=\"http://www.w3.org/2000/svg\" height=\"24px\"viewBox=\"0 0 24 24\"\n",
              "     width=\"24px\">\n",
              "    <g>\n",
              "        <path d=\"M19 3H5c-1.1 0-2 .9-2 2v14c0 1.1.9 2 2 2h14c1.1 0 2-.9 2-2V5c0-1.1-.9-2-2-2zM9 17H7v-7h2v7zm4 0h-2V7h2v10zm4 0h-2v-4h2v4z\"/>\n",
              "    </g>\n",
              "</svg>\n",
              "  </button>\n",
              "\n",
              "<style>\n",
              "  .colab-df-quickchart {\n",
              "      --bg-color: #E8F0FE;\n",
              "      --fill-color: #1967D2;\n",
              "      --hover-bg-color: #E2EBFA;\n",
              "      --hover-fill-color: #174EA6;\n",
              "      --disabled-fill-color: #AAA;\n",
              "      --disabled-bg-color: #DDD;\n",
              "  }\n",
              "\n",
              "  [theme=dark] .colab-df-quickchart {\n",
              "      --bg-color: #3B4455;\n",
              "      --fill-color: #D2E3FC;\n",
              "      --hover-bg-color: #434B5C;\n",
              "      --hover-fill-color: #FFFFFF;\n",
              "      --disabled-bg-color: #3B4455;\n",
              "      --disabled-fill-color: #666;\n",
              "  }\n",
              "\n",
              "  .colab-df-quickchart {\n",
              "    background-color: var(--bg-color);\n",
              "    border: none;\n",
              "    border-radius: 50%;\n",
              "    cursor: pointer;\n",
              "    display: none;\n",
              "    fill: var(--fill-color);\n",
              "    height: 32px;\n",
              "    padding: 0;\n",
              "    width: 32px;\n",
              "  }\n",
              "\n",
              "  .colab-df-quickchart:hover {\n",
              "    background-color: var(--hover-bg-color);\n",
              "    box-shadow: 0 1px 2px rgba(60, 64, 67, 0.3), 0 1px 3px 1px rgba(60, 64, 67, 0.15);\n",
              "    fill: var(--button-hover-fill-color);\n",
              "  }\n",
              "\n",
              "  .colab-df-quickchart-complete:disabled,\n",
              "  .colab-df-quickchart-complete:disabled:hover {\n",
              "    background-color: var(--disabled-bg-color);\n",
              "    fill: var(--disabled-fill-color);\n",
              "    box-shadow: none;\n",
              "  }\n",
              "\n",
              "  .colab-df-spinner {\n",
              "    border: 2px solid var(--fill-color);\n",
              "    border-color: transparent;\n",
              "    border-bottom-color: var(--fill-color);\n",
              "    animation:\n",
              "      spin 1s steps(1) infinite;\n",
              "  }\n",
              "\n",
              "  @keyframes spin {\n",
              "    0% {\n",
              "      border-color: transparent;\n",
              "      border-bottom-color: var(--fill-color);\n",
              "      border-left-color: var(--fill-color);\n",
              "    }\n",
              "    20% {\n",
              "      border-color: transparent;\n",
              "      border-left-color: var(--fill-color);\n",
              "      border-top-color: var(--fill-color);\n",
              "    }\n",
              "    30% {\n",
              "      border-color: transparent;\n",
              "      border-left-color: var(--fill-color);\n",
              "      border-top-color: var(--fill-color);\n",
              "      border-right-color: var(--fill-color);\n",
              "    }\n",
              "    40% {\n",
              "      border-color: transparent;\n",
              "      border-right-color: var(--fill-color);\n",
              "      border-top-color: var(--fill-color);\n",
              "    }\n",
              "    60% {\n",
              "      border-color: transparent;\n",
              "      border-right-color: var(--fill-color);\n",
              "    }\n",
              "    80% {\n",
              "      border-color: transparent;\n",
              "      border-right-color: var(--fill-color);\n",
              "      border-bottom-color: var(--fill-color);\n",
              "    }\n",
              "    90% {\n",
              "      border-color: transparent;\n",
              "      border-bottom-color: var(--fill-color);\n",
              "    }\n",
              "  }\n",
              "</style>\n",
              "\n",
              "  <script>\n",
              "    async function quickchart(key) {\n",
              "      const quickchartButtonEl =\n",
              "        document.querySelector('#' + key + ' button');\n",
              "      quickchartButtonEl.disabled = true;  // To prevent multiple clicks.\n",
              "      quickchartButtonEl.classList.add('colab-df-spinner');\n",
              "      try {\n",
              "        const charts = await google.colab.kernel.invokeFunction(\n",
              "            'suggestCharts', [key], {});\n",
              "      } catch (error) {\n",
              "        console.error('Error during call to suggestCharts:', error);\n",
              "      }\n",
              "      quickchartButtonEl.classList.remove('colab-df-spinner');\n",
              "      quickchartButtonEl.classList.add('colab-df-quickchart-complete');\n",
              "    }\n",
              "    (() => {\n",
              "      let quickchartButtonEl =\n",
              "        document.querySelector('#df-a37bafcc-5064-4718-bb1b-0954a053436b button');\n",
              "      quickchartButtonEl.style.display =\n",
              "        google.colab.kernel.accessAllowed ? 'block' : 'none';\n",
              "    })();\n",
              "  </script>\n",
              "</div>\n",
              "    </div>\n",
              "  </div>\n"
            ]
          },
          "metadata": {},
          "execution_count": 639
        }
      ]
    },
    {
      "cell_type": "code",
      "source": [
        "history2 = new_model.fit(h_X_train, h_y_train, epochs=epochs, batch_size = batch_size, validation_split = 0.1, shuffle = True)\n",
        "new_model.summary()"
      ],
      "metadata": {
        "colab": {
          "base_uri": "https://localhost:8080/"
        },
        "id": "3jEH6PhKdz35",
        "outputId": "9698f66b-654c-4c83-d886-ba5ff165bc4d"
      },
      "execution_count": 640,
      "outputs": [
        {
          "output_type": "stream",
          "name": "stdout",
          "text": [
            "Epoch 1/10\n",
            "167/167 [==============================] - 6s 11ms/step - loss: 2.0187 - accuracy: 0.2585 - val_loss: 1.8274 - val_accuracy: 0.2985\n",
            "Epoch 2/10\n",
            "167/167 [==============================] - 1s 7ms/step - loss: 1.9853 - accuracy: 0.2643 - val_loss: 1.8030 - val_accuracy: 0.3153\n",
            "Epoch 3/10\n",
            "167/167 [==============================] - 1s 7ms/step - loss: 1.9524 - accuracy: 0.2767 - val_loss: 1.7821 - val_accuracy: 0.3322\n",
            "Epoch 4/10\n",
            "167/167 [==============================] - 1s 7ms/step - loss: 1.9418 - accuracy: 0.2834 - val_loss: 1.7616 - val_accuracy: 0.3406\n",
            "Epoch 5/10\n",
            "167/167 [==============================] - 1s 7ms/step - loss: 1.9180 - accuracy: 0.3013 - val_loss: 1.7450 - val_accuracy: 0.3626\n",
            "Epoch 6/10\n",
            "167/167 [==============================] - 1s 7ms/step - loss: 1.8886 - accuracy: 0.2919 - val_loss: 1.7294 - val_accuracy: 0.3693\n",
            "Epoch 7/10\n",
            "167/167 [==============================] - 1s 7ms/step - loss: 1.8604 - accuracy: 0.3118 - val_loss: 1.7151 - val_accuracy: 0.3794\n",
            "Epoch 8/10\n",
            "167/167 [==============================] - 1s 8ms/step - loss: 1.8461 - accuracy: 0.3195 - val_loss: 1.7014 - val_accuracy: 0.3828\n",
            "Epoch 9/10\n",
            "167/167 [==============================] - 2s 9ms/step - loss: 1.8146 - accuracy: 0.3243 - val_loss: 1.6892 - val_accuracy: 0.3946\n",
            "Epoch 10/10\n",
            "167/167 [==============================] - 2s 9ms/step - loss: 1.8354 - accuracy: 0.3123 - val_loss: 1.6770 - val_accuracy: 0.4081\n",
            "Model: \"sequential_42\"\n",
            "_________________________________________________________________\n",
            " Layer (type)                Output Shape              Param #   \n",
            "=================================================================\n",
            " lstm_56 (LSTM)              (None, 1, 64)             19712     \n",
            "                                                                 \n",
            " lstm_57 (LSTM)              (None, 128)               98816     \n",
            "                                                                 \n",
            " dropout_56 (Dropout)        (None, 128)               0         \n",
            "                                                                 \n",
            " dense_69 (Dense)            (None, 64)                8256      \n",
            "                                                                 \n",
            " dropout_57 (Dropout)        (None, 64)                0         \n",
            "                                                                 \n",
            " dense_71 (Dense)            (None, 8)                 520       \n",
            "                                                                 \n",
            "=================================================================\n",
            "Total params: 127304 (497.28 KB)\n",
            "Trainable params: 127304 (497.28 KB)\n",
            "Non-trainable params: 0 (0.00 Byte)\n",
            "_________________________________________________________________\n"
          ]
        }
      ]
    },
    {
      "cell_type": "code",
      "source": [
        "import matplotlib.pyplot as plt\n",
        "import seaborn as sns\n",
        "\n",
        "loss = history2.history['loss']\n",
        "val_loss = history2.history['val_loss']\n",
        "epochs = range(1, len(loss) + 1)\n",
        "plt.plot(epochs, loss, 'y', label='Training loss')\n",
        "plt.plot(epochs, val_loss, 'r', label='Validation loss')\n",
        "plt.title('Training and validation loss')\n",
        "plt.xlabel('Epochs')\n",
        "plt.ylabel('Loss')\n",
        "plt.legend()\n",
        "plt.show()"
      ],
      "metadata": {
        "colab": {
          "base_uri": "https://localhost:8080/",
          "height": 472
        },
        "id": "kXsFbDJEifzH",
        "outputId": "bf03ff82-763b-418a-8e0a-decf9004808c"
      },
      "execution_count": 641,
      "outputs": [
        {
          "output_type": "display_data",
          "data": {
            "text/plain": [
              "<Figure size 640x480 with 1 Axes>"
            ],
            "image/png": "[encoded data removed]"
          },
          "metadata": {}
        }
      ]
    },
    {
      "cell_type": "code",
      "source": [
        "acc = history2.history['accuracy']\n",
        "val_acc = history2.history['val_accuracy']\n",
        "plt.plot(epochs, acc, 'y', label='Training acc')\n",
        "plt.plot(epochs, val_acc, 'r', label='Validation acc')\n",
        "plt.title('Training and validation accuracy')\n",
        "plt.xlabel('Epochs')\n",
        "plt.ylabel('Accuracy')\n",
        "plt.legend()\n",
        "plt.show()"
      ],
      "metadata": {
        "colab": {
          "base_uri": "https://localhost:8080/",
          "height": 472
        },
        "id": "bYOwKcbYh3wC",
        "outputId": "a8d68e74-4eae-45cb-e256-84841527de34"
      },
      "execution_count": 642,
      "outputs": [
        {
          "output_type": "display_data",
          "data": {
            "text/plain": [
              "<Figure size 640x480 with 1 Axes>"
            ],
            "image/png": "[encoded data removed]"
          },
          "metadata": {}
        }
      ]
    },
    {
      "cell_type": "code",
      "source": [
        "new_model.evaluate(h_X_test, h_y_test)\n",
        "y_pred = new_model.predict(h_X_test)"
      ],
      "metadata": {
        "colab": {
          "base_uri": "https://localhost:8080/"
        },
        "id": "p3hjJ9W1eeQ4",
        "outputId": "30c063f9-2e09-4a1d-cdb3-479e245a0dd4"
      },
      "execution_count": 643,
      "outputs": [
        {
          "output_type": "stream",
          "name": "stdout",
          "text": [
            "3519/3519 [==============================] - 14s 4ms/step - loss: 1.6594 - accuracy: 0.4190\n",
            "3519/3519 [==============================] - 11s 3ms/step\n"
          ]
        }
      ]
    }
  ]
}