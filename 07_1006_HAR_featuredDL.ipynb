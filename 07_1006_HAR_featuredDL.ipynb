{
  "cells": [
    {
      "cell_type": "code",
      "execution_count": 2,
      "metadata": {
        "id": "glh8nib3zfi9"
      },
      "outputs": [],
      "source": [
        "# Imports\n",
        "import pandas as pd\n",
        "import numpy as np\n",
        "import matplotlib.pyplot as plt\n",
        "import seaborn as sns\n",
        "from sklearn.model_selection import train_test_split, cross_val_score\n",
        "from sklearn.metrics import classification_report, accuracy_score, recall_score, precision_score, f1_score, confusion_matrix\n",
        "from sklearn.preprocessing import StandardScaler\n",
        "from numpy import array\n",
        "from keras.models import Sequential\n",
        "from keras.layers import Dense, Flatten, Dropout\n",
        "from tensorflow.keras.layers import Conv1D, MaxPooling1D\n",
        "from tensorflow.keras.utils import to_categorical\n",
        "from sklearn.model_selection import KFold"
      ]
    },
    {
      "cell_type": "code",
      "source": [
        "from google.colab import drive\n",
        "drive.mount('/content/drive')"
      ],
      "metadata": {
        "colab": {
          "base_uri": "https://localhost:8080/"
        },
        "id": "5Eqrfepuzl6C",
        "outputId": "b680d7f6-bf7f-4c28-dd35-428a60532797"
      },
      "execution_count": 3,
      "outputs": [
        {
          "output_type": "stream",
          "name": "stdout",
          "text": [
            "Drive already mounted at /content/drive; to attempt to forcibly remount, call drive.mount(\"/content/drive\", force_remount=True).\n"
          ]
        }
      ]
    },
    {
      "cell_type": "code",
      "execution_count": 4,
      "metadata": {
        "id": "JyQudXTYzfjD"
      },
      "outputs": [],
      "source": [
        "def get_new_feature_name_df(old_feature_name_df):\n",
        "    feature_dup_df = pd.DataFrame(data=old_feature_name_df.groupby('column_name').cumcount(),\n",
        "                                  columns=['dup_cnt'])\n",
        "    feature_dup_df = feature_dup_df.reset_index()\n",
        "    new_feature_name_df = pd.merge(old_feature_name_df.reset_index(), feature_dup_df, how='outer')\n",
        "    new_feature_name_df['column_name'] = new_feature_name_df[['column_name', 'dup_cnt']].apply(lambda x : x[0]+'_'+str(x[1])\n",
        "                                                                                         if x[1] >0 else x[0] ,  axis=1)\n",
        "    new_feature_name_df = new_feature_name_df.drop(['index'], axis=1)\n",
        "    return new_feature_name_df\n",
        "\n",
        "def get_human_dataset( ):\n",
        "\n",
        "    # 각 데이터 파일들은 공백으로 분리되어 있으므로 read_csv에서 공백 문자를 sep으로 할당.\n",
        "    feature_name_df = pd.read_csv('/content/drive/MyDrive/UCI HAR Dataset/UCI HAR Dataset/features.txt',sep='\\s+',\n",
        "                        header=None,names=['column_index','column_name'])\n",
        "\n",
        "    # 중복된 피처명을 수정하는 get_new_feature_name_df()를 이용, 신규 피처명 DataFrame생성.\n",
        "    new_feature_name_df = get_new_feature_name_df(feature_name_df)\n",
        "\n",
        "    # DataFrame에 피처명을 컬럼으로 부여하기 위해 리스트 객체로 다시 변환\n",
        "    feature_name = new_feature_name_df.iloc[:, 1].values.tolist()\n",
        "\n",
        "    # 학습 피처 데이터 셋과 테스트 피처 데이터을 DataFrame으로 로딩. 컬럼명은 feature_name 적용\n",
        "    X_train = pd.read_csv('/content/drive/MyDrive/UCI HAR Dataset/UCI HAR Dataset/train/X_train.txt',sep='\\s+', names=feature_name )\n",
        "    X_test = pd.read_csv('/content/drive/MyDrive/UCI HAR Dataset/UCI HAR Dataset/test/X_test.txt',sep='\\s+', names=feature_name)\n",
        "\n",
        "    # 학습 레이블과 테스트 레이블 데이터을 DataFrame으로 로딩하고 컬럼명은 action으로 부여\n",
        "    y_train = pd.read_csv('/content/drive/MyDrive/UCI HAR Dataset/UCI HAR Dataset/train/y_train.txt',sep='\\s+',header=None,names=['action'])\n",
        "    y_test = pd.read_csv('/content/drive/MyDrive/UCI HAR Dataset/UCI HAR Dataset/test/y_test.txt',sep='\\s+',header=None,names=['action'])\n",
        "\n",
        "    # 로드된 학습/테스트용 DataFrame을 모두 반환\n",
        "    return X_train, X_test, y_train, y_test"
      ]
    },
    {
      "cell_type": "code",
      "execution_count": 5,
      "metadata": {
        "id": "1zXnhWXuzfjE"
      },
      "outputs": [],
      "source": [
        "# 결정 트리에서 사용한 get_human_dataset( )을 이용해 학습/테스트용 DataFrame 반환\n",
        "X_train, X_test, y_train, y_test = get_human_dataset()"
      ]
    },
    {
      "cell_type": "code",
      "execution_count": 6,
      "metadata": {
        "colab": {
          "base_uri": "https://localhost:8080/"
        },
        "id": "FmGRHJsgzfjF",
        "outputId": "a07b5784-41b9-492a-e89b-aa0a96d26a66"
      },
      "outputs": [
        {
          "output_type": "execute_result",
          "data": {
            "text/plain": [
              "((7352, 561), (2947, 561), (7352, 1), (2947, 1))"
            ]
          },
          "metadata": {},
          "execution_count": 6
        }
      ],
      "source": [
        "X_train.shape, X_test.shape, y_train.shape, y_test.shape"
      ]
    },
    {
      "cell_type": "code",
      "execution_count": 7,
      "metadata": {
        "id": "hKC5WZs1zfjI"
      },
      "outputs": [],
      "source": [
        "# Scale train/ test predictors based on training data\n",
        "scaler = StandardScaler().fit(X_train)\n",
        "X_train = scaler.transform(X_train)\n",
        "X_test = scaler.transform(X_test)"
      ]
    },
    {
      "cell_type": "code",
      "execution_count": 8,
      "metadata": {
        "id": "Nlsvydv9zfjJ"
      },
      "outputs": [],
      "source": [
        "##CNN, LSTM을 위해 3차원 데이터로 shape 변형한다.\n",
        "\n",
        "# Reformat the training data into sequence samples\n",
        "# Source: https://machinelearningmastery.com/how-to-develop-convolutional-neural-network-models-for-time-series-forecasting/\n",
        "\n",
        "def split_sequences(sequences, n_steps):\n",
        "\tX, y = list(), list()\n",
        "\tfor i in range(len(sequences)):\n",
        "\t\t# find the end of this pattern\n",
        "\t\tend_ix = i + n_steps\n",
        "\t\t# check if we are beyond the dataset\n",
        "\t\tif end_ix > len(sequences):\n",
        "\t\t\tbreak\n",
        "\t\t# gather input and output parts of the pattern\n",
        "\t\tseq_x, seq_y = sequences[i:end_ix, :-1], sequences[end_ix-1, -1]\n",
        "\t\tX.append(seq_x)\n",
        "\t\ty.append(seq_y)\n",
        "\treturn array(X), array(y)\n",
        "\n"
      ]
    },
    {
      "cell_type": "code",
      "execution_count": 9,
      "metadata": {
        "colab": {
          "base_uri": "https://localhost:8080/"
        },
        "id": "jz8PqAB5zfjJ",
        "outputId": "c765218d-c8ff-427b-ac4f-a46e99a9365d"
      },
      "outputs": [
        {
          "output_type": "stream",
          "name": "stdout",
          "text": [
            "(7328, 25, 561) (7328,)\n",
            "(2923, 25, 561) (2923,)\n"
          ]
        }
      ],
      "source": [
        "# Merge train and test X/y data to apply sequence transformation function\n",
        "y_train_array = np.array(y_train)\n",
        "train_set = np.c_[X_train, y_train_array]\n",
        "\n",
        "y_test_array = np.array(y_test)\n",
        "test_set = np.c_[X_test, y_test_array]\n",
        "\n",
        "\n",
        "# Apply sequence transformation using time step of 25 for both train and test data\n",
        "# All sensing modalities are recorded at a sampling rate of 50 Hz, which is considered sufficient for capturing human activity.\n",
        "\n",
        "X_train, y_train = split_sequences(train_set, 25)\n",
        "print(X_train.shape, y_train.shape)\n",
        "\n",
        "X_test, y_test = split_sequences(test_set, 25)\n",
        "print(X_test.shape, y_test.shape)"
      ]
    },
    {
      "cell_type": "code",
      "execution_count": 10,
      "metadata": {
        "colab": {
          "base_uri": "https://localhost:8080/"
        },
        "id": "7tajxkMSzfjK",
        "outputId": "a6515ef3-4a0f-4aaa-f1d8-ee21c9f29242"
      },
      "outputs": [
        {
          "output_type": "stream",
          "name": "stdout",
          "text": [
            "(7328, 25, 561) (7328,)\n"
          ]
        }
      ],
      "source": [
        "print(X_train.shape, y_train.shape)"
      ]
    },
    {
      "cell_type": "code",
      "execution_count": 11,
      "metadata": {
        "colab": {
          "base_uri": "https://localhost:8080/"
        },
        "id": "cHAkR0tVzfjK",
        "outputId": "9e4a58a9-c5a6-41f7-cc4c-54c3125e0964"
      },
      "outputs": [
        {
          "output_type": "stream",
          "name": "stdout",
          "text": [
            "(7328, 7)\n",
            "(2923, 7)\n"
          ]
        }
      ],
      "source": [
        "# Convert output variables to categorical for CNN\n",
        "y_train = to_categorical(y_train)\n",
        "print(y_train.shape)\n",
        "\n",
        "y_test = to_categorical(y_test)\n",
        "print(y_test.shape)"
      ]
    },
    {
      "cell_type": "code",
      "execution_count": 12,
      "metadata": {
        "colab": {
          "base_uri": "https://localhost:8080/"
        },
        "id": "EkNDPzq8zfjL",
        "outputId": "5fe7dc65-c060-4e09-a5b1-a76e2f0a60c7"
      },
      "outputs": [
        {
          "output_type": "stream",
          "name": "stdout",
          "text": [
            "25 561 7\n"
          ]
        }
      ],
      "source": [
        "# Produce variables for CNN input/output shape\n",
        "n_timesteps, n_features, n_outputs = X_train.shape[1], X_train.shape[2], y_train.shape[1]\n",
        "print(n_timesteps, n_features, n_outputs)"
      ]
    },
    {
      "cell_type": "markdown",
      "metadata": {
        "id": "2tzhaZsmzfjL"
      },
      "source": [
        "##CNN"
      ]
    },
    {
      "cell_type": "code",
      "execution_count": 15,
      "metadata": {
        "id": "bzh8ckAyzfjN"
      },
      "outputs": [],
      "source": [
        "## set number of epochs and batch size\n",
        "batch_size = 64\n",
        "validation_split = 0.2\n",
        "train_epochs = 20"
      ]
    },
    {
      "cell_type": "code",
      "execution_count": 13,
      "metadata": {
        "colab": {
          "base_uri": "https://localhost:8080/"
        },
        "id": "a7soPzBSzfjN",
        "outputId": "debfa207-831c-43da-e517-d8c4876a8ab8"
      },
      "outputs": [
        {
          "output_type": "stream",
          "name": "stdout",
          "text": [
            "Model: \"sequential\"\n",
            "_________________________________________________________________\n",
            " Layer (type)                Output Shape              Param #   \n",
            "=================================================================\n",
            " conv1d (Conv1D)             (None, 22, 64)            143680    \n",
            "                                                                 \n",
            " dropout (Dropout)           (None, 22, 64)            0         \n",
            "                                                                 \n",
            " max_pooling1d (MaxPooling1  (None, 11, 64)            0         \n",
            " D)                                                              \n",
            "                                                                 \n",
            " flatten (Flatten)           (None, 704)               0         \n",
            "                                                                 \n",
            " dense (Dense)               (None, 100)               70500     \n",
            "                                                                 \n",
            " dense_1 (Dense)             (None, 7)                 707       \n",
            "                                                                 \n",
            "=================================================================\n",
            "Total params: 214887 (839.40 KB)\n",
            "Trainable params: 214887 (839.40 KB)\n",
            "Non-trainable params: 0 (0.00 Byte)\n",
            "_________________________________________________________________\n"
          ]
        }
      ],
      "source": [
        "\n",
        "\n",
        "#모델 생성\n",
        "model = Sequential()\n",
        "\n",
        "#컨벌루션(합성곱)레이어 추가\n",
        "model.add(Conv1D(filters=64, kernel_size=4, activation='relu', input_shape=(n_timesteps,n_features)))\n",
        "model.add(Dropout(0.5)) #과적합방지\n",
        "model.add(MaxPooling1D(pool_size=2))\n",
        "\n",
        "#flatten\n",
        "model.add(Flatten())\n",
        "\n",
        "#denselayer 추가\n",
        "model.add(Dense(100, activation='relu'))\n",
        "model.add(Dense(n_outputs, activation='softmax'))\n",
        "\n",
        "model.summary()"
      ]
    },
    {
      "cell_type": "code",
      "execution_count": 14,
      "metadata": {
        "id": "px-alo1NzfjN"
      },
      "outputs": [],
      "source": [
        "model.compile(loss='categorical_crossentropy', optimizer='adam', metrics=['accuracy'])"
      ]
    },
    {
      "cell_type": "code",
      "execution_count": 16,
      "metadata": {
        "colab": {
          "base_uri": "https://localhost:8080/"
        },
        "id": "sUetLyERzfjP",
        "outputId": "5e847573-7b44-4be4-d6d9-8d9cc17de13f"
      },
      "outputs": [
        {
          "output_type": "stream",
          "name": "stdout",
          "text": [
            "Epoch 1/20\n",
            "92/92 [==============================] - 6s 45ms/step - loss: 0.7295 - accuracy: 0.7704 - val_loss: 0.2355 - val_accuracy: 0.9291\n",
            "Epoch 2/20\n",
            "92/92 [==============================] - 3s 35ms/step - loss: 0.2057 - accuracy: 0.9280 - val_loss: 0.2750 - val_accuracy: 0.9154\n",
            "Epoch 3/20\n",
            "92/92 [==============================] - 5s 53ms/step - loss: 0.1124 - accuracy: 0.9616 - val_loss: 0.1461 - val_accuracy: 0.9482\n",
            "Epoch 4/20\n",
            "92/92 [==============================] - 6s 67ms/step - loss: 0.0894 - accuracy: 0.9686 - val_loss: 0.1915 - val_accuracy: 0.9407\n",
            "Epoch 5/20\n",
            "92/92 [==============================] - 3s 35ms/step - loss: 0.0775 - accuracy: 0.9727 - val_loss: 0.1135 - val_accuracy: 0.9632\n",
            "Epoch 6/20\n",
            "92/92 [==============================] - 3s 35ms/step - loss: 0.0555 - accuracy: 0.9819 - val_loss: 0.0908 - val_accuracy: 0.9652\n",
            "Epoch 7/20\n",
            "92/92 [==============================] - 4s 41ms/step - loss: 0.0507 - accuracy: 0.9819 - val_loss: 0.1155 - val_accuracy: 0.9557\n",
            "Epoch 8/20\n",
            "92/92 [==============================] - 5s 57ms/step - loss: 0.0388 - accuracy: 0.9893 - val_loss: 0.0898 - val_accuracy: 0.9707\n",
            "Epoch 9/20\n",
            "92/92 [==============================] - 4s 39ms/step - loss: 0.0497 - accuracy: 0.9838 - val_loss: 0.1664 - val_accuracy: 0.9529\n",
            "Epoch 10/20\n",
            "92/92 [==============================] - 3s 35ms/step - loss: 0.0453 - accuracy: 0.9869 - val_loss: 0.0971 - val_accuracy: 0.9645\n",
            "Epoch 11/20\n",
            "92/92 [==============================] - 4s 47ms/step - loss: 0.0308 - accuracy: 0.9886 - val_loss: 0.0961 - val_accuracy: 0.9686\n",
            "Epoch 12/20\n",
            "92/92 [==============================] - 4s 47ms/step - loss: 0.0590 - accuracy: 0.9841 - val_loss: 0.1300 - val_accuracy: 0.9495\n",
            "Epoch 13/20\n",
            "92/92 [==============================] - 3s 35ms/step - loss: 0.0484 - accuracy: 0.9857 - val_loss: 0.1805 - val_accuracy: 0.9488\n",
            "Epoch 14/20\n",
            "92/92 [==============================] - 3s 35ms/step - loss: 0.0236 - accuracy: 0.9910 - val_loss: 0.1354 - val_accuracy: 0.9550\n",
            "Epoch 15/20\n",
            "92/92 [==============================] - 4s 46ms/step - loss: 0.0298 - accuracy: 0.9901 - val_loss: 0.1341 - val_accuracy: 0.9516\n",
            "Epoch 16/20\n",
            "92/92 [==============================] - 4s 48ms/step - loss: 0.0594 - accuracy: 0.9841 - val_loss: 0.1178 - val_accuracy: 0.9570\n",
            "Epoch 17/20\n",
            "92/92 [==============================] - 3s 35ms/step - loss: 0.0719 - accuracy: 0.9840 - val_loss: 0.0826 - val_accuracy: 0.9693\n",
            "Epoch 18/20\n",
            "92/92 [==============================] - 3s 35ms/step - loss: 0.0683 - accuracy: 0.9797 - val_loss: 0.1264 - val_accuracy: 0.9686\n",
            "Epoch 19/20\n",
            "92/92 [==============================] - 4s 45ms/step - loss: 0.0435 - accuracy: 0.9877 - val_loss: 0.1099 - val_accuracy: 0.9693\n",
            "Epoch 20/20\n",
            "92/92 [==============================] - 5s 56ms/step - loss: 0.0234 - accuracy: 0.9930 - val_loss: 0.1031 - val_accuracy: 0.9645\n"
          ]
        }
      ],
      "source": [
        "#train model\n",
        "# fit network\n",
        "\n",
        "history = model.fit(X_train, y_train, epochs=train_epochs, batch_size=batch_size, verbose=True,  validation_split=validation_split, shuffle=True)"
      ]
    },
    {
      "cell_type": "code",
      "execution_count": 17,
      "metadata": {
        "colab": {
          "base_uri": "https://localhost:8080/"
        },
        "id": "pggJrbKrzfjR",
        "outputId": "6b6ebab2-5d11-4e3b-9454-73af3c3b618a"
      },
      "outputs": [
        {
          "output_type": "stream",
          "name": "stdout",
          "text": [
            "92/92 [==============================] - 1s 8ms/step - loss: 0.1714 - accuracy: 0.9644\n"
          ]
        },
        {
          "output_type": "execute_result",
          "data": {
            "text/plain": [
              "[0.17141924798488617, 0.9644201397895813]"
            ]
          },
          "metadata": {},
          "execution_count": 17
        }
      ],
      "source": [
        "model.evaluate(X_test, y_test)"
      ]
    },
    {
      "cell_type": "markdown",
      "source": [
        "##CNN-LSTM"
      ],
      "metadata": {
        "id": "gX0PUrdK3FxL"
      }
    },
    {
      "cell_type": "code",
      "source": [
        "import tensorflow as tf\n",
        "from tensorflow.keras.models import Sequential\n",
        "from tensorflow.keras.layers import Conv2D, MaxPooling2D, Flatten, LSTM, Dense\n",
        "\n",
        "#n_timesteps, n_features, n_outputs = X_train.shape[1], X_train.shape[2], y_train.shape[1]\n",
        "\n",
        "\n",
        "#모델 생성\n",
        "model = Sequential()\n",
        "\n",
        "#컨벌루션(합성곱)레이어 추가\n",
        "model.add(Conv1D(filters=64, kernel_size=4, activation='relu', input_shape=(n_timesteps,n_features)))\n",
        "model.add(Dropout(0.5)) #과적합방지\n",
        "model.add(MaxPooling1D(pool_size=2))\n",
        "\n",
        "# LSTM 레이어 추가\n",
        "model.add(LSTM(64))\n",
        "\n",
        "#flatten\n",
        "model.add(Flatten())\n",
        "\n",
        "#denselayer 추가\n",
        "model.add(Dense(100, activation='relu'))\n",
        "model.add(Dense(n_outputs, activation='softmax'))\n",
        "\n",
        "model.summary()\n"
      ],
      "metadata": {
        "colab": {
          "base_uri": "https://localhost:8080/"
        },
        "id": "8kgfbifX3EqB",
        "outputId": "53cb7968-818b-4065-a8fc-4905a1b65fab"
      },
      "execution_count": 18,
      "outputs": [
        {
          "output_type": "stream",
          "name": "stdout",
          "text": [
            "Model: \"sequential_1\"\n",
            "_________________________________________________________________\n",
            " Layer (type)                Output Shape              Param #   \n",
            "=================================================================\n",
            " conv1d_1 (Conv1D)           (None, 22, 64)            143680    \n",
            "                                                                 \n",
            " dropout_1 (Dropout)         (None, 22, 64)            0         \n",
            "                                                                 \n",
            " max_pooling1d_1 (MaxPoolin  (None, 11, 64)            0         \n",
            " g1D)                                                            \n",
            "                                                                 \n",
            " lstm (LSTM)                 (None, 64)                33024     \n",
            "                                                                 \n",
            " flatten_1 (Flatten)         (None, 64)                0         \n",
            "                                                                 \n",
            " dense_2 (Dense)             (None, 100)               6500      \n",
            "                                                                 \n",
            " dense_3 (Dense)             (None, 7)                 707       \n",
            "                                                                 \n",
            "=================================================================\n",
            "Total params: 183911 (718.40 KB)\n",
            "Trainable params: 183911 (718.40 KB)\n",
            "Non-trainable params: 0 (0.00 Byte)\n",
            "_________________________________________________________________\n"
          ]
        }
      ]
    },
    {
      "cell_type": "code",
      "source": [
        "model.compile(loss='categorical_crossentropy', optimizer='adam', metrics=['accuracy'])"
      ],
      "metadata": {
        "id": "HzGNmpzy3wSW"
      },
      "execution_count": 19,
      "outputs": []
    },
    {
      "cell_type": "code",
      "source": [
        "#train model\n",
        "# fit network\n",
        "\n",
        "history = model.fit(X_train, y_train, epochs=train_epochs, batch_size=batch_size, verbose=True,  validation_split=validation_split, shuffle=True)"
      ],
      "metadata": {
        "colab": {
          "base_uri": "https://localhost:8080/"
        },
        "id": "Ahd3Ecwl307q",
        "outputId": "a86e8927-dcbe-4cc0-a10e-15b286e4ba28"
      },
      "execution_count": 20,
      "outputs": [
        {
          "output_type": "stream",
          "name": "stdout",
          "text": [
            "Epoch 1/20\n",
            "92/92 [==============================] - 8s 56ms/step - loss: 0.5559 - accuracy: 0.8019 - val_loss: 0.2821 - val_accuracy: 0.9188\n",
            "Epoch 2/20\n",
            "92/92 [==============================] - 5s 51ms/step - loss: 0.1540 - accuracy: 0.9473 - val_loss: 0.2679 - val_accuracy: 0.9209\n",
            "Epoch 3/20\n",
            "92/92 [==============================] - 6s 62ms/step - loss: 0.0815 - accuracy: 0.9739 - val_loss: 0.1029 - val_accuracy: 0.9679\n",
            "Epoch 4/20\n",
            "92/92 [==============================] - 4s 44ms/step - loss: 0.0698 - accuracy: 0.9761 - val_loss: 0.1423 - val_accuracy: 0.9482\n",
            "Epoch 5/20\n",
            "92/92 [==============================] - 4s 47ms/step - loss: 0.0496 - accuracy: 0.9836 - val_loss: 0.0836 - val_accuracy: 0.9768\n",
            "Epoch 6/20\n",
            "92/92 [==============================] - 7s 75ms/step - loss: 0.0499 - accuracy: 0.9826 - val_loss: 0.1102 - val_accuracy: 0.9638\n",
            "Epoch 7/20\n",
            "92/92 [==============================] - 5s 56ms/step - loss: 0.0356 - accuracy: 0.9886 - val_loss: 0.1293 - val_accuracy: 0.9652\n",
            "Epoch 8/20\n",
            "92/92 [==============================] - 8s 84ms/step - loss: 0.0222 - accuracy: 0.9932 - val_loss: 0.0606 - val_accuracy: 0.9782\n",
            "Epoch 9/20\n",
            "92/92 [==============================] - 4s 47ms/step - loss: 0.0311 - accuracy: 0.9898 - val_loss: 0.0784 - val_accuracy: 0.9734\n",
            "Epoch 10/20\n",
            "92/92 [==============================] - 4s 47ms/step - loss: 0.0186 - accuracy: 0.9944 - val_loss: 0.1365 - val_accuracy: 0.9632\n",
            "Epoch 11/20\n",
            "92/92 [==============================] - 6s 63ms/step - loss: 0.0256 - accuracy: 0.9932 - val_loss: 0.1224 - val_accuracy: 0.9700\n",
            "Epoch 12/20\n",
            "92/92 [==============================] - 5s 49ms/step - loss: 0.0285 - accuracy: 0.9901 - val_loss: 0.0712 - val_accuracy: 0.9795\n",
            "Epoch 13/20\n",
            "92/92 [==============================] - 4s 47ms/step - loss: 0.0347 - accuracy: 0.9891 - val_loss: 0.1417 - val_accuracy: 0.9645\n",
            "Epoch 14/20\n",
            "92/92 [==============================] - 8s 83ms/step - loss: 0.0278 - accuracy: 0.9903 - val_loss: 0.1232 - val_accuracy: 0.9720\n",
            "Epoch 15/20\n",
            "92/92 [==============================] - 5s 51ms/step - loss: 0.0333 - accuracy: 0.9903 - val_loss: 0.1461 - val_accuracy: 0.9604\n",
            "Epoch 16/20\n",
            "92/92 [==============================] - 4s 47ms/step - loss: 0.0238 - accuracy: 0.9927 - val_loss: 0.0771 - val_accuracy: 0.9775\n",
            "Epoch 17/20\n",
            "92/92 [==============================] - 5s 53ms/step - loss: 0.0124 - accuracy: 0.9961 - val_loss: 0.0604 - val_accuracy: 0.9850\n",
            "Epoch 18/20\n",
            "92/92 [==============================] - 5s 59ms/step - loss: 0.0115 - accuracy: 0.9973 - val_loss: 0.0646 - val_accuracy: 0.9857\n",
            "Epoch 19/20\n",
            "92/92 [==============================] - 4s 44ms/step - loss: 0.0231 - accuracy: 0.9920 - val_loss: 0.0600 - val_accuracy: 0.9870\n",
            "Epoch 20/20\n",
            "92/92 [==============================] - 5s 50ms/step - loss: 0.0118 - accuracy: 0.9962 - val_loss: 0.0465 - val_accuracy: 0.9884\n"
          ]
        }
      ]
    },
    {
      "cell_type": "code",
      "source": [
        "model.evaluate(X_test, y_test)"
      ],
      "metadata": {
        "colab": {
          "base_uri": "https://localhost:8080/"
        },
        "id": "4DVzpWbH32_Z",
        "outputId": "7bde95ef-3758-47ba-e3dd-9618ecd1664d"
      },
      "execution_count": 21,
      "outputs": [
        {
          "output_type": "stream",
          "name": "stdout",
          "text": [
            "92/92 [==============================] - 1s 10ms/step - loss: 0.1331 - accuracy: 0.9620\n"
          ]
        },
        {
          "output_type": "execute_result",
          "data": {
            "text/plain": [
              "[0.13310837745666504, 0.9620253443717957]"
            ]
          },
          "metadata": {},
          "execution_count": 21
        }
      ]
    }
  ],
  "metadata": {
    "kernelspec": {
      "display_name": "base",
      "language": "python",
      "name": "python3"
    },
    "language_info": {
      "codemirror_mode": {
        "name": "ipython",
        "version": 3
      },
      "file_extension": ".py",
      "mimetype": "text/x-python",
      "name": "python",
      "nbconvert_exporter": "python",
      "pygments_lexer": "ipython3",
      "version": "3.11.4"
    },
    "colab": {
      "provenance": [],
      "toc_visible": true
    }
  },
  "nbformat": 4,
  "nbformat_minor": 0
}