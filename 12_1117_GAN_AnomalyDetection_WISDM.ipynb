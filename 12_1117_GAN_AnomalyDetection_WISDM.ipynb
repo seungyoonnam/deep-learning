{
  "nbformat": 4,
  "nbformat_minor": 0,
  "metadata": {
    "colab": {
      "provenance": [],
      "gpuType": "T4",
      "mount_file_id": "1xX5XXrMa97Lqt7924OQxW9n40Rlp9k_X",
      "authorship_tag": "ABX9TyNhSrgxolFV+p6UBvCWVJLF"
    },
    "kernelspec": {
      "name": "python3",
      "display_name": "Python 3"
    },
    "language_info": {
      "name": "python"
    },
    "accelerator": "GPU"
  },
  "cells": [
    {
      "cell_type": "markdown",
      "source": [
        "- WISDM dataset\n",
        "  - sitting 4500 - (normal)\n",
        "  - running 4500 - (abnormal)\n",
        "- activity를 label로 설정"
      ],
      "metadata": {
        "id": "bAeIOi3ZLkaY"
      }
    },
    {
      "cell_type": "markdown",
      "source": [
        "GAN Anomaly Detection\n",
        "\n",
        "https://github.com/MyungKyuYi/Tutorial/blob/main/GAN_Frauld_Anomaly_Detection.ipynb"
      ],
      "metadata": {
        "id": "TRJxQj_eL0rn"
      }
    },
    {
      "cell_type": "code",
      "execution_count": 143,
      "metadata": {
        "id": "FYn3rfnOKXxn"
      },
      "outputs": [],
      "source": [
        "# 필요한 라이브러리 로드\n",
        "import pandas as pd\n",
        "import numpy as np\n",
        "from sklearn.preprocessing import StandardScaler\n",
        "from tensorflow.keras.layers import Input, Dense, Dropout\n",
        "from tensorflow.keras.models import Model\n",
        "from tensorflow.keras.optimizers import Adam, RMSprop\n",
        "from tensorflow.keras.callbacks import EarlyStopping\n",
        "import matplotlib.pyplot as plt\n",
        "from sklearn.ensemble import IsolationForest"
      ]
    },
    {
      "cell_type": "code",
      "source": [
        "df = pd.read_csv(\"/content/drive/MyDrive/WISDM.csv\")\n",
        "df = df.drop('user-id', axis=1)\n",
        "df = df.drop('timestamp', axis=1)\n",
        "df = df.drop(df.columns[0], axis=1)\n",
        "\n",
        "#Sitting = df[df['activity']=='Sitting'].head(4499).copy()\n",
        "#Jogging = df[df['activity']=='Jogging'].head(4500).copy()\n",
        "#df = pd.concat([Jogging, Sitting])\n",
        "\n",
        "Sitting = df[df['activity']=='Sitting']\n",
        "Jogging = df[df['activity']=='Jogging']\n",
        "df = pd.concat([Jogging, Sitting])\n",
        "\n",
        "df.head()"
      ],
      "metadata": {
        "colab": {
          "base_uri": "https://localhost:8080/",
          "height": 206
        },
        "id": "RoZGNXQNMO-D",
        "outputId": "bd59abad-93b9-40b3-8653-2562e2708564"
      },
      "execution_count": 144,
      "outputs": [
        {
          "output_type": "execute_result",
          "data": {
            "text/plain": [
              "  activity                    X                    Y                    Z\n",
              "0  Jogging           -0.6946377           12.6805440            0.5039529\n",
              "1  Jogging            5.0122880           11.2640280            0.9534243\n",
              "2  Jogging            4.9033250           10.8826580           -0.0817221\n",
              "3  Jogging           -0.6129156           18.4964310            3.0237172\n",
              "4  Jogging           -1.1849703           12.1084890            7.2051640"
            ],
            "text/html": [
              "\n",
              "  <div id=\"df-775eeaea-1edc-49ca-9d18-4114e8748e62\" class=\"colab-df-container\">\n",
              "    <div>\n",
              "<style scoped>\n",
              "    .dataframe tbody tr th:only-of-type {\n",
              "        vertical-align: middle;\n",
              "    }\n",
              "\n",
              "    .dataframe tbody tr th {\n",
              "        vertical-align: top;\n",
              "    }\n",
              "\n",
              "    .dataframe thead th {\n",
              "        text-align: right;\n",
              "    }\n",
              "</style>\n",
              "<table border=\"1\" class=\"dataframe\">\n",
              "  <thead>\n",
              "    <tr style=\"text-align: right;\">\n",
              "      <th></th>\n",
              "      <th>activity</th>\n",
              "      <th>X</th>\n",
              "      <th>Y</th>\n",
              "      <th>Z</th>\n",
              "    </tr>\n",
              "  </thead>\n",
              "  <tbody>\n",
              "    <tr>\n",
              "      <th>0</th>\n",
              "      <td>Jogging</td>\n",
              "      <td>-0.6946377</td>\n",
              "      <td>12.6805440</td>\n",
              "      <td>0.5039529</td>\n",
              "    </tr>\n",
              "    <tr>\n",
              "      <th>1</th>\n",
              "      <td>Jogging</td>\n",
              "      <td>5.0122880</td>\n",
              "      <td>11.2640280</td>\n",
              "      <td>0.9534243</td>\n",
              "    </tr>\n",
              "    <tr>\n",
              "      <th>2</th>\n",
              "      <td>Jogging</td>\n",
              "      <td>4.9033250</td>\n",
              "      <td>10.8826580</td>\n",
              "      <td>-0.0817221</td>\n",
              "    </tr>\n",
              "    <tr>\n",
              "      <th>3</th>\n",
              "      <td>Jogging</td>\n",
              "      <td>-0.6129156</td>\n",
              "      <td>18.4964310</td>\n",
              "      <td>3.0237172</td>\n",
              "    </tr>\n",
              "    <tr>\n",
              "      <th>4</th>\n",
              "      <td>Jogging</td>\n",
              "      <td>-1.1849703</td>\n",
              "      <td>12.1084890</td>\n",
              "      <td>7.2051640</td>\n",
              "    </tr>\n",
              "  </tbody>\n",
              "</table>\n",
              "</div>\n",
              "    <div class=\"colab-df-buttons\">\n",
              "\n",
              "  <div class=\"colab-df-container\">\n",
              "    <button class=\"colab-df-convert\" onclick=\"convertToInteractive('df-775eeaea-1edc-49ca-9d18-4114e8748e62')\"\n",
              "            title=\"Convert this dataframe to an interactive table.\"\n",
              "            style=\"display:none;\">\n",
              "\n",
              "  <svg xmlns=\"http://www.w3.org/2000/svg\" height=\"24px\" viewBox=\"0 -960 960 960\">\n",
              "    <path d=\"M120-120v-720h720v720H120Zm60-500h600v-160H180v160Zm220 220h160v-160H400v160Zm0 220h160v-160H400v160ZM180-400h160v-160H180v160Zm440 0h160v-160H620v160ZM180-180h160v-160H180v160Zm440 0h160v-160H620v160Z\"/>\n",
              "  </svg>\n",
              "    </button>\n",
              "\n",
              "  <style>\n",
              "    .colab-df-container {\n",
              "      display:flex;\n",
              "      gap: 12px;\n",
              "    }\n",
              "\n",
              "    .colab-df-convert {\n",
              "      background-color: #E8F0FE;\n",
              "      border: none;\n",
              "      border-radius: 50%;\n",
              "      cursor: pointer;\n",
              "      display: none;\n",
              "      fill: #1967D2;\n",
              "      height: 32px;\n",
              "      padding: 0 0 0 0;\n",
              "      width: 32px;\n",
              "    }\n",
              "\n",
              "    .colab-df-convert:hover {\n",
              "      background-color: #E2EBFA;\n",
              "      box-shadow: 0px 1px 2px rgba(60, 64, 67, 0.3), 0px 1px 3px 1px rgba(60, 64, 67, 0.15);\n",
              "      fill: #174EA6;\n",
              "    }\n",
              "\n",
              "    .colab-df-buttons div {\n",
              "      margin-bottom: 4px;\n",
              "    }\n",
              "\n",
              "    [theme=dark] .colab-df-convert {\n",
              "      background-color: #3B4455;\n",
              "      fill: #D2E3FC;\n",
              "    }\n",
              "\n",
              "    [theme=dark] .colab-df-convert:hover {\n",
              "      background-color: #434B5C;\n",
              "      box-shadow: 0px 1px 3px 1px rgba(0, 0, 0, 0.15);\n",
              "      filter: drop-shadow(0px 1px 2px rgba(0, 0, 0, 0.3));\n",
              "      fill: #FFFFFF;\n",
              "    }\n",
              "  </style>\n",
              "\n",
              "    <script>\n",
              "      const buttonEl =\n",
              "        document.querySelector('#df-775eeaea-1edc-49ca-9d18-4114e8748e62 button.colab-df-convert');\n",
              "      buttonEl.style.display =\n",
              "        google.colab.kernel.accessAllowed ? 'block' : 'none';\n",
              "\n",
              "      async function convertToInteractive(key) {\n",
              "        const element = document.querySelector('#df-775eeaea-1edc-49ca-9d18-4114e8748e62');\n",
              "        const dataTable =\n",
              "          await google.colab.kernel.invokeFunction('convertToInteractive',\n",
              "                                                    [key], {});\n",
              "        if (!dataTable) return;\n",
              "\n",
              "        const docLinkHtml = 'Like what you see? Visit the ' +\n",
              "          '<a target=\"_blank\" href=https://colab.research.google.com/notebooks/data_table.ipynb>data table notebook</a>'\n",
              "          + ' to learn more about interactive tables.';\n",
              "        element.innerHTML = '';\n",
              "        dataTable['output_type'] = 'display_data';\n",
              "        await google.colab.output.renderOutput(dataTable, element);\n",
              "        const docLink = document.createElement('div');\n",
              "        docLink.innerHTML = docLinkHtml;\n",
              "        element.appendChild(docLink);\n",
              "      }\n",
              "    </script>\n",
              "  </div>\n",
              "\n",
              "\n",
              "<div id=\"df-1ad5aed2-2e1c-48a9-9a39-ef85b0008f38\">\n",
              "  <button class=\"colab-df-quickchart\" onclick=\"quickchart('df-1ad5aed2-2e1c-48a9-9a39-ef85b0008f38')\"\n",
              "            title=\"Suggest charts\"\n",
              "            style=\"display:none;\">\n",
              "\n",
              "<svg xmlns=\"http://www.w3.org/2000/svg\" height=\"24px\"viewBox=\"0 0 24 24\"\n",
              "     width=\"24px\">\n",
              "    <g>\n",
              "        <path d=\"M19 3H5c-1.1 0-2 .9-2 2v14c0 1.1.9 2 2 2h14c1.1 0 2-.9 2-2V5c0-1.1-.9-2-2-2zM9 17H7v-7h2v7zm4 0h-2V7h2v10zm4 0h-2v-4h2v4z\"/>\n",
              "    </g>\n",
              "</svg>\n",
              "  </button>\n",
              "\n",
              "<style>\n",
              "  .colab-df-quickchart {\n",
              "      --bg-color: #E8F0FE;\n",
              "      --fill-color: #1967D2;\n",
              "      --hover-bg-color: #E2EBFA;\n",
              "      --hover-fill-color: #174EA6;\n",
              "      --disabled-fill-color: #AAA;\n",
              "      --disabled-bg-color: #DDD;\n",
              "  }\n",
              "\n",
              "  [theme=dark] .colab-df-quickchart {\n",
              "      --bg-color: #3B4455;\n",
              "      --fill-color: #D2E3FC;\n",
              "      --hover-bg-color: #434B5C;\n",
              "      --hover-fill-color: #FFFFFF;\n",
              "      --disabled-bg-color: #3B4455;\n",
              "      --disabled-fill-color: #666;\n",
              "  }\n",
              "\n",
              "  .colab-df-quickchart {\n",
              "    background-color: var(--bg-color);\n",
              "    border: none;\n",
              "    border-radius: 50%;\n",
              "    cursor: pointer;\n",
              "    display: none;\n",
              "    fill: var(--fill-color);\n",
              "    height: 32px;\n",
              "    padding: 0;\n",
              "    width: 32px;\n",
              "  }\n",
              "\n",
              "  .colab-df-quickchart:hover {\n",
              "    background-color: var(--hover-bg-color);\n",
              "    box-shadow: 0 1px 2px rgba(60, 64, 67, 0.3), 0 1px 3px 1px rgba(60, 64, 67, 0.15);\n",
              "    fill: var(--button-hover-fill-color);\n",
              "  }\n",
              "\n",
              "  .colab-df-quickchart-complete:disabled,\n",
              "  .colab-df-quickchart-complete:disabled:hover {\n",
              "    background-color: var(--disabled-bg-color);\n",
              "    fill: var(--disabled-fill-color);\n",
              "    box-shadow: none;\n",
              "  }\n",
              "\n",
              "  .colab-df-spinner {\n",
              "    border: 2px solid var(--fill-color);\n",
              "    border-color: transparent;\n",
              "    border-bottom-color: var(--fill-color);\n",
              "    animation:\n",
              "      spin 1s steps(1) infinite;\n",
              "  }\n",
              "\n",
              "  @keyframes spin {\n",
              "    0% {\n",
              "      border-color: transparent;\n",
              "      border-bottom-color: var(--fill-color);\n",
              "      border-left-color: var(--fill-color);\n",
              "    }\n",
              "    20% {\n",
              "      border-color: transparent;\n",
              "      border-left-color: var(--fill-color);\n",
              "      border-top-color: var(--fill-color);\n",
              "    }\n",
              "    30% {\n",
              "      border-color: transparent;\n",
              "      border-left-color: var(--fill-color);\n",
              "      border-top-color: var(--fill-color);\n",
              "      border-right-color: var(--fill-color);\n",
              "    }\n",
              "    40% {\n",
              "      border-color: transparent;\n",
              "      border-right-color: var(--fill-color);\n",
              "      border-top-color: var(--fill-color);\n",
              "    }\n",
              "    60% {\n",
              "      border-color: transparent;\n",
              "      border-right-color: var(--fill-color);\n",
              "    }\n",
              "    80% {\n",
              "      border-color: transparent;\n",
              "      border-right-color: var(--fill-color);\n",
              "      border-bottom-color: var(--fill-color);\n",
              "    }\n",
              "    90% {\n",
              "      border-color: transparent;\n",
              "      border-bottom-color: var(--fill-color);\n",
              "    }\n",
              "  }\n",
              "</style>\n",
              "\n",
              "  <script>\n",
              "    async function quickchart(key) {\n",
              "      const quickchartButtonEl =\n",
              "        document.querySelector('#' + key + ' button');\n",
              "      quickchartButtonEl.disabled = true;  // To prevent multiple clicks.\n",
              "      quickchartButtonEl.classList.add('colab-df-spinner');\n",
              "      try {\n",
              "        const charts = await google.colab.kernel.invokeFunction(\n",
              "            'suggestCharts', [key], {});\n",
              "      } catch (error) {\n",
              "        console.error('Error during call to suggestCharts:', error);\n",
              "      }\n",
              "      quickchartButtonEl.classList.remove('colab-df-spinner');\n",
              "      quickchartButtonEl.classList.add('colab-df-quickchart-complete');\n",
              "    }\n",
              "    (() => {\n",
              "      let quickchartButtonEl =\n",
              "        document.querySelector('#df-1ad5aed2-2e1c-48a9-9a39-ef85b0008f38 button');\n",
              "      quickchartButtonEl.style.display =\n",
              "        google.colab.kernel.accessAllowed ? 'block' : 'none';\n",
              "    })();\n",
              "  </script>\n",
              "</div>\n",
              "    </div>\n",
              "  </div>\n"
            ]
          },
          "metadata": {},
          "execution_count": 144
        }
      ]
    },
    {
      "cell_type": "code",
      "source": [
        "df['activity'].value_counts()\n",
        "\n",
        "from sklearn.preprocessing import LabelEncoder\n",
        "\n",
        "le=LabelEncoder()\n",
        "\n",
        "df['activity']=le.fit_transform(df['activity'])"
      ],
      "metadata": {
        "id": "3Zf5J8tJMQds"
      },
      "execution_count": 145,
      "outputs": []
    },
    {
      "cell_type": "code",
      "source": [
        "df['activity'].value_counts()"
      ],
      "metadata": {
        "colab": {
          "base_uri": "https://localhost:8080/"
        },
        "id": "MAzNT7dEMsEC",
        "outputId": "c612a1cd-3785-4919-96c6-71a8db86ea37"
      },
      "execution_count": 146,
      "outputs": [
        {
          "output_type": "execute_result",
          "data": {
            "text/plain": [
              "0    342176\n",
              "1     59939\n",
              "Name: activity, dtype: int64"
            ]
          },
          "metadata": {},
          "execution_count": 146
        }
      ]
    },
    {
      "cell_type": "markdown",
      "source": [
        "- 1: Sitting(normal)\n",
        "- 0: Running(abnormal)"
      ],
      "metadata": {
        "id": "295COl1gMtjH"
      }
    },
    {
      "cell_type": "code",
      "source": [
        "from sklearn.model_selection import train_test_split\n",
        "\n",
        "X_train, X_test = train_test_split(df, test_size=0.2, random_state=42)\n",
        "X_train, X_val = train_test_split(X_train, test_size=0.2, random_state=42)\n",
        "\n",
        "X_train.shape, X_val.shape, X_test.shape"
      ],
      "metadata": {
        "id": "gS6obYmyP6dl",
        "colab": {
          "base_uri": "https://localhost:8080/"
        },
        "outputId": "11afe365-3a50-474c-eae4-5bca327f7d0a"
      },
      "execution_count": 147,
      "outputs": [
        {
          "output_type": "execute_result",
          "data": {
            "text/plain": [
              "((257353, 4), (64339, 4), (80423, 4))"
            ]
          },
          "metadata": {},
          "execution_count": 147
        }
      ]
    },
    {
      "cell_type": "code",
      "source": [
        "LABELS = [\"Running(abnorm)\", \"Sitting(norm)\"]\n",
        "\n",
        "count_classes = pd.value_counts(X_train['activity'], sort = True)\n",
        "count_classes.plot(kind = 'bar', rot=0)\n",
        "plt.title(\"Transaction class distribution\")\n",
        "plt.xticks(range(2), LABELS)\n",
        "plt.xlabel(\"Class\")\n",
        "plt.ylabel(\"Frequency\");"
      ],
      "metadata": {
        "colab": {
          "base_uri": "https://localhost:8080/",
          "height": 472
        },
        "id": "_dMawasqA3iE",
        "outputId": "8fded6b1-97d4-436b-ca97-3cf940ea2596"
      },
      "execution_count": 148,
      "outputs": [
        {
          "output_type": "display_data",
          "data": {
            "text/plain": [
              "<Figure size 640x480 with 1 Axes>"
            ],
            "image/png": "[encoded data removed]"
          },
          "metadata": {}
        }
      ]
    },
    {
      "cell_type": "code",
      "source": [
        "# Normal = Sitting, False = Jogging\n",
        "\n",
        "X_train = X_train[X_train.activity == 1]\n",
        "X_train = X_train.drop(['activity'], axis=1)\n",
        "\n",
        "X_val = X_val[X_val.activity == 1]\n",
        "X_val = X_val.drop(['activity'], axis=1)\n",
        "\n",
        "y_test = X_test['activity']\n",
        "X_test = X_test.drop(['activity'], axis=1)\n",
        "\n",
        "X_train = X_train.values\n",
        "X_val = X_val.values\n",
        "X_test = X_test.values"
      ],
      "metadata": {
        "id": "7N6hqxzhM_2R"
      },
      "execution_count": 149,
      "outputs": []
    },
    {
      "cell_type": "code",
      "source": [
        "# Normalize the above splits using the MinMaxScaler from the scikit learn package\n",
        "from sklearn.preprocessing import MinMaxScaler\n",
        "\n",
        "scaler = MinMaxScaler()\n",
        "\n",
        "# Make sure to only fit the scaler on the training data\n",
        "X_train = scaler.fit_transform(X_train)\n",
        "X_test = scaler.transform(X_test)"
      ],
      "metadata": {
        "id": "4srER--m7AUs"
      },
      "execution_count": 150,
      "outputs": []
    },
    {
      "cell_type": "code",
      "source": [
        "X_train.shape"
      ],
      "metadata": {
        "id": "dPGLzdjdL6p3",
        "colab": {
          "base_uri": "https://localhost:8080/"
        },
        "outputId": "aa67a151-e061-4b0b-9fd6-3b683df5dab9"
      },
      "execution_count": 151,
      "outputs": [
        {
          "output_type": "execute_result",
          "data": {
            "text/plain": [
              "(38372, 3)"
            ]
          },
          "metadata": {},
          "execution_count": 151
        }
      ]
    },
    {
      "cell_type": "code",
      "source": [
        "NUM_COL=3"
      ],
      "metadata": {
        "id": "XDekTgBG7zlv"
      },
      "execution_count": 152,
      "outputs": []
    },
    {
      "cell_type": "code",
      "source": [
        "#Setting the Hyperparameters\n",
        "\n",
        "#learning_rate = 0.00001\n",
        "learning_rate = 0.0001\n",
        "batch_size = 512\n",
        "epochs = 5\n",
        "adam = Adam(learning_rate = learning_rate, beta_1 = 0.5)"
      ],
      "metadata": {
        "id": "Ul6rxn6e8C3c"
      },
      "execution_count": 153,
      "outputs": []
    },
    {
      "cell_type": "code",
      "source": [
        "# Defining the Generator network\n",
        "\n",
        "def get_generator(optimizer):\n",
        "\n",
        "    generator = Sequential()\n",
        "    generator.add(Dense(64, input_dim=NUM_COL, kernel_initializer=initializers.glorot_normal(seed=42)))\n",
        "    generator.add(Activation('tanh'))\n",
        "\n",
        "    generator.add(Dense(128))\n",
        "    generator.add(Activation('tanh'))\n",
        "\n",
        "    generator.add(Dense(256))\n",
        "    generator.add(Activation('tanh'))\n",
        "\n",
        "    generator.add(Dense(256))\n",
        "    generator.add(Activation('tanh'))\n",
        "\n",
        "    generator.add(Dense(512))\n",
        "    generator.add(Activation('tanh'))\n",
        "\n",
        "    generator.add(Dense(NUM_COL, activation='tanh'))\n",
        "\n",
        "    generator.compile(loss='binary_crossentropy', optimizer=Adam(lr=0.0002, beta_1=0.5))\n",
        "\n",
        "    return generator"
      ],
      "metadata": {
        "id": "UyX9yMGF8Eeq"
      },
      "execution_count": 154,
      "outputs": []
    },
    {
      "cell_type": "code",
      "source": [
        "##### Defining the Discriminator network\n",
        "\n",
        "def get_discriminator(optimizer):\n",
        "\n",
        "    discriminator = Sequential()\n",
        "\n",
        "    discriminator.add(Dense(512, input_dim=NUM_COL, kernel_initializer=initializers.glorot_normal(seed=42)))\n",
        "    discriminator.add(Activation('relu'))\n",
        "    discriminator.add(Dropout(0.2))\n",
        "\n",
        "    discriminator.add(Dense(256))\n",
        "    discriminator.add(Activation('relu'))\n",
        "    discriminator.add(Dropout(0.2))\n",
        "\n",
        "    discriminator.add(Dense(256))\n",
        "    discriminator.add(Activation('relu'))\n",
        "    discriminator.add(Dropout(0.2))\n",
        "\n",
        "    discriminator.add(Dense(64))\n",
        "    discriminator.add(Activation('relu'))\n",
        "    discriminator.add(Dropout(0.2))\n",
        "\n",
        "    discriminator.add(Dense(1))\n",
        "    discriminator.add(Activation('sigmoid'))\n",
        "\n",
        "    discriminator.compile(loss='binary_crossentropy', optimizer=Adam(lr=0.0002, beta_1=0.5))\n",
        "\n",
        "    return discriminator"
      ],
      "metadata": {
        "id": "RpnW7xZF8Ezr"
      },
      "execution_count": 155,
      "outputs": []
    },
    {
      "cell_type": "code",
      "source": [
        "def get_gan_network(discriminator, generator, optimizer,input_dim=NUM_COL):\n",
        "\n",
        "    discriminator.trainable = False\n",
        "    gan_input = Input(shape=(input_dim,))\n",
        "    x = generator(gan_input)\n",
        "    gan_output = discriminator(x)\n",
        "\n",
        "    gan = Model(inputs=gan_input, outputs=gan_output)\n",
        "    gan.compile(loss='binary_crossentropy', optimizer=Adam(lr=0.0002, beta_1=0.5))\n",
        "\n",
        "\n",
        "    return gan"
      ],
      "metadata": {
        "id": "4Wan_xdy8O4x"
      },
      "execution_count": 156,
      "outputs": []
    },
    {
      "cell_type": "code",
      "source": [
        "#Training the GAN\n",
        "from tqdm import tqdm\n",
        "from keras.models import Sequential\n",
        "from tensorflow.keras import initializers\n",
        "from tensorflow.keras.layers import Activation\n",
        "\n",
        "\n",
        "\n",
        "\n",
        "#Calculating the number of batches based on the batch size\n",
        "batch_count = X_train.shape[0] // batch_size\n",
        "pbar = tqdm(total= epochs * batch_count)\n",
        "gan_loss = []\n",
        "discriminator_loss = []\n",
        "\n",
        "#Inititalizing the network\n",
        "generator = get_generator(adam)\n",
        "discriminator = get_discriminator(adam)\n",
        "gan = get_gan_network(discriminator, generator, adam,input_dim=NUM_COL)\n",
        "\n",
        "\n",
        "for epoch in range(epochs):\n",
        "    for index in range(batch_count):\n",
        "        pbar.update(1)\n",
        "        # Creating a random set of input noise and images\n",
        "        noise = np.random.normal(0, 1, size=[batch_size,NUM_COL])\n",
        "\n",
        "        # Generate fake samples\n",
        "        generated_images = generator.predict_on_batch(noise)\n",
        "\n",
        "        #Obtain a batch of normal network packets\n",
        "        image_batch = X_train[index * batch_size: (index + 1) * batch_size]\n",
        "\n",
        "        X = np.vstack((generated_images,image_batch))\n",
        "        y_dis = np.ones(2*batch_size)\n",
        "        y_dis[:batch_size] = 0\n",
        "\n",
        "        # Train discriminator\n",
        "        discriminator.trainable = True\n",
        "        d_loss= discriminator.train_on_batch(X, y_dis)\n",
        "\n",
        "        # Train generator\n",
        "        noise = np.random.uniform(0, 1, size=[batch_size, NUM_COL])\n",
        "        y_gen = np.ones(batch_size)\n",
        "        discriminator.trainable = False\n",
        "        g_loss = gan.train_on_batch(noise, y_gen)\n",
        "\n",
        "        #Record the losses\n",
        "        discriminator_loss.append(d_loss)\n",
        "        gan_loss.append(g_loss)\n",
        "\n",
        "    print(\"Epoch %d Batch %d/%d [D loss: %f] [G loss:%f]\" % (epoch,index,batch_count, d_loss, g_loss))\n",
        "\n",
        ""
      ],
      "metadata": {
        "colab": {
          "base_uri": "https://localhost:8080/"
        },
        "id": "p8mH4OWH8SII",
        "outputId": "f30bf20e-26ff-40eb-9e37-539b580b224b"
      },
      "execution_count": 167,
      "outputs": [
        {
          "output_type": "stream",
          "name": "stderr",
          "text": [
            "\n",
            "100%|██████████| 370/370 [00:56<00:00,  6.55it/s]\n",
            "WARNING:absl:`lr` is deprecated in Keras optimizer, please use `learning_rate` or use the legacy optimizer, e.g.,tf.keras.optimizers.legacy.Adam.\n",
            "WARNING:absl:`lr` is deprecated in Keras optimizer, please use `learning_rate` or use the legacy optimizer, e.g.,tf.keras.optimizers.legacy.Adam.\n",
            "WARNING:absl:`lr` is deprecated in Keras optimizer, please use `learning_rate` or use the legacy optimizer, e.g.,tf.keras.optimizers.legacy.Adam.\n",
            "\n",
            "  0%|          | 1/370 [00:00<05:05,  1.21it/s]\u001b[A\n",
            "  1%|          | 2/370 [00:07<26:28,  4.32s/it]\u001b[A\n",
            "  2%|▏         | 7/370 [00:07<05:07,  1.18it/s]\u001b[A\n",
            "  3%|▎         | 12/370 [00:07<02:25,  2.46it/s]\u001b[A\n",
            "  5%|▍         | 17/370 [00:07<01:24,  4.18it/s]\u001b[A\n",
            "  6%|▌         | 22/370 [00:08<00:54,  6.40it/s]\u001b[A\n",
            "  7%|▋         | 27/370 [00:08<00:37,  9.16it/s]\u001b[A\n",
            "  9%|▊         | 32/370 [00:08<00:26, 12.55it/s]\u001b[A\n",
            " 10%|█         | 37/370 [00:08<00:20, 16.31it/s]\u001b[A\n",
            " 11%|█▏        | 42/370 [00:08<00:16, 20.34it/s]\u001b[A\n",
            " 13%|█▎        | 47/370 [00:08<00:13, 23.49it/s]\u001b[A\n",
            " 14%|█▍        | 52/370 [00:08<00:11, 27.31it/s]\u001b[A\n",
            " 15%|█▌        | 57/370 [00:08<00:10, 30.61it/s]\u001b[A\n",
            " 17%|█▋        | 62/370 [00:08<00:09, 33.18it/s]\u001b[A\n",
            " 18%|█▊        | 67/370 [00:09<00:08, 35.37it/s]\u001b[A\n",
            " 19%|█▉        | 72/370 [00:09<00:07, 37.63it/s]\u001b[A\n",
            " 21%|██        | 77/370 [00:09<00:07, 39.61it/s]\u001b[A\n",
            " 22%|██▏       | 82/370 [00:09<00:07, 39.94it/s]\u001b[A"
          ]
        },
        {
          "output_type": "stream",
          "name": "stdout",
          "text": [
            "Epoch 0 Batch 73/74 [D loss: 0.433379] [G loss:0.954599]\n"
          ]
        },
        {
          "output_type": "stream",
          "name": "stderr",
          "text": [
            "\n",
            " 24%|██▎       | 87/370 [00:09<00:07, 38.25it/s]\u001b[A\n",
            " 25%|██▍       | 92/370 [00:09<00:06, 39.74it/s]\u001b[A\n",
            " 26%|██▌       | 97/370 [00:09<00:06, 40.56it/s]\u001b[A\n",
            " 28%|██▊       | 102/370 [00:09<00:06, 40.46it/s]\u001b[A\n",
            " 29%|██▉       | 107/370 [00:10<00:06, 41.06it/s]\u001b[A\n",
            " 30%|███       | 112/370 [00:10<00:06, 41.60it/s]\u001b[A\n",
            " 32%|███▏      | 117/370 [00:10<00:05, 42.92it/s]\u001b[A\n",
            " 33%|███▎      | 122/370 [00:10<00:05, 43.22it/s]\u001b[A\n",
            " 34%|███▍      | 127/370 [00:10<00:05, 43.38it/s]\u001b[A\n",
            " 36%|███▌      | 132/370 [00:10<00:05, 42.92it/s]\u001b[A\n",
            " 37%|███▋      | 137/370 [00:10<00:05, 44.01it/s]\u001b[A\n",
            " 38%|███▊      | 142/370 [00:10<00:05, 44.39it/s]\u001b[A\n",
            " 40%|███▉      | 147/370 [00:10<00:05, 43.78it/s]\u001b[A\n",
            " 41%|████      | 152/370 [00:11<00:05, 42.69it/s]\u001b[A\n",
            " 42%|████▏     | 157/370 [00:11<00:04, 42.66it/s]\u001b[A"
          ]
        },
        {
          "output_type": "stream",
          "name": "stdout",
          "text": [
            "Epoch 1 Batch 73/74 [D loss: 0.624028] [G loss:1.131369]\n"
          ]
        },
        {
          "output_type": "stream",
          "name": "stderr",
          "text": [
            "\n",
            " 44%|████▍     | 162/370 [00:11<00:04, 42.78it/s]\u001b[A\n",
            " 45%|████▌     | 167/370 [00:11<00:04, 42.79it/s]\u001b[A\n",
            " 46%|████▋     | 172/370 [00:11<00:04, 42.54it/s]\u001b[A\n",
            " 48%|████▊     | 177/370 [00:11<00:04, 43.03it/s]\u001b[A\n",
            " 49%|████▉     | 182/370 [00:11<00:04, 43.36it/s]\u001b[A\n",
            " 51%|█████     | 187/370 [00:11<00:04, 43.89it/s]\u001b[A\n",
            " 52%|█████▏    | 192/370 [00:12<00:04, 44.40it/s]\u001b[A\n",
            " 53%|█████▎    | 197/370 [00:12<00:03, 44.63it/s]\u001b[A\n",
            " 55%|█████▍    | 202/370 [00:12<00:03, 44.30it/s]\u001b[A\n",
            " 56%|█████▌    | 207/370 [00:12<00:03, 44.94it/s]\u001b[A\n",
            " 57%|█████▋    | 212/370 [00:12<00:03, 43.68it/s]\u001b[A\n",
            " 59%|█████▊    | 217/370 [00:12<00:03, 43.85it/s]\u001b[A\n",
            " 60%|██████    | 222/370 [00:12<00:03, 42.48it/s]\u001b[A\n",
            " 61%|██████▏   | 227/370 [00:12<00:03, 42.78it/s]\u001b[A\n",
            " 63%|██████▎   | 232/370 [00:12<00:03, 43.08it/s]"
          ]
        },
        {
          "output_type": "stream",
          "name": "stdout",
          "text": [
            "Epoch 2 Batch 73/74 [D loss: 0.422934] [G loss:0.900232]\n"
          ]
        },
        {
          "output_type": "stream",
          "name": "stderr",
          "text": [
            "\u001b[A\n",
            " 64%|██████▍   | 237/370 [00:13<00:03, 42.99it/s]\u001b[A\n",
            " 65%|██████▌   | 242/370 [00:13<00:02, 44.03it/s]\u001b[A\n",
            " 67%|██████▋   | 247/370 [00:13<00:02, 44.22it/s]\u001b[A\n",
            " 68%|██████▊   | 252/370 [00:13<00:02, 44.16it/s]\u001b[A\n",
            " 69%|██████▉   | 257/370 [00:13<00:02, 44.49it/s]\u001b[A\n",
            " 71%|███████   | 262/370 [00:13<00:02, 44.71it/s]\u001b[A\n",
            " 72%|███████▏  | 267/370 [00:13<00:02, 44.21it/s]\u001b[A\n",
            " 74%|███████▎  | 272/370 [00:13<00:02, 44.37it/s]\u001b[A\n",
            " 75%|███████▍  | 277/370 [00:13<00:02, 44.99it/s]\u001b[A\n",
            " 76%|███████▌  | 282/370 [00:14<00:01, 45.50it/s]\u001b[A\n",
            " 78%|███████▊  | 287/370 [00:14<00:01, 45.99it/s]\u001b[A\n",
            " 79%|███████▉  | 292/370 [00:14<00:01, 46.30it/s]\u001b[A\n",
            " 80%|████████  | 297/370 [00:14<00:01, 45.27it/s]\u001b[A\n",
            " 82%|████████▏ | 302/370 [00:14<00:01, 44.80it/s]\u001b[A"
          ]
        },
        {
          "output_type": "stream",
          "name": "stdout",
          "text": [
            "Epoch 3 Batch 73/74 [D loss: 0.511427] [G loss:1.079767]\n"
          ]
        },
        {
          "output_type": "stream",
          "name": "stderr",
          "text": [
            "\n",
            " 83%|████████▎ | 307/370 [00:14<00:01, 44.31it/s]\u001b[A\n",
            " 84%|████████▍ | 312/370 [00:14<00:01, 43.70it/s]\u001b[A\n",
            " 86%|████████▌ | 317/370 [00:14<00:01, 43.96it/s]\u001b[A\n",
            " 87%|████████▋ | 322/370 [00:14<00:01, 44.42it/s]\u001b[A\n",
            " 88%|████████▊ | 327/370 [00:15<00:00, 44.94it/s]\u001b[A\n",
            " 90%|████████▉ | 332/370 [00:15<00:00, 44.97it/s]\u001b[A\n",
            " 91%|█████████ | 337/370 [00:15<00:00, 44.44it/s]\u001b[A\n",
            " 92%|█████████▏| 342/370 [00:15<00:00, 44.10it/s]\u001b[A\n",
            " 94%|█████████▍| 347/370 [00:15<00:00, 43.62it/s]\u001b[A\n",
            " 95%|█████████▌| 352/370 [00:15<00:00, 36.68it/s]\u001b[A\n",
            " 96%|█████████▌| 356/370 [00:15<00:00, 35.96it/s]\u001b[A\n",
            " 97%|█████████▋| 360/370 [00:15<00:00, 34.76it/s]\u001b[A\n",
            " 98%|█████████▊| 364/370 [00:16<00:00, 32.86it/s]\u001b[A\n",
            " 99%|█████████▉| 368/370 [00:16<00:00, 32.15it/s]\u001b[A"
          ]
        },
        {
          "output_type": "stream",
          "name": "stdout",
          "text": [
            "Epoch 4 Batch 73/74 [D loss: 0.430950] [G loss:1.680287]\n"
          ]
        }
      ]
    },
    {
      "cell_type": "markdown",
      "source": [
        "#평가"
      ],
      "metadata": {
        "id": "Gow-WXSA_zJ8"
      }
    },
    {
      "cell_type": "code",
      "source": [
        "fig, ax = plt.subplots()\n",
        "plt.plot(discriminator_loss, label='Discriminator')\n",
        "plt.plot(gan_loss, label='Generator')\n",
        "plt.title(\"Training Losses\")\n",
        "plt.legend()"
      ],
      "metadata": {
        "colab": {
          "base_uri": "https://localhost:8080/",
          "height": 470
        },
        "id": "R582k1rL_pUK",
        "outputId": "12e715dc-b809-486b-a95f-aa86d109a7f5"
      },
      "execution_count": 168,
      "outputs": [
        {
          "output_type": "execute_result",
          "data": {
            "text/plain": [
              "<matplotlib.legend.Legend at 0x7a37a4dac7c0>"
            ]
          },
          "metadata": {},
          "execution_count": 168
        },
        {
          "output_type": "display_data",
          "data": {
            "text/plain": [
              "<Figure size 640x480 with 1 Axes>"
            ],
            "image/png": "[encoded data removed]"
          },
          "metadata": {}
        }
      ]
    },
    {
      "cell_type": "code",
      "source": [
        "# Predictions on the test set\n",
        "\n",
        "nr_batches_test = np.ceil(X_test.shape[0] // batch_size).astype(np.int32)\n",
        "\n",
        "results =[]\n",
        "\n",
        "for t in range(nr_batches_test +1):\n",
        "        ran_from = t * batch_size\n",
        "        ran_to = (t + 1) * batch_size\n",
        "        image_batch = X_test[ran_from:ran_to]\n",
        "        tmp_rslt = discriminator.predict(x=image_batch,batch_size=128,verbose=0)\n",
        "        results = np.append(results, tmp_rslt)"
      ],
      "metadata": {
        "colab": {
          "base_uri": "https://localhost:8080/"
        },
        "id": "xi4pJ3I0_1Ky",
        "outputId": "ce3b8214-68fe-427e-80d1-df5814ba6a7d"
      },
      "execution_count": 169,
      "outputs": [
        {
          "output_type": "stream",
          "name": "stderr",
          "text": [
            "\n",
            "100%|██████████| 370/370 [00:32<00:00, 32.15it/s]\u001b[A"
          ]
        }
      ]
    },
    {
      "cell_type": "code",
      "source": [
        "results"
      ],
      "metadata": {
        "colab": {
          "base_uri": "https://localhost:8080/"
        },
        "id": "yVrDPCEA_3NR",
        "outputId": "8a937e47-dfbd-4e11-eb04-501bdacfc8b4"
      },
      "execution_count": 170,
      "outputs": [
        {
          "output_type": "execute_result",
          "data": {
            "text/plain": [
              "array([1.23929612e-01, 9.19641793e-01, 9.88956153e-01, ...,\n",
              "       9.77359474e-01, 1.19501753e-09, 9.70015883e-01])"
            ]
          },
          "metadata": {},
          "execution_count": 170
        }
      ]
    },
    {
      "cell_type": "code",
      "source": [
        "y2 = y_test.to_numpy()"
      ],
      "metadata": {
        "id": "OaSNuUn7_5zW"
      },
      "execution_count": 171,
      "outputs": []
    },
    {
      "cell_type": "code",
      "source": [
        "pd.options.display.float_format = '{:20,.7f}'.format\n",
        "results_df = pd.concat([pd.DataFrame(results),pd.DataFrame(y2)], axis=1)\n",
        "results_df.columns = ['results','y_test']\n",
        "print ('Mean score for Normal data :', results_df.loc[results_df['y_test'] == 1, 'results'].mean() )\n",
        "print ('Mean score for Fall data :', results_df.loc[results_df['y_test'] == 0, 'results'].mean())\n"
      ],
      "metadata": {
        "colab": {
          "base_uri": "https://localhost:8080/"
        },
        "id": "wbKaBPg0_8YX",
        "outputId": "96c7df44-068a-4d69-8780-db753817b253"
      },
      "execution_count": 172,
      "outputs": [
        {
          "output_type": "stream",
          "name": "stdout",
          "text": [
            "Mean score for Normal data : 0.7389182223038983\n",
            "Mean score for Fall data : 0.4699638204414355\n"
          ]
        }
      ]
    },
    {
      "cell_type": "code",
      "source": [
        "#Obtaining the lowest 1% score\n",
        "per = np.percentile(results,1)\n",
        "y_pred = results.copy()\n",
        "y_pred = np.array(y_pred)\n",
        "\n",
        "#Thresholding based on the score\n",
        "inds = (y_pred > per)\n",
        "inds_comp = (y_pred <= per)\n",
        "y_pred[inds] = 0\n",
        "y_pred[inds_comp] = 1"
      ],
      "metadata": {
        "id": "TkG-y1wg_9Nz"
      },
      "execution_count": 173,
      "outputs": []
    },
    {
      "cell_type": "code",
      "source": [
        "from sklearn.metrics import precision_recall_fscore_support\n",
        "from sklearn.metrics import accuracy_score\n",
        "\n",
        "precision, recall, f1,_ = precision_recall_fscore_support(y_test,y_pred,average='binary')\n",
        "print ('Accuracy Score :',accuracy_score(y_test, y_pred) )\n",
        "print ('Precision :',precision )\n",
        "print ('Recall :',recall )\n",
        "print ('F1 :',f1 )"
      ],
      "metadata": {
        "colab": {
          "base_uri": "https://localhost:8080/"
        },
        "id": "WWwhE1ueABAk",
        "outputId": "c8c44ebe-fddc-439f-ef8c-f40d96ede0bc"
      },
      "execution_count": 174,
      "outputs": [
        {
          "output_type": "stream",
          "name": "stdout",
          "text": [
            "Accuracy Score : 0.8396975989455753\n",
            "Precision : 0.0\n",
            "Recall : 0.0\n",
            "F1 : 0.0\n"
          ]
        }
      ]
    },
    {
      "cell_type": "code",
      "source": [
        "from sklearn.metrics import confusion_matrix\n",
        "\n",
        "\n",
        "cm = confusion_matrix(y_test, y_pred)\n",
        "\n",
        "print ('Confusion Matrix :')\n",
        "\n",
        "def plot_confusion_matrix(cm, title='Confusion matrix', cmap=plt.cm.Greens):\n",
        "    plt.figure(figsize=(10,10),)\n",
        "\n",
        "    plt.imshow(cm, interpolation='nearest', cmap=cmap)\n",
        "    plt.title(title)\n",
        "    plt.colorbar()\n",
        "    plt.tight_layout()\n",
        "\n",
        "    width, height = cm.shape\n",
        "\n",
        "    for x in range(width):\n",
        "        for y in range(height):\n",
        "            plt.annotate(str(cm[x][y]), xy=(y, x),\n",
        "                        horizontalalignment='center',\n",
        "                        verticalalignment='center')\n",
        "    plt.ylabel('True label')\n",
        "    plt.xlabel('Predicted label')\n",
        "\n",
        "\n",
        "plot_confusion_matrix(cm)"
      ],
      "metadata": {
        "colab": {
          "base_uri": "https://localhost:8080/",
          "height": 692
        },
        "id": "dwNWPDLcALQH",
        "outputId": "afb0079f-b531-4363-f8d9-4283d9d0508e"
      },
      "execution_count": 175,
      "outputs": [
        {
          "output_type": "stream",
          "name": "stdout",
          "text": [
            "Confusion Matrix :\n"
          ]
        },
        {
          "output_type": "display_data",
          "data": {
            "text/plain": [
              "<Figure size 1000x1000 with 2 Axes>"
            ],
            "image/png": "[encoded data removed]"
          },
          "metadata": {}
        }
      ]
    },
    {
      "cell_type": "code",
      "source": [
        "from sklearn.metrics import roc_curve\n",
        "from sklearn.metrics import auc\n",
        "\n",
        "\n",
        "fpr_keras, tpr_keras, thresholds_keras = roc_curve(y_test, y_pred)\n",
        "auc_keras = auc(fpr_keras, tpr_keras)\n",
        "plt.figure(1)\n",
        "plt.plot([0, 1], [0, 1], 'k--')\n",
        "plt.plot(fpr_keras, tpr_keras, label='Keras (area = {:.2f})'.format(auc_keras))\n",
        "\n",
        "plt.xlabel('False positive rate')\n",
        "plt.ylabel('True positive rate')\n",
        "plt.title('ROC curve')\n",
        "plt.legend(loc='best')\n",
        "plt.show()"
      ],
      "metadata": {
        "colab": {
          "base_uri": "https://localhost:8080/",
          "height": 472
        },
        "id": "ARIE4fmGAUe0",
        "outputId": "ba1c4471-024d-4dc8-f379-4cefb5115095"
      },
      "execution_count": 176,
      "outputs": [
        {
          "output_type": "display_data",
          "data": {
            "text/plain": [
              "<Figure size 640x480 with 1 Axes>"
            ],
            "image/png": "[encoded data removed]"
          },
          "metadata": {}
        }
      ]
    }
  ]
}