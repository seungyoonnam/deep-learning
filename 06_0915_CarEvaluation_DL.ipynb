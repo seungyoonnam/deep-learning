{
 "cells": [
  {
   "cell_type": "code",
   "execution_count": 183,
   "metadata": {},
   "outputs": [
    {
     "data": {
      "text/html": [
       "<div>\n",
       "<style scoped>\n",
       "    .dataframe tbody tr th:only-of-type {\n",
       "        vertical-align: middle;\n",
       "    }\n",
       "\n",
       "    .dataframe tbody tr th {\n",
       "        vertical-align: top;\n",
       "    }\n",
       "\n",
       "    .dataframe thead th {\n",
       "        text-align: right;\n",
       "    }\n",
       "</style>\n",
       "<table border=\"1\" class=\"dataframe\">\n",
       "  <thead>\n",
       "    <tr style=\"text-align: right;\">\n",
       "      <th></th>\n",
       "      <th>buying</th>\n",
       "      <th>maint</th>\n",
       "      <th>doors</th>\n",
       "      <th>persons</th>\n",
       "      <th>lug_boot</th>\n",
       "      <th>safety</th>\n",
       "      <th>class</th>\n",
       "    </tr>\n",
       "  </thead>\n",
       "  <tbody>\n",
       "    <tr>\n",
       "      <th>0</th>\n",
       "      <td>vhigh</td>\n",
       "      <td>vhigh</td>\n",
       "      <td>2</td>\n",
       "      <td>2</td>\n",
       "      <td>small</td>\n",
       "      <td>low</td>\n",
       "      <td>unacc</td>\n",
       "    </tr>\n",
       "    <tr>\n",
       "      <th>1</th>\n",
       "      <td>vhigh</td>\n",
       "      <td>vhigh</td>\n",
       "      <td>2</td>\n",
       "      <td>2</td>\n",
       "      <td>small</td>\n",
       "      <td>med</td>\n",
       "      <td>unacc</td>\n",
       "    </tr>\n",
       "    <tr>\n",
       "      <th>2</th>\n",
       "      <td>vhigh</td>\n",
       "      <td>vhigh</td>\n",
       "      <td>2</td>\n",
       "      <td>2</td>\n",
       "      <td>small</td>\n",
       "      <td>high</td>\n",
       "      <td>unacc</td>\n",
       "    </tr>\n",
       "    <tr>\n",
       "      <th>3</th>\n",
       "      <td>vhigh</td>\n",
       "      <td>vhigh</td>\n",
       "      <td>2</td>\n",
       "      <td>2</td>\n",
       "      <td>med</td>\n",
       "      <td>low</td>\n",
       "      <td>unacc</td>\n",
       "    </tr>\n",
       "    <tr>\n",
       "      <th>4</th>\n",
       "      <td>vhigh</td>\n",
       "      <td>vhigh</td>\n",
       "      <td>2</td>\n",
       "      <td>2</td>\n",
       "      <td>med</td>\n",
       "      <td>med</td>\n",
       "      <td>unacc</td>\n",
       "    </tr>\n",
       "    <tr>\n",
       "      <th>...</th>\n",
       "      <td>...</td>\n",
       "      <td>...</td>\n",
       "      <td>...</td>\n",
       "      <td>...</td>\n",
       "      <td>...</td>\n",
       "      <td>...</td>\n",
       "      <td>...</td>\n",
       "    </tr>\n",
       "    <tr>\n",
       "      <th>1723</th>\n",
       "      <td>low</td>\n",
       "      <td>low</td>\n",
       "      <td>5more</td>\n",
       "      <td>more</td>\n",
       "      <td>med</td>\n",
       "      <td>med</td>\n",
       "      <td>good</td>\n",
       "    </tr>\n",
       "    <tr>\n",
       "      <th>1724</th>\n",
       "      <td>low</td>\n",
       "      <td>low</td>\n",
       "      <td>5more</td>\n",
       "      <td>more</td>\n",
       "      <td>med</td>\n",
       "      <td>high</td>\n",
       "      <td>vgood</td>\n",
       "    </tr>\n",
       "    <tr>\n",
       "      <th>1725</th>\n",
       "      <td>low</td>\n",
       "      <td>low</td>\n",
       "      <td>5more</td>\n",
       "      <td>more</td>\n",
       "      <td>big</td>\n",
       "      <td>low</td>\n",
       "      <td>unacc</td>\n",
       "    </tr>\n",
       "    <tr>\n",
       "      <th>1726</th>\n",
       "      <td>low</td>\n",
       "      <td>low</td>\n",
       "      <td>5more</td>\n",
       "      <td>more</td>\n",
       "      <td>big</td>\n",
       "      <td>med</td>\n",
       "      <td>good</td>\n",
       "    </tr>\n",
       "    <tr>\n",
       "      <th>1727</th>\n",
       "      <td>low</td>\n",
       "      <td>low</td>\n",
       "      <td>5more</td>\n",
       "      <td>more</td>\n",
       "      <td>big</td>\n",
       "      <td>high</td>\n",
       "      <td>vgood</td>\n",
       "    </tr>\n",
       "  </tbody>\n",
       "</table>\n",
       "<p>1728 rows × 7 columns</p>\n",
       "</div>"
      ],
      "text/plain": [
       "     buying  maint  doors persons lug_boot safety  class\n",
       "0     vhigh  vhigh      2       2    small    low  unacc\n",
       "1     vhigh  vhigh      2       2    small    med  unacc\n",
       "2     vhigh  vhigh      2       2    small   high  unacc\n",
       "3     vhigh  vhigh      2       2      med    low  unacc\n",
       "4     vhigh  vhigh      2       2      med    med  unacc\n",
       "...     ...    ...    ...     ...      ...    ...    ...\n",
       "1723    low    low  5more    more      med    med   good\n",
       "1724    low    low  5more    more      med   high  vgood\n",
       "1725    low    low  5more    more      big    low  unacc\n",
       "1726    low    low  5more    more      big    med   good\n",
       "1727    low    low  5more    more      big   high  vgood\n",
       "\n",
       "[1728 rows x 7 columns]"
      ]
     },
     "execution_count": 183,
     "metadata": {},
     "output_type": "execute_result"
    }
   ],
   "source": [
    "#CarEvaluation 데이터를 deeplearning으로 classification\n",
    "import pandas as pd\n",
    "import matplotlib.pyplot as plt\n",
    "import numpy as np\n",
    "import pandas as pd\n",
    "import seaborn as sns\n",
    "from sklearn.model_selection import train_test_split\n",
    "from sklearn import metrics\n",
    "import tensorflow as tf\n",
    "from tensorflow import keras\n",
    "\n",
    "data=pd.read_csv('car.data', header=None, delimiter=',')\n",
    "column_names = ['buying', 'maint', 'doors', 'persons', 'lug_boot', 'safety', 'class']  # 열 이름 리스트 생성\n",
    "data.columns = column_names  # 열 이름 할당\n",
    "data"
   ]
  },
  {
   "cell_type": "code",
   "execution_count": 184,
   "metadata": {},
   "outputs": [
    {
     "data": {
      "text/plain": [
       "pandas.core.frame.DataFrame"
      ]
     },
     "execution_count": 184,
     "metadata": {},
     "output_type": "execute_result"
    }
   ],
   "source": [
    "#데이터타입 확인\n",
    "type(data)"
   ]
  },
  {
   "cell_type": "code",
   "execution_count": 185,
   "metadata": {},
   "outputs": [
    {
     "data": {
      "text/plain": [
       "buying      0\n",
       "maint       0\n",
       "doors       0\n",
       "persons     0\n",
       "lug_boot    0\n",
       "safety      0\n",
       "class       0\n",
       "dtype: int64"
      ]
     },
     "execution_count": 185,
     "metadata": {},
     "output_type": "execute_result"
    }
   ],
   "source": [
    "#결측치 확인\n",
    "data.isnull().sum()"
   ]
  },
  {
   "cell_type": "code",
   "execution_count": 186,
   "metadata": {},
   "outputs": [
    {
     "data": {
      "text/plain": [
       "Index(['buying', 'maint', 'doors', 'persons', 'lug_boot', 'safety', 'class'], dtype='object')"
      ]
     },
     "execution_count": 186,
     "metadata": {},
     "output_type": "execute_result"
    }
   ],
   "source": [
    "#컬럼 확인\n",
    "data.columns"
   ]
  },
  {
   "cell_type": "code",
   "execution_count": 187,
   "metadata": {},
   "outputs": [
    {
     "data": {
      "text/plain": [
       "Text(0.5, 1.0, 'Label')"
      ]
     },
     "execution_count": 187,
     "metadata": {},
     "output_type": "execute_result"
    },
    {
     "data": {
      "image/png": "[encoded data removed]",
      "text/plain": [
       "<Figure size 640x480 with 1 Axes>"
      ]
     },
     "metadata": {},
     "output_type": "display_data"
    }
   ],
   "source": [
    "#EDA 수행\n",
    "sns.countplot(data = data, x='class')\n",
    "plt.ylabel(\"Count\")\n",
    "plt.title(\"Label\")"
   ]
  },
  {
   "cell_type": "code",
   "execution_count": 188,
   "metadata": {},
   "outputs": [],
   "source": [
    "#데이터 숫자화\n",
    "from sklearn.preprocessing import LabelEncoder\n",
    "\n",
    "encoder=LabelEncoder()\n",
    "\n",
    "for i in data.columns:\n",
    "    data[i]=encoder.fit_transform(data[i])\n",
    "   \n",
    "   \n",
    "\n",
    "#X, Y(Class) splitting\n",
    "X = data.iloc[:,0:5].values\n",
    "y = data.iloc[:,6].values\n",
    "    \n",
    "#원핫 인코딩.\n",
    "Y = pd.get_dummies(y).values\n"
   ]
  },
  {
   "cell_type": "code",
   "execution_count": 189,
   "metadata": {},
   "outputs": [
    {
     "data": {
      "text/plain": [
       "array([[3, 3, 0, 0, 2],\n",
       "       [3, 3, 0, 0, 2],\n",
       "       [3, 3, 0, 0, 2],\n",
       "       ...,\n",
       "       [1, 1, 3, 2, 0],\n",
       "       [1, 1, 3, 2, 0],\n",
       "       [1, 1, 3, 2, 0]])"
      ]
     },
     "execution_count": 189,
     "metadata": {},
     "output_type": "execute_result"
    }
   ],
   "source": [
    "X"
   ]
  },
  {
   "cell_type": "code",
   "execution_count": 190,
   "metadata": {},
   "outputs": [
    {
     "data": {
      "text/plain": [
       "array([[0, 0, 1, 0],\n",
       "       [0, 0, 1, 0],\n",
       "       [0, 0, 1, 0],\n",
       "       ...,\n",
       "       [0, 0, 1, 0],\n",
       "       [0, 1, 0, 0],\n",
       "       [0, 0, 0, 1]], dtype=uint8)"
      ]
     },
     "execution_count": 190,
     "metadata": {},
     "output_type": "execute_result"
    }
   ],
   "source": [
    "Y"
   ]
  },
  {
   "cell_type": "code",
   "execution_count": 191,
   "metadata": {},
   "outputs": [],
   "source": [
    "#Splitting the data into training and test test\n",
    "from sklearn.model_selection import train_test_split\n",
    "X_train,X_test, y_train,y_test = train_test_split(X,Y,test_size=0.2,random_state=0)"
   ]
  },
  {
   "cell_type": "code",
   "execution_count": 192,
   "metadata": {},
   "outputs": [
    {
     "name": "stderr",
     "output_type": "stream",
     "text": [
      "WARNING:absl:`lr` is deprecated in Keras optimizer, please use `learning_rate` or use the legacy optimizer, e.g.,tf.keras.optimizers.legacy.Adam.\n"
     ]
    },
    {
     "name": "stdout",
     "output_type": "stream",
     "text": [
      "Model: \"sequential_1\"\n",
      "_________________________________________________________________\n",
      " Layer (type)                Output Shape              Param #   \n",
      "=================================================================\n",
      " dense_4 (Dense)             (None, 5)                 30        \n",
      "                                                                 \n",
      " dense_5 (Dense)             (None, 5)                 30        \n",
      "                                                                 \n",
      " dense_6 (Dense)             (None, 5)                 30        \n",
      "                                                                 \n",
      " dense_7 (Dense)             (None, 4)                 24        \n",
      "                                                                 \n",
      "=================================================================\n",
      "Total params: 114 (456.00 Byte)\n",
      "Trainable params: 114 (456.00 Byte)\n",
      "Non-trainable params: 0 (0.00 Byte)\n",
      "_________________________________________________________________\n"
     ]
    }
   ],
   "source": [
    "from keras.models import Sequential\n",
    "from keras.layers import Dense\n",
    "from keras.optimizers import SGD,Adam\n",
    "\n",
    "\n",
    "model = Sequential()\n",
    "\n",
    "model.add(Dense(5,input_shape=(5,),activation='relu'))\n",
    "model.add(Dense(5,activation='relu'))\n",
    "model.add(Dense(5,activation='relu'))\n",
    "model.add(Dense(4,activation='sigmoid'))\n",
    "\n",
    "model.compile(Adam(lr=0.02),'binary_crossentropy',metrics=['accuracy'])\n",
    "\n",
    "model.summary()"
   ]
  },
  {
   "cell_type": "code",
   "execution_count": 193,
   "metadata": {},
   "outputs": [
    {
     "name": "stdout",
     "output_type": "stream",
     "text": [
      "Epoch 1/100\n",
      "44/44 [==============================] - 1s 6ms/step - loss: 0.5582 - accuracy: 0.5217 - val_loss: 0.5008 - val_accuracy: 0.5434\n",
      "Epoch 2/100\n",
      "44/44 [==============================] - 0s 3ms/step - loss: 0.4568 - accuracy: 0.6324 - val_loss: 0.4267 - val_accuracy: 0.6127\n",
      "Epoch 3/100\n",
      "44/44 [==============================] - 0s 3ms/step - loss: 0.4036 - accuracy: 0.6628 - val_loss: 0.3968 - val_accuracy: 0.6763\n",
      "Epoch 4/100\n",
      "44/44 [==============================] - 0s 3ms/step - loss: 0.3830 - accuracy: 0.6903 - val_loss: 0.3863 - val_accuracy: 0.6850\n",
      "Epoch 5/100\n",
      "44/44 [==============================] - 0s 2ms/step - loss: 0.3744 - accuracy: 0.6961 - val_loss: 0.3823 - val_accuracy: 0.6908\n",
      "Epoch 6/100\n",
      "44/44 [==============================] - 0s 2ms/step - loss: 0.3697 - accuracy: 0.6954 - val_loss: 0.3792 - val_accuracy: 0.6936\n",
      "Epoch 7/100\n",
      "44/44 [==============================] - 0s 2ms/step - loss: 0.3660 - accuracy: 0.7004 - val_loss: 0.3770 - val_accuracy: 0.6965\n",
      "Epoch 8/100\n",
      "44/44 [==============================] - 0s 2ms/step - loss: 0.3626 - accuracy: 0.7004 - val_loss: 0.3745 - val_accuracy: 0.6936\n",
      "Epoch 9/100\n",
      "44/44 [==============================] - 0s 2ms/step - loss: 0.3590 - accuracy: 0.7004 - val_loss: 0.3725 - val_accuracy: 0.6908\n",
      "Epoch 10/100\n",
      "44/44 [==============================] - 0s 2ms/step - loss: 0.3556 - accuracy: 0.7012 - val_loss: 0.3704 - val_accuracy: 0.6908\n",
      "Epoch 11/100\n",
      "44/44 [==============================] - 0s 2ms/step - loss: 0.3524 - accuracy: 0.7048 - val_loss: 0.3681 - val_accuracy: 0.6879\n",
      "Epoch 12/100\n",
      "44/44 [==============================] - 0s 2ms/step - loss: 0.3488 - accuracy: 0.7033 - val_loss: 0.3663 - val_accuracy: 0.6850\n",
      "Epoch 13/100\n",
      "44/44 [==============================] - 0s 3ms/step - loss: 0.3457 - accuracy: 0.7055 - val_loss: 0.3643 - val_accuracy: 0.6850\n",
      "Epoch 14/100\n",
      "44/44 [==============================] - 0s 2ms/step - loss: 0.3423 - accuracy: 0.7091 - val_loss: 0.3620 - val_accuracy: 0.6792\n",
      "Epoch 15/100\n",
      "44/44 [==============================] - 0s 2ms/step - loss: 0.3392 - accuracy: 0.7091 - val_loss: 0.3598 - val_accuracy: 0.6763\n",
      "Epoch 16/100\n",
      "44/44 [==============================] - 0s 2ms/step - loss: 0.3362 - accuracy: 0.7084 - val_loss: 0.3570 - val_accuracy: 0.6821\n",
      "Epoch 17/100\n",
      "44/44 [==============================] - 0s 2ms/step - loss: 0.3333 - accuracy: 0.7069 - val_loss: 0.3558 - val_accuracy: 0.6792\n",
      "Epoch 18/100\n",
      "44/44 [==============================] - 0s 3ms/step - loss: 0.3306 - accuracy: 0.7084 - val_loss: 0.3546 - val_accuracy: 0.6763\n",
      "Epoch 19/100\n",
      "44/44 [==============================] - 0s 3ms/step - loss: 0.3281 - accuracy: 0.7106 - val_loss: 0.3514 - val_accuracy: 0.6763\n",
      "Epoch 20/100\n",
      "44/44 [==============================] - 0s 2ms/step - loss: 0.3257 - accuracy: 0.7084 - val_loss: 0.3494 - val_accuracy: 0.6763\n",
      "Epoch 21/100\n",
      "44/44 [==============================] - 0s 2ms/step - loss: 0.3235 - accuracy: 0.7069 - val_loss: 0.3473 - val_accuracy: 0.6705\n",
      "Epoch 22/100\n",
      "44/44 [==============================] - 0s 2ms/step - loss: 0.3214 - accuracy: 0.7084 - val_loss: 0.3461 - val_accuracy: 0.6647\n",
      "Epoch 23/100\n",
      "44/44 [==============================] - 0s 2ms/step - loss: 0.3196 - accuracy: 0.7055 - val_loss: 0.3464 - val_accuracy: 0.6763\n",
      "Epoch 24/100\n",
      "44/44 [==============================] - 0s 2ms/step - loss: 0.3179 - accuracy: 0.7098 - val_loss: 0.3429 - val_accuracy: 0.6416\n",
      "Epoch 25/100\n",
      "44/44 [==============================] - 0s 2ms/step - loss: 0.3165 - accuracy: 0.7019 - val_loss: 0.3424 - val_accuracy: 0.6705\n",
      "Epoch 26/100\n",
      "44/44 [==============================] - 0s 2ms/step - loss: 0.3153 - accuracy: 0.7055 - val_loss: 0.3402 - val_accuracy: 0.6503\n",
      "Epoch 27/100\n",
      "44/44 [==============================] - 0s 2ms/step - loss: 0.3141 - accuracy: 0.7062 - val_loss: 0.3396 - val_accuracy: 0.6618\n",
      "Epoch 28/100\n",
      "44/44 [==============================] - 0s 2ms/step - loss: 0.3131 - accuracy: 0.7048 - val_loss: 0.3376 - val_accuracy: 0.6647\n",
      "Epoch 29/100\n",
      "44/44 [==============================] - 0s 2ms/step - loss: 0.3113 - accuracy: 0.7091 - val_loss: 0.3396 - val_accuracy: 0.6618\n",
      "Epoch 30/100\n",
      "44/44 [==============================] - 0s 3ms/step - loss: 0.3102 - accuracy: 0.7113 - val_loss: 0.3343 - val_accuracy: 0.6503\n",
      "Epoch 31/100\n",
      "44/44 [==============================] - 0s 2ms/step - loss: 0.3094 - accuracy: 0.7084 - val_loss: 0.3369 - val_accuracy: 0.6676\n",
      "Epoch 32/100\n",
      "44/44 [==============================] - 0s 2ms/step - loss: 0.3081 - accuracy: 0.7077 - val_loss: 0.3330 - val_accuracy: 0.6647\n",
      "Epoch 33/100\n",
      "44/44 [==============================] - 0s 3ms/step - loss: 0.3073 - accuracy: 0.7069 - val_loss: 0.3315 - val_accuracy: 0.6590\n",
      "Epoch 34/100\n",
      "44/44 [==============================] - 0s 2ms/step - loss: 0.3066 - accuracy: 0.7026 - val_loss: 0.3324 - val_accuracy: 0.6532\n",
      "Epoch 35/100\n",
      "44/44 [==============================] - 0s 2ms/step - loss: 0.3058 - accuracy: 0.7098 - val_loss: 0.3299 - val_accuracy: 0.6590\n",
      "Epoch 36/100\n",
      "44/44 [==============================] - 0s 2ms/step - loss: 0.3053 - accuracy: 0.7062 - val_loss: 0.3289 - val_accuracy: 0.6532\n",
      "Epoch 37/100\n",
      "44/44 [==============================] - 0s 2ms/step - loss: 0.3044 - accuracy: 0.7106 - val_loss: 0.3279 - val_accuracy: 0.6474\n",
      "Epoch 38/100\n",
      "44/44 [==============================] - 0s 2ms/step - loss: 0.3045 - accuracy: 0.7069 - val_loss: 0.3268 - val_accuracy: 0.6474\n",
      "Epoch 39/100\n",
      "44/44 [==============================] - 0s 2ms/step - loss: 0.3042 - accuracy: 0.6990 - val_loss: 0.3292 - val_accuracy: 0.6590\n",
      "Epoch 40/100\n",
      "44/44 [==============================] - 0s 2ms/step - loss: 0.3026 - accuracy: 0.7062 - val_loss: 0.3258 - val_accuracy: 0.6561\n",
      "Epoch 41/100\n",
      "44/44 [==============================] - 0s 2ms/step - loss: 0.3019 - accuracy: 0.7019 - val_loss: 0.3239 - val_accuracy: 0.6503\n",
      "Epoch 42/100\n",
      "44/44 [==============================] - 0s 2ms/step - loss: 0.3012 - accuracy: 0.7004 - val_loss: 0.3233 - val_accuracy: 0.6532\n",
      "Epoch 43/100\n",
      "44/44 [==============================] - 0s 2ms/step - loss: 0.3006 - accuracy: 0.7026 - val_loss: 0.3235 - val_accuracy: 0.6561\n",
      "Epoch 44/100\n",
      "44/44 [==============================] - 0s 2ms/step - loss: 0.3004 - accuracy: 0.7055 - val_loss: 0.3201 - val_accuracy: 0.6474\n",
      "Epoch 45/100\n",
      "44/44 [==============================] - 0s 2ms/step - loss: 0.2990 - accuracy: 0.7004 - val_loss: 0.3187 - val_accuracy: 0.6474\n",
      "Epoch 46/100\n",
      "44/44 [==============================] - 0s 2ms/step - loss: 0.2981 - accuracy: 0.6983 - val_loss: 0.3163 - val_accuracy: 0.6532\n",
      "Epoch 47/100\n",
      "44/44 [==============================] - 0s 3ms/step - loss: 0.2976 - accuracy: 0.6983 - val_loss: 0.3154 - val_accuracy: 0.6445\n",
      "Epoch 48/100\n",
      "44/44 [==============================] - 0s 2ms/step - loss: 0.2963 - accuracy: 0.7026 - val_loss: 0.3140 - val_accuracy: 0.6676\n",
      "Epoch 49/100\n",
      "44/44 [==============================] - 0s 2ms/step - loss: 0.2952 - accuracy: 0.7055 - val_loss: 0.3127 - val_accuracy: 0.6734\n",
      "Epoch 50/100\n",
      "44/44 [==============================] - 0s 2ms/step - loss: 0.2945 - accuracy: 0.7077 - val_loss: 0.3137 - val_accuracy: 0.6763\n",
      "Epoch 51/100\n",
      "44/44 [==============================] - 0s 2ms/step - loss: 0.2936 - accuracy: 0.7077 - val_loss: 0.3115 - val_accuracy: 0.6705\n",
      "Epoch 52/100\n",
      "44/44 [==============================] - 0s 3ms/step - loss: 0.2922 - accuracy: 0.7055 - val_loss: 0.3103 - val_accuracy: 0.6734\n",
      "Epoch 53/100\n",
      "44/44 [==============================] - 0s 3ms/step - loss: 0.2924 - accuracy: 0.7069 - val_loss: 0.3098 - val_accuracy: 0.6647\n",
      "Epoch 54/100\n",
      "44/44 [==============================] - 0s 2ms/step - loss: 0.2913 - accuracy: 0.7062 - val_loss: 0.3097 - val_accuracy: 0.6763\n",
      "Epoch 55/100\n",
      "44/44 [==============================] - 0s 2ms/step - loss: 0.2903 - accuracy: 0.7077 - val_loss: 0.3096 - val_accuracy: 0.6647\n",
      "Epoch 56/100\n",
      "44/44 [==============================] - 0s 2ms/step - loss: 0.2895 - accuracy: 0.7048 - val_loss: 0.3099 - val_accuracy: 0.6763\n",
      "Epoch 57/100\n",
      "44/44 [==============================] - 0s 2ms/step - loss: 0.2889 - accuracy: 0.7077 - val_loss: 0.3095 - val_accuracy: 0.6763\n",
      "Epoch 58/100\n",
      "44/44 [==============================] - 0s 2ms/step - loss: 0.2881 - accuracy: 0.7098 - val_loss: 0.3085 - val_accuracy: 0.6763\n",
      "Epoch 59/100\n",
      "44/44 [==============================] - 0s 2ms/step - loss: 0.2877 - accuracy: 0.7077 - val_loss: 0.3089 - val_accuracy: 0.6792\n",
      "Epoch 60/100\n",
      "44/44 [==============================] - 0s 2ms/step - loss: 0.2874 - accuracy: 0.7055 - val_loss: 0.3093 - val_accuracy: 0.6763\n",
      "Epoch 61/100\n",
      "44/44 [==============================] - 0s 2ms/step - loss: 0.2864 - accuracy: 0.7113 - val_loss: 0.3079 - val_accuracy: 0.6734\n",
      "Epoch 62/100\n",
      "44/44 [==============================] - 0s 3ms/step - loss: 0.2859 - accuracy: 0.7127 - val_loss: 0.3071 - val_accuracy: 0.6792\n",
      "Epoch 63/100\n",
      "44/44 [==============================] - 0s 2ms/step - loss: 0.2853 - accuracy: 0.7106 - val_loss: 0.3088 - val_accuracy: 0.6792\n",
      "Epoch 64/100\n",
      "44/44 [==============================] - 0s 2ms/step - loss: 0.2845 - accuracy: 0.7106 - val_loss: 0.3063 - val_accuracy: 0.6763\n",
      "Epoch 65/100\n",
      "44/44 [==============================] - 0s 2ms/step - loss: 0.2842 - accuracy: 0.7098 - val_loss: 0.3062 - val_accuracy: 0.6792\n",
      "Epoch 66/100\n",
      "44/44 [==============================] - 0s 2ms/step - loss: 0.2835 - accuracy: 0.7120 - val_loss: 0.3059 - val_accuracy: 0.6792\n",
      "Epoch 67/100\n",
      "44/44 [==============================] - 0s 2ms/step - loss: 0.2829 - accuracy: 0.7084 - val_loss: 0.3061 - val_accuracy: 0.6734\n",
      "Epoch 68/100\n",
      "44/44 [==============================] - 0s 2ms/step - loss: 0.2823 - accuracy: 0.7135 - val_loss: 0.3053 - val_accuracy: 0.6792\n",
      "Epoch 69/100\n",
      "44/44 [==============================] - 0s 3ms/step - loss: 0.2819 - accuracy: 0.7127 - val_loss: 0.3047 - val_accuracy: 0.6763\n",
      "Epoch 70/100\n",
      "44/44 [==============================] - 0s 2ms/step - loss: 0.2812 - accuracy: 0.7120 - val_loss: 0.3073 - val_accuracy: 0.6821\n",
      "Epoch 71/100\n",
      "44/44 [==============================] - 0s 2ms/step - loss: 0.2820 - accuracy: 0.7149 - val_loss: 0.3040 - val_accuracy: 0.6763\n",
      "Epoch 72/100\n",
      "44/44 [==============================] - 0s 2ms/step - loss: 0.2804 - accuracy: 0.7127 - val_loss: 0.3039 - val_accuracy: 0.6792\n",
      "Epoch 73/100\n",
      "44/44 [==============================] - 0s 2ms/step - loss: 0.2805 - accuracy: 0.7106 - val_loss: 0.3033 - val_accuracy: 0.6676\n",
      "Epoch 74/100\n",
      "44/44 [==============================] - 0s 2ms/step - loss: 0.2793 - accuracy: 0.7185 - val_loss: 0.3039 - val_accuracy: 0.6792\n",
      "Epoch 75/100\n",
      "44/44 [==============================] - 0s 2ms/step - loss: 0.2791 - accuracy: 0.7120 - val_loss: 0.3029 - val_accuracy: 0.6734\n",
      "Epoch 76/100\n",
      "44/44 [==============================] - 0s 2ms/step - loss: 0.2797 - accuracy: 0.7127 - val_loss: 0.3020 - val_accuracy: 0.6676\n",
      "Epoch 77/100\n",
      "44/44 [==============================] - 0s 2ms/step - loss: 0.2797 - accuracy: 0.7142 - val_loss: 0.3022 - val_accuracy: 0.6705\n",
      "Epoch 78/100\n",
      "44/44 [==============================] - 0s 2ms/step - loss: 0.2790 - accuracy: 0.7106 - val_loss: 0.3025 - val_accuracy: 0.6734\n",
      "Epoch 79/100\n",
      "44/44 [==============================] - 0s 2ms/step - loss: 0.2775 - accuracy: 0.7156 - val_loss: 0.3011 - val_accuracy: 0.6705\n",
      "Epoch 80/100\n",
      "44/44 [==============================] - 0s 3ms/step - loss: 0.2774 - accuracy: 0.7178 - val_loss: 0.3032 - val_accuracy: 0.6821\n",
      "Epoch 81/100\n",
      "44/44 [==============================] - 0s 3ms/step - loss: 0.2777 - accuracy: 0.7113 - val_loss: 0.3011 - val_accuracy: 0.6705\n",
      "Epoch 82/100\n",
      "44/44 [==============================] - 0s 3ms/step - loss: 0.2770 - accuracy: 0.7156 - val_loss: 0.3000 - val_accuracy: 0.6705\n",
      "Epoch 83/100\n",
      "44/44 [==============================] - 0s 2ms/step - loss: 0.2762 - accuracy: 0.7156 - val_loss: 0.3023 - val_accuracy: 0.6763\n",
      "Epoch 84/100\n",
      "44/44 [==============================] - 0s 2ms/step - loss: 0.2763 - accuracy: 0.7135 - val_loss: 0.2999 - val_accuracy: 0.6763\n",
      "Epoch 85/100\n",
      "44/44 [==============================] - 0s 2ms/step - loss: 0.2760 - accuracy: 0.7156 - val_loss: 0.2998 - val_accuracy: 0.6734\n",
      "Epoch 86/100\n",
      "44/44 [==============================] - 0s 2ms/step - loss: 0.2758 - accuracy: 0.7149 - val_loss: 0.3001 - val_accuracy: 0.6734\n",
      "Epoch 87/100\n",
      "44/44 [==============================] - 0s 4ms/step - loss: 0.2756 - accuracy: 0.7142 - val_loss: 0.2991 - val_accuracy: 0.6705\n",
      "Epoch 88/100\n",
      "44/44 [==============================] - 0s 2ms/step - loss: 0.2758 - accuracy: 0.7185 - val_loss: 0.2999 - val_accuracy: 0.6734\n",
      "Epoch 89/100\n",
      "44/44 [==============================] - 0s 2ms/step - loss: 0.2753 - accuracy: 0.7156 - val_loss: 0.3001 - val_accuracy: 0.6734\n",
      "Epoch 90/100\n",
      "44/44 [==============================] - 0s 2ms/step - loss: 0.2760 - accuracy: 0.7098 - val_loss: 0.2984 - val_accuracy: 0.6705\n",
      "Epoch 91/100\n",
      "44/44 [==============================] - 0s 1ms/step - loss: 0.2747 - accuracy: 0.7142 - val_loss: 0.2997 - val_accuracy: 0.6821\n",
      "Epoch 92/100\n",
      "44/44 [==============================] - 0s 2ms/step - loss: 0.2743 - accuracy: 0.7135 - val_loss: 0.2984 - val_accuracy: 0.6705\n",
      "Epoch 93/100\n",
      "44/44 [==============================] - 0s 2ms/step - loss: 0.2751 - accuracy: 0.7156 - val_loss: 0.2993 - val_accuracy: 0.6734\n",
      "Epoch 94/100\n",
      "44/44 [==============================] - 0s 2ms/step - loss: 0.2738 - accuracy: 0.7164 - val_loss: 0.2978 - val_accuracy: 0.6676\n",
      "Epoch 95/100\n",
      "44/44 [==============================] - 0s 2ms/step - loss: 0.2746 - accuracy: 0.7091 - val_loss: 0.2977 - val_accuracy: 0.6705\n",
      "Epoch 96/100\n",
      "44/44 [==============================] - 0s 2ms/step - loss: 0.2735 - accuracy: 0.7156 - val_loss: 0.2991 - val_accuracy: 0.6763\n",
      "Epoch 97/100\n",
      "44/44 [==============================] - 0s 2ms/step - loss: 0.2734 - accuracy: 0.7113 - val_loss: 0.2973 - val_accuracy: 0.6705\n",
      "Epoch 98/100\n",
      "44/44 [==============================] - 0s 2ms/step - loss: 0.2733 - accuracy: 0.7185 - val_loss: 0.2967 - val_accuracy: 0.6676\n",
      "Epoch 99/100\n",
      "44/44 [==============================] - 0s 4ms/step - loss: 0.2730 - accuracy: 0.7156 - val_loss: 0.2986 - val_accuracy: 0.6763\n",
      "Epoch 100/100\n",
      "44/44 [==============================] - 0s 3ms/step - loss: 0.2737 - accuracy: 0.7135 - val_loss: 0.2981 - val_accuracy: 0.6734\n",
      "11/11 [==============================] - 0s 0s/step\n"
     ]
    }
   ],
   "source": [
    "model_history=model.fit(x=X_train, y=y_train, epochs=100, batch_size=32,validation_data= (X_test,y_test))\n",
    "y_pred = model.predict(X_test)\n",
    "\n",
    "y_test_class = np.argmax(y_test,axis=1)\n",
    "y_pred_class = np.argmax(y_pred,axis=1)"
   ]
  },
  {
   "cell_type": "code",
   "execution_count": 194,
   "metadata": {},
   "outputs": [
    {
     "data": {
      "image/png": "[encoded data removed]",
      "text/plain": [
       "<Figure size 640x480 with 1 Axes>"
      ]
     },
     "metadata": {},
     "output_type": "display_data"
    }
   ],
   "source": [
    "import matplotlib.pyplot as plt\n",
    "import seaborn as sns\n",
    "\n",
    "loss =model_history.history['loss']\n",
    "val_loss =model_history.history['val_loss']\n",
    "epochs = range(1, len(loss) + 1)\n",
    "plt.plot(epochs, loss, 'y', label='Training loss')\n",
    "plt.plot(epochs, val_loss, 'r', label='Validation loss')\n",
    "plt.title('Training and validation loss')\n",
    "plt.xlabel('Epochs')\n",
    "plt.ylabel('Loss')\n",
    "plt.legend()\n",
    "plt.show()"
   ]
  },
  {
   "cell_type": "code",
   "execution_count": 195,
   "metadata": {},
   "outputs": [
    {
     "data": {
      "image/png": "[encoded data removed]",
      "text/plain": [
       "<Figure size 640x480 with 1 Axes>"
      ]
     },
     "metadata": {},
     "output_type": "display_data"
    }
   ],
   "source": [
    "acc =model_history.history['accuracy']\n",
    "val_acc =model_history.history['val_accuracy']\n",
    "plt.plot(epochs, acc, 'y', label='Training acc')\n",
    "plt.plot(epochs, val_acc, 'r', label='Validation acc')\n",
    "plt.title('Training and validation accuracy')\n",
    "plt.xlabel('Epochs')\n",
    "plt.ylabel('Accuracy')\n",
    "plt.legend()\n",
    "plt.show()"
   ]
  },
  {
   "cell_type": "code",
   "execution_count": 196,
   "metadata": {},
   "outputs": [
    {
     "name": "stdout",
     "output_type": "stream",
     "text": [
      "              precision    recall  f1-score   support\n",
      "\n",
      "           0       0.25      0.10      0.14        79\n",
      "           1       0.00      0.00      0.00        17\n",
      "           2       0.72      0.94      0.81       240\n",
      "           3       0.00      0.00      0.00        10\n",
      "\n",
      "    accuracy                           0.67       346\n",
      "   macro avg       0.24      0.26      0.24       346\n",
      "weighted avg       0.55      0.67      0.60       346\n",
      "\n",
      "[[  8   0  71   0]\n",
      " [  5   0  12   0]\n",
      " [ 15   0 225   0]\n",
      " [  4   0   6   0]]\n"
     ]
    },
    {
     "name": "stderr",
     "output_type": "stream",
     "text": [
      "c:\\Users\\synam\\anaconda3\\Lib\\site-packages\\sklearn\\metrics\\_classification.py:1469: UndefinedMetricWarning: Precision and F-score are ill-defined and being set to 0.0 in labels with no predicted samples. Use `zero_division` parameter to control this behavior.\n",
      "  _warn_prf(average, modifier, msg_start, len(result))\n",
      "c:\\Users\\synam\\anaconda3\\Lib\\site-packages\\sklearn\\metrics\\_classification.py:1469: UndefinedMetricWarning: Precision and F-score are ill-defined and being set to 0.0 in labels with no predicted samples. Use `zero_division` parameter to control this behavior.\n",
      "  _warn_prf(average, modifier, msg_start, len(result))\n",
      "c:\\Users\\synam\\anaconda3\\Lib\\site-packages\\sklearn\\metrics\\_classification.py:1469: UndefinedMetricWarning: Precision and F-score are ill-defined and being set to 0.0 in labels with no predicted samples. Use `zero_division` parameter to control this behavior.\n",
      "  _warn_prf(average, modifier, msg_start, len(result))\n"
     ]
    }
   ],
   "source": [
    "#Accuracy of the predicted values\n",
    "from sklearn.metrics import classification_report,confusion_matrix\n",
    "print(classification_report(y_test_class,y_pred_class))\n",
    "print(confusion_matrix(y_test_class,y_pred_class))"
   ]
  }
 ],
 "metadata": {
  "kernelspec": {
   "display_name": "base",
   "language": "python",
   "name": "python3"
  },
  "language_info": {
   "codemirror_mode": {
    "name": "ipython",
    "version": 3
   },
   "file_extension": ".py",
   "mimetype": "text/x-python",
   "name": "python",
   "nbconvert_exporter": "python",
   "pygments_lexer": "ipython3",
   "version": "3.11.4"
  },
  "orig_nbformat": 4
 },
 "nbformat": 4,
 "nbformat_minor": 2
}
