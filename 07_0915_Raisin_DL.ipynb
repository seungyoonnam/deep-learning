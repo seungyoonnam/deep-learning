{
 "cells": [
  {
   "cell_type": "markdown",
   "metadata": {},
   "source": [
    "Attribute Information:\n",
    "\n",
    "1.) Area: Gives the number of pixels within the boundaries of the raisin. \n",
    "2.) Perimeter: It measures the environment by calculating the distance between the boundaries of the raisin and the pixels around it.\n",
    "3.) MajorAxisLength: Gives the length of the main axis, which is the longest line that can be drawn on the raisin.\n",
    "4.) MinorAxisLength: Gives the length of the small axis, which is the shortest line that can be drawn on the raisin.\n",
    "5.) Eccentricity: It gives a measure of the eccentricity of the ellipse, which has the same moments as raisins. \n",
    "6.) ConvexArea: Gives the number of pixels of the smallest convex shell of the region formed by the raisin.\n",
    "7.) Extent: Gives the ratio of the region formed by the raisin to the total pixels in the bounding box.\n",
    "8.) Class: Kecimen and Besni raisin."
   ]
  },
  {
   "cell_type": "code",
   "execution_count": 97,
   "metadata": {},
   "outputs": [
    {
     "data": {
      "text/html": [
       "<div>\n",
       "<style scoped>\n",
       "    .dataframe tbody tr th:only-of-type {\n",
       "        vertical-align: middle;\n",
       "    }\n",
       "\n",
       "    .dataframe tbody tr th {\n",
       "        vertical-align: top;\n",
       "    }\n",
       "\n",
       "    .dataframe thead th {\n",
       "        text-align: right;\n",
       "    }\n",
       "</style>\n",
       "<table border=\"1\" class=\"dataframe\">\n",
       "  <thead>\n",
       "    <tr style=\"text-align: right;\">\n",
       "      <th></th>\n",
       "      <th>Area</th>\n",
       "      <th>MajorAxisLength</th>\n",
       "      <th>MinorAxisLength</th>\n",
       "      <th>Eccentricity</th>\n",
       "      <th>ConvexArea</th>\n",
       "      <th>Extent</th>\n",
       "      <th>Perimeter</th>\n",
       "      <th>Class</th>\n",
       "    </tr>\n",
       "  </thead>\n",
       "  <tbody>\n",
       "    <tr>\n",
       "      <th>0</th>\n",
       "      <td>87524</td>\n",
       "      <td>442.246011</td>\n",
       "      <td>253.291155</td>\n",
       "      <td>0.819738</td>\n",
       "      <td>90546</td>\n",
       "      <td>0.758651</td>\n",
       "      <td>1184.040</td>\n",
       "      <td>Kecimen</td>\n",
       "    </tr>\n",
       "    <tr>\n",
       "      <th>1</th>\n",
       "      <td>75166</td>\n",
       "      <td>406.690687</td>\n",
       "      <td>243.032436</td>\n",
       "      <td>0.801805</td>\n",
       "      <td>78789</td>\n",
       "      <td>0.684130</td>\n",
       "      <td>1121.786</td>\n",
       "      <td>Kecimen</td>\n",
       "    </tr>\n",
       "    <tr>\n",
       "      <th>2</th>\n",
       "      <td>90856</td>\n",
       "      <td>442.267048</td>\n",
       "      <td>266.328318</td>\n",
       "      <td>0.798354</td>\n",
       "      <td>93717</td>\n",
       "      <td>0.637613</td>\n",
       "      <td>1208.575</td>\n",
       "      <td>Kecimen</td>\n",
       "    </tr>\n",
       "    <tr>\n",
       "      <th>3</th>\n",
       "      <td>45928</td>\n",
       "      <td>286.540559</td>\n",
       "      <td>208.760042</td>\n",
       "      <td>0.684989</td>\n",
       "      <td>47336</td>\n",
       "      <td>0.699599</td>\n",
       "      <td>844.162</td>\n",
       "      <td>Kecimen</td>\n",
       "    </tr>\n",
       "    <tr>\n",
       "      <th>4</th>\n",
       "      <td>79408</td>\n",
       "      <td>352.190770</td>\n",
       "      <td>290.827533</td>\n",
       "      <td>0.564011</td>\n",
       "      <td>81463</td>\n",
       "      <td>0.792772</td>\n",
       "      <td>1073.251</td>\n",
       "      <td>Kecimen</td>\n",
       "    </tr>\n",
       "    <tr>\n",
       "      <th>...</th>\n",
       "      <td>...</td>\n",
       "      <td>...</td>\n",
       "      <td>...</td>\n",
       "      <td>...</td>\n",
       "      <td>...</td>\n",
       "      <td>...</td>\n",
       "      <td>...</td>\n",
       "      <td>...</td>\n",
       "    </tr>\n",
       "    <tr>\n",
       "      <th>895</th>\n",
       "      <td>83248</td>\n",
       "      <td>430.077308</td>\n",
       "      <td>247.838695</td>\n",
       "      <td>0.817263</td>\n",
       "      <td>85839</td>\n",
       "      <td>0.668793</td>\n",
       "      <td>1129.072</td>\n",
       "      <td>Besni</td>\n",
       "    </tr>\n",
       "    <tr>\n",
       "      <th>896</th>\n",
       "      <td>87350</td>\n",
       "      <td>440.735698</td>\n",
       "      <td>259.293149</td>\n",
       "      <td>0.808629</td>\n",
       "      <td>90899</td>\n",
       "      <td>0.636476</td>\n",
       "      <td>1214.252</td>\n",
       "      <td>Besni</td>\n",
       "    </tr>\n",
       "    <tr>\n",
       "      <th>897</th>\n",
       "      <td>99657</td>\n",
       "      <td>431.706981</td>\n",
       "      <td>298.837323</td>\n",
       "      <td>0.721684</td>\n",
       "      <td>106264</td>\n",
       "      <td>0.741099</td>\n",
       "      <td>1292.828</td>\n",
       "      <td>Besni</td>\n",
       "    </tr>\n",
       "    <tr>\n",
       "      <th>898</th>\n",
       "      <td>93523</td>\n",
       "      <td>476.344094</td>\n",
       "      <td>254.176054</td>\n",
       "      <td>0.845739</td>\n",
       "      <td>97653</td>\n",
       "      <td>0.658798</td>\n",
       "      <td>1258.548</td>\n",
       "      <td>Besni</td>\n",
       "    </tr>\n",
       "    <tr>\n",
       "      <th>899</th>\n",
       "      <td>85609</td>\n",
       "      <td>512.081774</td>\n",
       "      <td>215.271976</td>\n",
       "      <td>0.907345</td>\n",
       "      <td>89197</td>\n",
       "      <td>0.632020</td>\n",
       "      <td>1272.862</td>\n",
       "      <td>Besni</td>\n",
       "    </tr>\n",
       "  </tbody>\n",
       "</table>\n",
       "<p>900 rows × 8 columns</p>\n",
       "</div>"
      ],
      "text/plain": [
       "      Area  MajorAxisLength  MinorAxisLength  Eccentricity  ConvexArea  \\\n",
       "0    87524       442.246011       253.291155      0.819738       90546   \n",
       "1    75166       406.690687       243.032436      0.801805       78789   \n",
       "2    90856       442.267048       266.328318      0.798354       93717   \n",
       "3    45928       286.540559       208.760042      0.684989       47336   \n",
       "4    79408       352.190770       290.827533      0.564011       81463   \n",
       "..     ...              ...              ...           ...         ...   \n",
       "895  83248       430.077308       247.838695      0.817263       85839   \n",
       "896  87350       440.735698       259.293149      0.808629       90899   \n",
       "897  99657       431.706981       298.837323      0.721684      106264   \n",
       "898  93523       476.344094       254.176054      0.845739       97653   \n",
       "899  85609       512.081774       215.271976      0.907345       89197   \n",
       "\n",
       "       Extent  Perimeter    Class  \n",
       "0    0.758651   1184.040  Kecimen  \n",
       "1    0.684130   1121.786  Kecimen  \n",
       "2    0.637613   1208.575  Kecimen  \n",
       "3    0.699599    844.162  Kecimen  \n",
       "4    0.792772   1073.251  Kecimen  \n",
       "..        ...        ...      ...  \n",
       "895  0.668793   1129.072    Besni  \n",
       "896  0.636476   1214.252    Besni  \n",
       "897  0.741099   1292.828    Besni  \n",
       "898  0.658798   1258.548    Besni  \n",
       "899  0.632020   1272.862    Besni  \n",
       "\n",
       "[900 rows x 8 columns]"
      ]
     },
     "execution_count": 97,
     "metadata": {},
     "output_type": "execute_result"
    }
   ],
   "source": [
    "import pandas as pd\n",
    "import matplotlib.pyplot as plt\n",
    "import numpy as np\n",
    "import pandas as pd\n",
    "import seaborn as sns\n",
    "from sklearn.model_selection import train_test_split\n",
    "from sklearn import metrics\n",
    "import tensorflow as tf\n",
    "from tensorflow import keras\n",
    "\n",
    "data=pd.read_excel('Raisin_Dataset.xlsx')\n",
    "\n",
    "data"
   ]
  },
  {
   "cell_type": "code",
   "execution_count": 98,
   "metadata": {},
   "outputs": [
    {
     "data": {
      "text/plain": [
       "pandas.core.frame.DataFrame"
      ]
     },
     "execution_count": 98,
     "metadata": {},
     "output_type": "execute_result"
    }
   ],
   "source": [
    "#데이터타입 확인\n",
    "type(data)"
   ]
  },
  {
   "cell_type": "code",
   "execution_count": 99,
   "metadata": {},
   "outputs": [
    {
     "data": {
      "text/plain": [
       "Area               0\n",
       "MajorAxisLength    0\n",
       "MinorAxisLength    0\n",
       "Eccentricity       0\n",
       "ConvexArea         0\n",
       "Extent             0\n",
       "Perimeter          0\n",
       "Class              0\n",
       "dtype: int64"
      ]
     },
     "execution_count": 99,
     "metadata": {},
     "output_type": "execute_result"
    }
   ],
   "source": [
    "#결측치확인\n",
    "data.isnull().sum()"
   ]
  },
  {
   "cell_type": "code",
   "execution_count": 100,
   "metadata": {},
   "outputs": [
    {
     "data": {
      "text/plain": [
       "Text(0.5, 1.0, 'Label')"
      ]
     },
     "execution_count": 100,
     "metadata": {},
     "output_type": "execute_result"
    },
    {
     "data": {
      "image/png": "[encoded data removed]",
      "text/plain": [
       "<Figure size 640x480 with 1 Axes>"
      ]
     },
     "metadata": {},
     "output_type": "display_data"
    }
   ],
   "source": [
    "#EDA 수행\n",
    "sns.countplot(data = data, x=\"Class\")\n",
    "plt.ylabel(\"Count\")\n",
    "plt.title(\"Label\")"
   ]
  },
  {
   "cell_type": "code",
   "execution_count": 101,
   "metadata": {},
   "outputs": [],
   "source": [
    "#X, Y(Class) splitting\n",
    "X = data.iloc[:,0:6].values\n",
    "y = data.iloc[:,7].values\n",
    "    \n",
    "#원핫 인코딩.\n",
    "Y = pd.get_dummies(y).values"
   ]
  },
  {
   "cell_type": "code",
   "execution_count": 102,
   "metadata": {},
   "outputs": [
    {
     "data": {
      "text/plain": [
       "array([[8.75240000e+04, 4.42246011e+02, 2.53291155e+02, 8.19738392e-01,\n",
       "        9.05460000e+04, 7.58650579e-01],\n",
       "       [7.51660000e+04, 4.06690687e+02, 2.43032436e+02, 8.01805234e-01,\n",
       "        7.87890000e+04, 6.84129570e-01],\n",
       "       [9.08560000e+04, 4.42267048e+02, 2.66328318e+02, 7.98353619e-01,\n",
       "        9.37170000e+04, 6.37612812e-01],\n",
       "       ...,\n",
       "       [9.96570000e+04, 4.31706981e+02, 2.98837323e+02, 7.21684066e-01,\n",
       "        1.06264000e+05, 7.41098519e-01],\n",
       "       [9.35230000e+04, 4.76344094e+02, 2.54176054e+02, 8.45738510e-01,\n",
       "        9.76530000e+04, 6.58798253e-01],\n",
       "       [8.56090000e+04, 5.12081774e+02, 2.15271976e+02, 9.07345395e-01,\n",
       "        8.91970000e+04, 6.32019963e-01]])"
      ]
     },
     "execution_count": 102,
     "metadata": {},
     "output_type": "execute_result"
    }
   ],
   "source": [
    "X"
   ]
  },
  {
   "cell_type": "code",
   "execution_count": 103,
   "metadata": {},
   "outputs": [
    {
     "data": {
      "text/plain": [
       "array([[0, 1],\n",
       "       [0, 1],\n",
       "       [0, 1],\n",
       "       ...,\n",
       "       [1, 0],\n",
       "       [1, 0],\n",
       "       [1, 0]], dtype=uint8)"
      ]
     },
     "execution_count": 103,
     "metadata": {},
     "output_type": "execute_result"
    }
   ],
   "source": [
    "Y"
   ]
  },
  {
   "cell_type": "code",
   "execution_count": 104,
   "metadata": {},
   "outputs": [],
   "source": [
    "#Splitting the data into training and test test\n",
    "from sklearn.model_selection import train_test_split\n",
    "X_train,X_test, y_train,y_test = train_test_split(X,Y,test_size=0.2,random_state=0)"
   ]
  },
  {
   "cell_type": "code",
   "execution_count": 105,
   "metadata": {},
   "outputs": [
    {
     "name": "stderr",
     "output_type": "stream",
     "text": [
      "WARNING:absl:`lr` is deprecated in Keras optimizer, please use `learning_rate` or use the legacy optimizer, e.g.,tf.keras.optimizers.legacy.Adam.\n"
     ]
    },
    {
     "name": "stdout",
     "output_type": "stream",
     "text": [
      "Model: \"sequential_8\"\n",
      "_________________________________________________________________\n",
      " Layer (type)                Output Shape              Param #   \n",
      "=================================================================\n",
      " dense_32 (Dense)            (None, 6)                 42        \n",
      "                                                                 \n",
      " dense_33 (Dense)            (None, 6)                 42        \n",
      "                                                                 \n",
      " dense_34 (Dense)            (None, 6)                 42        \n",
      "                                                                 \n",
      " dense_35 (Dense)            (None, 2)                 14        \n",
      "                                                                 \n",
      "=================================================================\n",
      "Total params: 140 (560.00 Byte)\n",
      "Trainable params: 140 (560.00 Byte)\n",
      "Non-trainable params: 0 (0.00 Byte)\n",
      "_________________________________________________________________\n"
     ]
    }
   ],
   "source": [
    "from keras.models import Sequential\n",
    "from keras.layers import Dense\n",
    "from keras.optimizers import SGD,Adam\n",
    "\n",
    "\n",
    "model = Sequential()\n",
    "\n",
    "model.add(Dense(6,input_shape=(6,),activation='relu'))\n",
    "model.add(Dense(6,activation='relu'))\n",
    "model.add(Dense(6,activation='relu'))\n",
    "model.add(Dense(2,activation='sigmoid'))\n",
    "\n",
    "model.compile(Adam(lr=0.02),'binary_crossentropy',metrics=['accuracy'])\n",
    "\n",
    "model.summary()"
   ]
  },
  {
   "cell_type": "code",
   "execution_count": 106,
   "metadata": {},
   "outputs": [
    {
     "name": "stdout",
     "output_type": "stream",
     "text": [
      "Epoch 1/100\n"
     ]
    },
    {
     "name": "stdout",
     "output_type": "stream",
     "text": [
      "23/23 [==============================] - 1s 12ms/step - loss: 6937.9722 - accuracy: 0.4903 - val_loss: 4856.4956 - val_accuracy: 0.5389\n",
      "Epoch 2/100\n",
      "23/23 [==============================] - 0s 4ms/step - loss: 3364.8809 - accuracy: 0.4903 - val_loss: 1623.6542 - val_accuracy: 0.5389\n",
      "Epoch 3/100\n",
      "23/23 [==============================] - 0s 3ms/step - loss: 939.6745 - accuracy: 0.4889 - val_loss: 258.1639 - val_accuracy: 0.4778\n",
      "Epoch 4/100\n",
      "23/23 [==============================] - 0s 3ms/step - loss: 179.8536 - accuracy: 0.4958 - val_loss: 76.7278 - val_accuracy: 0.5444\n",
      "Epoch 5/100\n",
      "23/23 [==============================] - 0s 3ms/step - loss: 54.4544 - accuracy: 0.5667 - val_loss: 60.1727 - val_accuracy: 0.5667\n",
      "Epoch 6/100\n",
      "23/23 [==============================] - 0s 3ms/step - loss: 48.6900 - accuracy: 0.5722 - val_loss: 57.7251 - val_accuracy: 0.5667\n",
      "Epoch 7/100\n",
      "23/23 [==============================] - 0s 3ms/step - loss: 48.5176 - accuracy: 0.5708 - val_loss: 56.5753 - val_accuracy: 0.5722\n",
      "Epoch 8/100\n",
      "23/23 [==============================] - 0s 2ms/step - loss: 52.2767 - accuracy: 0.5486 - val_loss: 62.2236 - val_accuracy: 0.5556\n",
      "Epoch 9/100\n",
      "23/23 [==============================] - 0s 2ms/step - loss: 61.9116 - accuracy: 0.5472 - val_loss: 65.5556 - val_accuracy: 0.5500\n",
      "Epoch 10/100\n",
      "23/23 [==============================] - 0s 3ms/step - loss: 75.2738 - accuracy: 0.5139 - val_loss: 56.2877 - val_accuracy: 0.5944\n",
      "Epoch 11/100\n",
      "23/23 [==============================] - 0s 3ms/step - loss: 68.2462 - accuracy: 0.5458 - val_loss: 66.7947 - val_accuracy: 0.5500\n",
      "Epoch 12/100\n",
      "23/23 [==============================] - 0s 3ms/step - loss: 45.9602 - accuracy: 0.5486 - val_loss: 53.4503 - val_accuracy: 0.5944\n",
      "Epoch 13/100\n",
      "23/23 [==============================] - 0s 3ms/step - loss: 45.5810 - accuracy: 0.5611 - val_loss: 53.0580 - val_accuracy: 0.5778\n",
      "Epoch 14/100\n",
      "23/23 [==============================] - 0s 3ms/step - loss: 44.5396 - accuracy: 0.5736 - val_loss: 62.7176 - val_accuracy: 0.5500\n",
      "Epoch 15/100\n",
      "23/23 [==============================] - 0s 3ms/step - loss: 52.4765 - accuracy: 0.5472 - val_loss: 79.3128 - val_accuracy: 0.5444\n",
      "Epoch 16/100\n",
      "23/23 [==============================] - 0s 3ms/step - loss: 58.9786 - accuracy: 0.5500 - val_loss: 51.3511 - val_accuracy: 0.5944\n",
      "Epoch 17/100\n",
      "23/23 [==============================] - 0s 4ms/step - loss: 57.7328 - accuracy: 0.5500 - val_loss: 50.7409 - val_accuracy: 0.5889\n",
      "Epoch 18/100\n",
      "23/23 [==============================] - 0s 5ms/step - loss: 49.5427 - accuracy: 0.5542 - val_loss: 64.1959 - val_accuracy: 0.5889\n",
      "Epoch 19/100\n",
      "23/23 [==============================] - 0s 5ms/step - loss: 44.6731 - accuracy: 0.5889 - val_loss: 50.7025 - val_accuracy: 0.5667\n",
      "Epoch 20/100\n",
      "23/23 [==============================] - 0s 3ms/step - loss: 46.6942 - accuracy: 0.5819 - val_loss: 51.2905 - val_accuracy: 0.5778\n",
      "Epoch 21/100\n",
      "23/23 [==============================] - 0s 3ms/step - loss: 52.7654 - accuracy: 0.5458 - val_loss: 60.1293 - val_accuracy: 0.5500\n",
      "Epoch 22/100\n",
      "23/23 [==============================] - 0s 4ms/step - loss: 54.7678 - accuracy: 0.5667 - val_loss: 49.1296 - val_accuracy: 0.5944\n",
      "Epoch 23/100\n",
      "23/23 [==============================] - 0s 5ms/step - loss: 36.9819 - accuracy: 0.5722 - val_loss: 54.8870 - val_accuracy: 0.5722\n",
      "Epoch 24/100\n",
      "23/23 [==============================] - 0s 4ms/step - loss: 39.4630 - accuracy: 0.5972 - val_loss: 68.6661 - val_accuracy: 0.5500\n",
      "Epoch 25/100\n",
      "23/23 [==============================] - 0s 2ms/step - loss: 48.7266 - accuracy: 0.5722 - val_loss: 64.9167 - val_accuracy: 0.5500\n",
      "Epoch 26/100\n",
      "23/23 [==============================] - 0s 5ms/step - loss: 40.0629 - accuracy: 0.5736 - val_loss: 44.5715 - val_accuracy: 0.6056\n",
      "Epoch 27/100\n",
      "23/23 [==============================] - 0s 3ms/step - loss: 36.0816 - accuracy: 0.6125 - val_loss: 68.8454 - val_accuracy: 0.5778\n",
      "Epoch 28/100\n",
      "23/23 [==============================] - 0s 2ms/step - loss: 38.8915 - accuracy: 0.6056 - val_loss: 52.2776 - val_accuracy: 0.5778\n",
      "Epoch 29/100\n",
      "23/23 [==============================] - 0s 2ms/step - loss: 35.5856 - accuracy: 0.6236 - val_loss: 48.5071 - val_accuracy: 0.5944\n",
      "Epoch 30/100\n",
      "23/23 [==============================] - 0s 3ms/step - loss: 45.2797 - accuracy: 0.5389 - val_loss: 68.0936 - val_accuracy: 0.5667\n",
      "Epoch 31/100\n",
      "23/23 [==============================] - 0s 3ms/step - loss: 41.8305 - accuracy: 0.5972 - val_loss: 45.1323 - val_accuracy: 0.5944\n",
      "Epoch 32/100\n",
      "23/23 [==============================] - 0s 3ms/step - loss: 32.6748 - accuracy: 0.6264 - val_loss: 48.0172 - val_accuracy: 0.6111\n",
      "Epoch 33/100\n",
      "23/23 [==============================] - 0s 3ms/step - loss: 33.7865 - accuracy: 0.6208 - val_loss: 43.9348 - val_accuracy: 0.6000\n",
      "Epoch 34/100\n",
      "23/23 [==============================] - 0s 3ms/step - loss: 35.7846 - accuracy: 0.6111 - val_loss: 48.0039 - val_accuracy: 0.5889\n",
      "Epoch 35/100\n",
      "23/23 [==============================] - 0s 3ms/step - loss: 35.7415 - accuracy: 0.6083 - val_loss: 51.1255 - val_accuracy: 0.6056\n",
      "Epoch 36/100\n",
      "23/23 [==============================] - 0s 3ms/step - loss: 34.7786 - accuracy: 0.6208 - val_loss: 40.4393 - val_accuracy: 0.6056\n",
      "Epoch 37/100\n",
      "23/23 [==============================] - 0s 2ms/step - loss: 33.1309 - accuracy: 0.6000 - val_loss: 42.4821 - val_accuracy: 0.6111\n",
      "Epoch 38/100\n",
      "23/23 [==============================] - 0s 3ms/step - loss: 33.6747 - accuracy: 0.6056 - val_loss: 39.1217 - val_accuracy: 0.6278\n",
      "Epoch 39/100\n",
      "23/23 [==============================] - 0s 2ms/step - loss: 32.6545 - accuracy: 0.5875 - val_loss: 53.8406 - val_accuracy: 0.6056\n",
      "Epoch 40/100\n",
      "23/23 [==============================] - 0s 3ms/step - loss: 34.7923 - accuracy: 0.6111 - val_loss: 36.6412 - val_accuracy: 0.6222\n",
      "Epoch 41/100\n",
      "23/23 [==============================] - 0s 3ms/step - loss: 28.1904 - accuracy: 0.6333 - val_loss: 41.3221 - val_accuracy: 0.6056\n",
      "Epoch 42/100\n",
      "23/23 [==============================] - 0s 3ms/step - loss: 26.5417 - accuracy: 0.6431 - val_loss: 49.5266 - val_accuracy: 0.6056\n",
      "Epoch 43/100\n",
      "23/23 [==============================] - 0s 3ms/step - loss: 39.3925 - accuracy: 0.5653 - val_loss: 45.8817 - val_accuracy: 0.6278\n",
      "Epoch 44/100\n",
      "23/23 [==============================] - 0s 2ms/step - loss: 49.7325 - accuracy: 0.5694 - val_loss: 39.4590 - val_accuracy: 0.6167\n",
      "Epoch 45/100\n",
      "23/23 [==============================] - 0s 2ms/step - loss: 51.6382 - accuracy: 0.5625 - val_loss: 45.4939 - val_accuracy: 0.6167\n",
      "Epoch 46/100\n",
      "23/23 [==============================] - 0s 2ms/step - loss: 28.9504 - accuracy: 0.6361 - val_loss: 45.1616 - val_accuracy: 0.6556\n",
      "Epoch 47/100\n",
      "23/23 [==============================] - 0s 3ms/step - loss: 32.8182 - accuracy: 0.6125 - val_loss: 34.4534 - val_accuracy: 0.6444\n",
      "Epoch 48/100\n",
      "23/23 [==============================] - 0s 4ms/step - loss: 25.6793 - accuracy: 0.6444 - val_loss: 31.8457 - val_accuracy: 0.6556\n",
      "Epoch 49/100\n",
      "23/23 [==============================] - 0s 8ms/step - loss: 29.1211 - accuracy: 0.5972 - val_loss: 43.5789 - val_accuracy: 0.6000\n",
      "Epoch 50/100\n",
      "23/23 [==============================] - 0s 6ms/step - loss: 54.3430 - accuracy: 0.5542 - val_loss: 37.6631 - val_accuracy: 0.6556\n",
      "Epoch 51/100\n",
      "23/23 [==============================] - 0s 6ms/step - loss: 39.7764 - accuracy: 0.5736 - val_loss: 30.7892 - val_accuracy: 0.6667\n",
      "Epoch 52/100\n",
      "23/23 [==============================] - 0s 6ms/step - loss: 25.3105 - accuracy: 0.6597 - val_loss: 30.2094 - val_accuracy: 0.6556\n",
      "Epoch 53/100\n",
      "23/23 [==============================] - 0s 2ms/step - loss: 22.4867 - accuracy: 0.6722 - val_loss: 30.3041 - val_accuracy: 0.6833\n",
      "Epoch 54/100\n",
      "23/23 [==============================] - 0s 4ms/step - loss: 33.9688 - accuracy: 0.6361 - val_loss: 71.0185 - val_accuracy: 0.5389\n",
      "Epoch 55/100\n",
      "23/23 [==============================] - 0s 5ms/step - loss: 26.9658 - accuracy: 0.6486 - val_loss: 35.1482 - val_accuracy: 0.6389\n",
      "Epoch 56/100\n",
      "23/23 [==============================] - 0s 4ms/step - loss: 25.7181 - accuracy: 0.6486 - val_loss: 42.0953 - val_accuracy: 0.5889\n",
      "Epoch 57/100\n",
      "23/23 [==============================] - 0s 4ms/step - loss: 25.5928 - accuracy: 0.6583 - val_loss: 31.1451 - val_accuracy: 0.7000\n",
      "Epoch 58/100\n",
      "23/23 [==============================] - 0s 5ms/step - loss: 21.1815 - accuracy: 0.6681 - val_loss: 36.5172 - val_accuracy: 0.6278\n",
      "Epoch 59/100\n",
      "23/23 [==============================] - 0s 5ms/step - loss: 23.6218 - accuracy: 0.6639 - val_loss: 27.3530 - val_accuracy: 0.7000\n",
      "Epoch 60/100\n",
      "23/23 [==============================] - 0s 4ms/step - loss: 21.7834 - accuracy: 0.6639 - val_loss: 28.8254 - val_accuracy: 0.7000\n",
      "Epoch 61/100\n",
      "23/23 [==============================] - 0s 8ms/step - loss: 20.0996 - accuracy: 0.6972 - val_loss: 30.0052 - val_accuracy: 0.6722\n",
      "Epoch 62/100\n",
      "23/23 [==============================] - 0s 3ms/step - loss: 20.4841 - accuracy: 0.6847 - val_loss: 27.7810 - val_accuracy: 0.6944\n",
      "Epoch 63/100\n",
      "23/23 [==============================] - 0s 3ms/step - loss: 19.2433 - accuracy: 0.6889 - val_loss: 28.7927 - val_accuracy: 0.6611\n",
      "Epoch 64/100\n",
      "23/23 [==============================] - 0s 2ms/step - loss: 24.3608 - accuracy: 0.6750 - val_loss: 40.8515 - val_accuracy: 0.5889\n",
      "Epoch 65/100\n",
      "23/23 [==============================] - 0s 4ms/step - loss: 35.5148 - accuracy: 0.5917 - val_loss: 33.5925 - val_accuracy: 0.6500\n",
      "Epoch 66/100\n",
      "23/23 [==============================] - 0s 5ms/step - loss: 26.3826 - accuracy: 0.6431 - val_loss: 51.1059 - val_accuracy: 0.5778\n",
      "Epoch 67/100\n",
      "23/23 [==============================] - 0s 4ms/step - loss: 29.9647 - accuracy: 0.6222 - val_loss: 39.7825 - val_accuracy: 0.5833\n",
      "Epoch 68/100\n",
      "23/23 [==============================] - 0s 4ms/step - loss: 30.8548 - accuracy: 0.6069 - val_loss: 37.4632 - val_accuracy: 0.6389\n",
      "Epoch 69/100\n",
      "23/23 [==============================] - 0s 4ms/step - loss: 18.4911 - accuracy: 0.7083 - val_loss: 22.6901 - val_accuracy: 0.7222\n",
      "Epoch 70/100\n",
      "23/23 [==============================] - 0s 4ms/step - loss: 18.6943 - accuracy: 0.7014 - val_loss: 26.2512 - val_accuracy: 0.7167\n",
      "Epoch 71/100\n",
      "23/23 [==============================] - 0s 3ms/step - loss: 16.6408 - accuracy: 0.7167 - val_loss: 23.7830 - val_accuracy: 0.7222\n",
      "Epoch 72/100\n",
      "23/23 [==============================] - 0s 3ms/step - loss: 15.8075 - accuracy: 0.7222 - val_loss: 21.4097 - val_accuracy: 0.7444\n",
      "Epoch 73/100\n",
      "23/23 [==============================] - 0s 4ms/step - loss: 16.1207 - accuracy: 0.7236 - val_loss: 21.1366 - val_accuracy: 0.7444\n",
      "Epoch 74/100\n",
      "23/23 [==============================] - 0s 4ms/step - loss: 16.7581 - accuracy: 0.7139 - val_loss: 22.5395 - val_accuracy: 0.7333\n",
      "Epoch 75/100\n",
      "23/23 [==============================] - 0s 6ms/step - loss: 22.7602 - accuracy: 0.6583 - val_loss: 32.0049 - val_accuracy: 0.6444\n",
      "Epoch 76/100\n",
      "23/23 [==============================] - 0s 4ms/step - loss: 21.4957 - accuracy: 0.6736 - val_loss: 37.2927 - val_accuracy: 0.5944\n",
      "Epoch 77/100\n",
      "23/23 [==============================] - 0s 4ms/step - loss: 17.1343 - accuracy: 0.7000 - val_loss: 20.2950 - val_accuracy: 0.7611\n",
      "Epoch 78/100\n",
      "23/23 [==============================] - 0s 4ms/step - loss: 19.8412 - accuracy: 0.6861 - val_loss: 47.0069 - val_accuracy: 0.5556\n",
      "Epoch 79/100\n",
      "23/23 [==============================] - 0s 5ms/step - loss: 28.9070 - accuracy: 0.6153 - val_loss: 19.9498 - val_accuracy: 0.7389\n",
      "Epoch 80/100\n",
      "23/23 [==============================] - 0s 5ms/step - loss: 15.5282 - accuracy: 0.7069 - val_loss: 20.0093 - val_accuracy: 0.7667\n",
      "Epoch 81/100\n",
      "23/23 [==============================] - 0s 4ms/step - loss: 13.6589 - accuracy: 0.7486 - val_loss: 26.2496 - val_accuracy: 0.7333\n",
      "Epoch 82/100\n",
      "23/23 [==============================] - 0s 3ms/step - loss: 25.0250 - accuracy: 0.6472 - val_loss: 30.1915 - val_accuracy: 0.6167\n",
      "Epoch 83/100\n",
      "23/23 [==============================] - 0s 4ms/step - loss: 15.7670 - accuracy: 0.7333 - val_loss: 21.0728 - val_accuracy: 0.7556\n",
      "Epoch 84/100\n",
      "23/23 [==============================] - 0s 4ms/step - loss: 19.1062 - accuracy: 0.6847 - val_loss: 22.5802 - val_accuracy: 0.7500\n",
      "Epoch 85/100\n",
      "23/23 [==============================] - 0s 5ms/step - loss: 16.1279 - accuracy: 0.7375 - val_loss: 25.7263 - val_accuracy: 0.7444\n",
      "Epoch 86/100\n",
      "23/23 [==============================] - 0s 4ms/step - loss: 15.4727 - accuracy: 0.7250 - val_loss: 35.5228 - val_accuracy: 0.5889\n",
      "Epoch 87/100\n",
      "23/23 [==============================] - 0s 3ms/step - loss: 27.7915 - accuracy: 0.6333 - val_loss: 23.0856 - val_accuracy: 0.7500\n",
      "Epoch 88/100\n",
      "23/23 [==============================] - 0s 2ms/step - loss: 17.5303 - accuracy: 0.7250 - val_loss: 19.2506 - val_accuracy: 0.7611\n",
      "Epoch 89/100\n",
      "23/23 [==============================] - 0s 4ms/step - loss: 15.0986 - accuracy: 0.7361 - val_loss: 17.4783 - val_accuracy: 0.7889\n",
      "Epoch 90/100\n",
      "23/23 [==============================] - 0s 3ms/step - loss: 12.5600 - accuracy: 0.7542 - val_loss: 21.1625 - val_accuracy: 0.7389\n",
      "Epoch 91/100\n",
      "23/23 [==============================] - 0s 4ms/step - loss: 15.6292 - accuracy: 0.7194 - val_loss: 43.6585 - val_accuracy: 0.5556\n",
      "Epoch 92/100\n",
      "23/23 [==============================] - 0s 4ms/step - loss: 24.7403 - accuracy: 0.6292 - val_loss: 17.0202 - val_accuracy: 0.7667\n",
      "Epoch 93/100\n",
      "23/23 [==============================] - 0s 4ms/step - loss: 31.9073 - accuracy: 0.6153 - val_loss: 38.0283 - val_accuracy: 0.5611\n",
      "Epoch 94/100\n",
      "23/23 [==============================] - 0s 3ms/step - loss: 13.9076 - accuracy: 0.7375 - val_loss: 16.7318 - val_accuracy: 0.7944\n",
      "Epoch 95/100\n",
      "23/23 [==============================] - 0s 2ms/step - loss: 13.2880 - accuracy: 0.7417 - val_loss: 18.6822 - val_accuracy: 0.7444\n",
      "Epoch 96/100\n",
      "23/23 [==============================] - 0s 2ms/step - loss: 11.3173 - accuracy: 0.7903 - val_loss: 15.7514 - val_accuracy: 0.8167\n",
      "Epoch 97/100\n",
      "23/23 [==============================] - 0s 3ms/step - loss: 11.9518 - accuracy: 0.7694 - val_loss: 15.5015 - val_accuracy: 0.8167\n",
      "Epoch 98/100\n",
      "23/23 [==============================] - 0s 3ms/step - loss: 10.5568 - accuracy: 0.7681 - val_loss: 17.5096 - val_accuracy: 0.8056\n",
      "Epoch 99/100\n",
      "23/23 [==============================] - 0s 2ms/step - loss: 12.1938 - accuracy: 0.7681 - val_loss: 16.1027 - val_accuracy: 0.7889\n",
      "Epoch 100/100\n",
      "23/23 [==============================] - 0s 2ms/step - loss: 11.4669 - accuracy: 0.7653 - val_loss: 15.4460 - val_accuracy: 0.8167\n",
      "6/6 [==============================] - 0s 0s/step\n"
     ]
    }
   ],
   "source": [
    "model_history=model.fit(x=X_train, y=y_train, epochs=100, batch_size=32,validation_data= (X_test,y_test))\n",
    "y_pred = model.predict(X_test)\n",
    "\n",
    "y_test_class = np.argmax(y_test,axis=1)\n",
    "y_pred_class = np.argmax(y_pred,axis=1)"
   ]
  },
  {
   "cell_type": "code",
   "execution_count": 107,
   "metadata": {},
   "outputs": [
    {
     "data": {
      "image/png": "[encoded data removed]",
      "text/plain": [
       "<Figure size 640x480 with 1 Axes>"
      ]
     },
     "metadata": {},
     "output_type": "display_data"
    }
   ],
   "source": [
    "#시각화\n",
    "\n",
    "import matplotlib.pyplot as plt\n",
    "import seaborn as sns\n",
    "\n",
    "loss =model_history.history['loss']\n",
    "val_loss =model_history.history['val_loss']\n",
    "epochs = range(1, len(loss) + 1)\n",
    "plt.plot(epochs, loss, 'y', label='Training loss')\n",
    "plt.plot(epochs, val_loss, 'r', label='Validation loss')\n",
    "plt.title('Training and validation loss')\n",
    "plt.xlabel('Epochs')\n",
    "plt.ylabel('Loss')\n",
    "plt.legend()\n",
    "plt.show()"
   ]
  },
  {
   "cell_type": "code",
   "execution_count": 108,
   "metadata": {},
   "outputs": [
    {
     "data": {
      "image/png": "[encoded data removed]",
      "text/plain": [
       "<Figure size 640x480 with 1 Axes>"
      ]
     },
     "metadata": {},
     "output_type": "display_data"
    }
   ],
   "source": [
    "acc =model_history.history['accuracy']\n",
    "val_acc =model_history.history['val_accuracy']\n",
    "plt.plot(epochs, acc, 'y', label='Training acc')\n",
    "plt.plot(epochs, val_acc, 'r', label='Validation acc')\n",
    "plt.title('Training and validation accuracy')\n",
    "plt.xlabel('Epochs')\n",
    "plt.ylabel('Accuracy')\n",
    "plt.legend()\n",
    "plt.show()"
   ]
  },
  {
   "cell_type": "code",
   "execution_count": 109,
   "metadata": {},
   "outputs": [
    {
     "name": "stdout",
     "output_type": "stream",
     "text": [
      "              precision    recall  f1-score   support\n",
      "\n",
      "           0       0.81      0.86      0.83        97\n",
      "           1       0.82      0.76      0.79        83\n",
      "\n",
      "    accuracy                           0.81       180\n",
      "   macro avg       0.81      0.81      0.81       180\n",
      "weighted avg       0.81      0.81      0.81       180\n",
      "\n",
      "[[83 14]\n",
      " [20 63]]\n"
     ]
    }
   ],
   "source": [
    "#성능평가\n",
    "\n",
    "#Accuracy of the predicted values\n",
    "from sklearn.metrics import classification_report,confusion_matrix\n",
    "print(classification_report(y_test_class,y_pred_class))\n",
    "print(confusion_matrix(y_test_class,y_pred_class))"
   ]
  }
 ],
 "metadata": {
  "kernelspec": {
   "display_name": "base",
   "language": "python",
   "name": "python3"
  },
  "language_info": {
   "codemirror_mode": {
    "name": "ipython",
    "version": 3
   },
   "file_extension": ".py",
   "mimetype": "text/x-python",
   "name": "python",
   "nbconvert_exporter": "python",
   "pygments_lexer": "ipython3",
   "version": "3.11.4"
  },
  "orig_nbformat": 4
 },
 "nbformat": 4,
 "nbformat_minor": 2
}
