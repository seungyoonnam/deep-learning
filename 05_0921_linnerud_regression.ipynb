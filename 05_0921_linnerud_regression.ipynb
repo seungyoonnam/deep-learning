{
  "nbformat": 4,
  "nbformat_minor": 0,
  "metadata": {
    "colab": {
      "provenance": [],
      "authorship_tag": "ABX9TyOQR3jrDb2yuBxMzoL/b/zm",
      "include_colab_link": true
    },
    "kernelspec": {
      "name": "python3",
      "display_name": "Python 3"
    },
    "language_info": {
      "name": "python"
    }
  },
  "cells": [
    {
      "cell_type": "markdown",
      "metadata": {
        "id": "view-in-github",
        "colab_type": "text"
      },
      "source": [
        "<a href=\"https://colab.research.google.com/github/seungyoonnam/deep-learning/blob/main/05_0921_linnerud_regression.ipynb\" target=\"_parent\"><img src=\"https://colab.research.google.com/assets/colab-badge.svg\" alt=\"Open In Colab\"/></a>"
      ]
    },
    {
      "cell_type": "code",
      "execution_count": 5,
      "metadata": {
        "id": "2uCt9hDPcdA4"
      },
      "outputs": [],
      "source": [
        "import numpy as np\n",
        "import matplotlib.pyplot as plt\n",
        "import pandas as pd\n",
        "import seaborn as sns\n",
        "from scipy import stats  # 과학용 계산 라이브러리\n",
        "from sklearn.model_selection import train_test_split\n",
        "from sklearn import metrics\n",
        "import tensorflow as tf\n",
        "from tensorflow import keras"
      ]
    },
    {
      "cell_type": "code",
      "source": [
        "from sklearn.datasets import load_linnerud\n",
        "\n",
        "linnerud = load_linnerud()\n",
        "print(linnerud.DESCR)"
      ],
      "metadata": {
        "colab": {
          "base_uri": "https://localhost:8080/"
        },
        "id": "7b95n4hCfI94",
        "outputId": "eaff10e9-36a4-4a7d-e22b-0406176e11da"
      },
      "execution_count": 6,
      "outputs": [
        {
          "output_type": "stream",
          "name": "stdout",
          "text": [
            ".. _linnerrud_dataset:\n",
            "\n",
            "Linnerrud dataset\n",
            "-----------------\n",
            "\n",
            "**Data Set Characteristics:**\n",
            "\n",
            "    :Number of Instances: 20\n",
            "    :Number of Attributes: 3\n",
            "    :Missing Attribute Values: None\n",
            "\n",
            "The Linnerud dataset is a multi-output regression dataset. It consists of three\n",
            "exercise (data) and three physiological (target) variables collected from\n",
            "twenty middle-aged men in a fitness club:\n",
            "\n",
            "- *physiological* - CSV containing 20 observations on 3 physiological variables:\n",
            "   Weight, Waist and Pulse.\n",
            "- *exercise* - CSV containing 20 observations on 3 exercise variables:\n",
            "   Chins, Situps and Jumps.\n",
            "\n",
            ".. topic:: References\n",
            "\n",
            "  * Tenenhaus, M. (1998). La regression PLS: theorie et pratique. Paris:\n",
            "    Editions Technic.\n",
            "\n"
          ]
        }
      ]
    },
    {
      "cell_type": "code",
      "source": [
        "linnerud"
      ],
      "metadata": {
        "colab": {
          "base_uri": "https://localhost:8080/"
        },
        "id": "aFxuFAZgc3vF",
        "outputId": "daba5aa3-8ae2-42d4-c8cd-55420fc547b0"
      },
      "execution_count": 7,
      "outputs": [
        {
          "output_type": "execute_result",
          "data": {
            "text/plain": [
              "{'data': array([[  5., 162.,  60.],\n",
              "        [  2., 110.,  60.],\n",
              "        [ 12., 101., 101.],\n",
              "        [ 12., 105.,  37.],\n",
              "        [ 13., 155.,  58.],\n",
              "        [  4., 101.,  42.],\n",
              "        [  8., 101.,  38.],\n",
              "        [  6., 125.,  40.],\n",
              "        [ 15., 200.,  40.],\n",
              "        [ 17., 251., 250.],\n",
              "        [ 17., 120.,  38.],\n",
              "        [ 13., 210., 115.],\n",
              "        [ 14., 215., 105.],\n",
              "        [  1.,  50.,  50.],\n",
              "        [  6.,  70.,  31.],\n",
              "        [ 12., 210., 120.],\n",
              "        [  4.,  60.,  25.],\n",
              "        [ 11., 230.,  80.],\n",
              "        [ 15., 225.,  73.],\n",
              "        [  2., 110.,  43.]]),\n",
              " 'feature_names': ['Chins', 'Situps', 'Jumps'],\n",
              " 'target': array([[191.,  36.,  50.],\n",
              "        [189.,  37.,  52.],\n",
              "        [193.,  38.,  58.],\n",
              "        [162.,  35.,  62.],\n",
              "        [189.,  35.,  46.],\n",
              "        [182.,  36.,  56.],\n",
              "        [211.,  38.,  56.],\n",
              "        [167.,  34.,  60.],\n",
              "        [176.,  31.,  74.],\n",
              "        [154.,  33.,  56.],\n",
              "        [169.,  34.,  50.],\n",
              "        [166.,  33.,  52.],\n",
              "        [154.,  34.,  64.],\n",
              "        [247.,  46.,  50.],\n",
              "        [193.,  36.,  46.],\n",
              "        [202.,  37.,  62.],\n",
              "        [176.,  37.,  54.],\n",
              "        [157.,  32.,  52.],\n",
              "        [156.,  33.,  54.],\n",
              "        [138.,  33.,  68.]]),\n",
              " 'target_names': ['Weight', 'Waist', 'Pulse'],\n",
              " 'frame': None,\n",
              " 'DESCR': '.. _linnerrud_dataset:\\n\\nLinnerrud dataset\\n-----------------\\n\\n**Data Set Characteristics:**\\n\\n    :Number of Instances: 20\\n    :Number of Attributes: 3\\n    :Missing Attribute Values: None\\n\\nThe Linnerud dataset is a multi-output regression dataset. It consists of three\\nexercise (data) and three physiological (target) variables collected from\\ntwenty middle-aged men in a fitness club:\\n\\n- *physiological* - CSV containing 20 observations on 3 physiological variables:\\n   Weight, Waist and Pulse.\\n- *exercise* - CSV containing 20 observations on 3 exercise variables:\\n   Chins, Situps and Jumps.\\n\\n.. topic:: References\\n\\n  * Tenenhaus, M. (1998). La regression PLS: theorie et pratique. Paris:\\n    Editions Technic.\\n',\n",
              " 'data_filename': 'linnerud_exercise.csv',\n",
              " 'target_filename': 'linnerud_physiological.csv',\n",
              " 'data_module': 'sklearn.datasets.data'}"
            ]
          },
          "metadata": {},
          "execution_count": 7
        }
      ]
    },
    {
      "cell_type": "code",
      "source": [
        "df = pd.concat([pd.DataFrame(linnerud.data, columns=linnerud.feature_names),\n",
        "                pd.DataFrame(linnerud.target, columns=linnerud.target_names)],\n",
        "               axis=1)\n",
        "df.tail()"
      ],
      "metadata": {
        "colab": {
          "base_uri": "https://localhost:8080/",
          "height": 206
        },
        "id": "XLOc_xWdeHRH",
        "outputId": "1c7ae118-80f2-4b0a-dc2c-f8d6ac5c5913"
      },
      "execution_count": 8,
      "outputs": [
        {
          "output_type": "execute_result",
          "data": {
            "text/plain": [
              "    Chins  Situps  Jumps  Weight  Waist  Pulse\n",
              "15   12.0   210.0  120.0   202.0   37.0   62.0\n",
              "16    4.0    60.0   25.0   176.0   37.0   54.0\n",
              "17   11.0   230.0   80.0   157.0   32.0   52.0\n",
              "18   15.0   225.0   73.0   156.0   33.0   54.0\n",
              "19    2.0   110.0   43.0   138.0   33.0   68.0"
            ],
            "text/html": [
              "\n",
              "  <div id=\"df-b41daa9a-a6a0-4f5b-852e-a3de3c4f9dfd\" class=\"colab-df-container\">\n",
              "    <div>\n",
              "<style scoped>\n",
              "    .dataframe tbody tr th:only-of-type {\n",
              "        vertical-align: middle;\n",
              "    }\n",
              "\n",
              "    .dataframe tbody tr th {\n",
              "        vertical-align: top;\n",
              "    }\n",
              "\n",
              "    .dataframe thead th {\n",
              "        text-align: right;\n",
              "    }\n",
              "</style>\n",
              "<table border=\"1\" class=\"dataframe\">\n",
              "  <thead>\n",
              "    <tr style=\"text-align: right;\">\n",
              "      <th></th>\n",
              "      <th>Chins</th>\n",
              "      <th>Situps</th>\n",
              "      <th>Jumps</th>\n",
              "      <th>Weight</th>\n",
              "      <th>Waist</th>\n",
              "      <th>Pulse</th>\n",
              "    </tr>\n",
              "  </thead>\n",
              "  <tbody>\n",
              "    <tr>\n",
              "      <th>15</th>\n",
              "      <td>12.0</td>\n",
              "      <td>210.0</td>\n",
              "      <td>120.0</td>\n",
              "      <td>202.0</td>\n",
              "      <td>37.0</td>\n",
              "      <td>62.0</td>\n",
              "    </tr>\n",
              "    <tr>\n",
              "      <th>16</th>\n",
              "      <td>4.0</td>\n",
              "      <td>60.0</td>\n",
              "      <td>25.0</td>\n",
              "      <td>176.0</td>\n",
              "      <td>37.0</td>\n",
              "      <td>54.0</td>\n",
              "    </tr>\n",
              "    <tr>\n",
              "      <th>17</th>\n",
              "      <td>11.0</td>\n",
              "      <td>230.0</td>\n",
              "      <td>80.0</td>\n",
              "      <td>157.0</td>\n",
              "      <td>32.0</td>\n",
              "      <td>52.0</td>\n",
              "    </tr>\n",
              "    <tr>\n",
              "      <th>18</th>\n",
              "      <td>15.0</td>\n",
              "      <td>225.0</td>\n",
              "      <td>73.0</td>\n",
              "      <td>156.0</td>\n",
              "      <td>33.0</td>\n",
              "      <td>54.0</td>\n",
              "    </tr>\n",
              "    <tr>\n",
              "      <th>19</th>\n",
              "      <td>2.0</td>\n",
              "      <td>110.0</td>\n",
              "      <td>43.0</td>\n",
              "      <td>138.0</td>\n",
              "      <td>33.0</td>\n",
              "      <td>68.0</td>\n",
              "    </tr>\n",
              "  </tbody>\n",
              "</table>\n",
              "</div>\n",
              "    <div class=\"colab-df-buttons\">\n",
              "\n",
              "  <div class=\"colab-df-container\">\n",
              "    <button class=\"colab-df-convert\" onclick=\"convertToInteractive('df-b41daa9a-a6a0-4f5b-852e-a3de3c4f9dfd')\"\n",
              "            title=\"Convert this dataframe to an interactive table.\"\n",
              "            style=\"display:none;\">\n",
              "\n",
              "  <svg xmlns=\"http://www.w3.org/2000/svg\" height=\"24px\" viewBox=\"0 -960 960 960\">\n",
              "    <path d=\"M120-120v-720h720v720H120Zm60-500h600v-160H180v160Zm220 220h160v-160H400v160Zm0 220h160v-160H400v160ZM180-400h160v-160H180v160Zm440 0h160v-160H620v160ZM180-180h160v-160H180v160Zm440 0h160v-160H620v160Z\"/>\n",
              "  </svg>\n",
              "    </button>\n",
              "\n",
              "  <style>\n",
              "    .colab-df-container {\n",
              "      display:flex;\n",
              "      gap: 12px;\n",
              "    }\n",
              "\n",
              "    .colab-df-convert {\n",
              "      background-color: #E8F0FE;\n",
              "      border: none;\n",
              "      border-radius: 50%;\n",
              "      cursor: pointer;\n",
              "      display: none;\n",
              "      fill: #1967D2;\n",
              "      height: 32px;\n",
              "      padding: 0 0 0 0;\n",
              "      width: 32px;\n",
              "    }\n",
              "\n",
              "    .colab-df-convert:hover {\n",
              "      background-color: #E2EBFA;\n",
              "      box-shadow: 0px 1px 2px rgba(60, 64, 67, 0.3), 0px 1px 3px 1px rgba(60, 64, 67, 0.15);\n",
              "      fill: #174EA6;\n",
              "    }\n",
              "\n",
              "    .colab-df-buttons div {\n",
              "      margin-bottom: 4px;\n",
              "    }\n",
              "\n",
              "    [theme=dark] .colab-df-convert {\n",
              "      background-color: #3B4455;\n",
              "      fill: #D2E3FC;\n",
              "    }\n",
              "\n",
              "    [theme=dark] .colab-df-convert:hover {\n",
              "      background-color: #434B5C;\n",
              "      box-shadow: 0px 1px 3px 1px rgba(0, 0, 0, 0.15);\n",
              "      filter: drop-shadow(0px 1px 2px rgba(0, 0, 0, 0.3));\n",
              "      fill: #FFFFFF;\n",
              "    }\n",
              "  </style>\n",
              "\n",
              "    <script>\n",
              "      const buttonEl =\n",
              "        document.querySelector('#df-b41daa9a-a6a0-4f5b-852e-a3de3c4f9dfd button.colab-df-convert');\n",
              "      buttonEl.style.display =\n",
              "        google.colab.kernel.accessAllowed ? 'block' : 'none';\n",
              "\n",
              "      async function convertToInteractive(key) {\n",
              "        const element = document.querySelector('#df-b41daa9a-a6a0-4f5b-852e-a3de3c4f9dfd');\n",
              "        const dataTable =\n",
              "          await google.colab.kernel.invokeFunction('convertToInteractive',\n",
              "                                                    [key], {});\n",
              "        if (!dataTable) return;\n",
              "\n",
              "        const docLinkHtml = 'Like what you see? Visit the ' +\n",
              "          '<a target=\"_blank\" href=https://colab.research.google.com/notebooks/data_table.ipynb>data table notebook</a>'\n",
              "          + ' to learn more about interactive tables.';\n",
              "        element.innerHTML = '';\n",
              "        dataTable['output_type'] = 'display_data';\n",
              "        await google.colab.output.renderOutput(dataTable, element);\n",
              "        const docLink = document.createElement('div');\n",
              "        docLink.innerHTML = docLinkHtml;\n",
              "        element.appendChild(docLink);\n",
              "      }\n",
              "    </script>\n",
              "  </div>\n",
              "\n",
              "\n",
              "<div id=\"df-2d467e4a-cfe5-4492-b8e9-f22902a00267\">\n",
              "  <button class=\"colab-df-quickchart\" onclick=\"quickchart('df-2d467e4a-cfe5-4492-b8e9-f22902a00267')\"\n",
              "            title=\"Suggest charts.\"\n",
              "            style=\"display:none;\">\n",
              "\n",
              "<svg xmlns=\"http://www.w3.org/2000/svg\" height=\"24px\"viewBox=\"0 0 24 24\"\n",
              "     width=\"24px\">\n",
              "    <g>\n",
              "        <path d=\"M19 3H5c-1.1 0-2 .9-2 2v14c0 1.1.9 2 2 2h14c1.1 0 2-.9 2-2V5c0-1.1-.9-2-2-2zM9 17H7v-7h2v7zm4 0h-2V7h2v10zm4 0h-2v-4h2v4z\"/>\n",
              "    </g>\n",
              "</svg>\n",
              "  </button>\n",
              "\n",
              "<style>\n",
              "  .colab-df-quickchart {\n",
              "      --bg-color: #E8F0FE;\n",
              "      --fill-color: #1967D2;\n",
              "      --hover-bg-color: #E2EBFA;\n",
              "      --hover-fill-color: #174EA6;\n",
              "      --disabled-fill-color: #AAA;\n",
              "      --disabled-bg-color: #DDD;\n",
              "  }\n",
              "\n",
              "  [theme=dark] .colab-df-quickchart {\n",
              "      --bg-color: #3B4455;\n",
              "      --fill-color: #D2E3FC;\n",
              "      --hover-bg-color: #434B5C;\n",
              "      --hover-fill-color: #FFFFFF;\n",
              "      --disabled-bg-color: #3B4455;\n",
              "      --disabled-fill-color: #666;\n",
              "  }\n",
              "\n",
              "  .colab-df-quickchart {\n",
              "    background-color: var(--bg-color);\n",
              "    border: none;\n",
              "    border-radius: 50%;\n",
              "    cursor: pointer;\n",
              "    display: none;\n",
              "    fill: var(--fill-color);\n",
              "    height: 32px;\n",
              "    padding: 0;\n",
              "    width: 32px;\n",
              "  }\n",
              "\n",
              "  .colab-df-quickchart:hover {\n",
              "    background-color: var(--hover-bg-color);\n",
              "    box-shadow: 0 1px 2px rgba(60, 64, 67, 0.3), 0 1px 3px 1px rgba(60, 64, 67, 0.15);\n",
              "    fill: var(--button-hover-fill-color);\n",
              "  }\n",
              "\n",
              "  .colab-df-quickchart-complete:disabled,\n",
              "  .colab-df-quickchart-complete:disabled:hover {\n",
              "    background-color: var(--disabled-bg-color);\n",
              "    fill: var(--disabled-fill-color);\n",
              "    box-shadow: none;\n",
              "  }\n",
              "\n",
              "  .colab-df-spinner {\n",
              "    border: 2px solid var(--fill-color);\n",
              "    border-color: transparent;\n",
              "    border-bottom-color: var(--fill-color);\n",
              "    animation:\n",
              "      spin 1s steps(1) infinite;\n",
              "  }\n",
              "\n",
              "  @keyframes spin {\n",
              "    0% {\n",
              "      border-color: transparent;\n",
              "      border-bottom-color: var(--fill-color);\n",
              "      border-left-color: var(--fill-color);\n",
              "    }\n",
              "    20% {\n",
              "      border-color: transparent;\n",
              "      border-left-color: var(--fill-color);\n",
              "      border-top-color: var(--fill-color);\n",
              "    }\n",
              "    30% {\n",
              "      border-color: transparent;\n",
              "      border-left-color: var(--fill-color);\n",
              "      border-top-color: var(--fill-color);\n",
              "      border-right-color: var(--fill-color);\n",
              "    }\n",
              "    40% {\n",
              "      border-color: transparent;\n",
              "      border-right-color: var(--fill-color);\n",
              "      border-top-color: var(--fill-color);\n",
              "    }\n",
              "    60% {\n",
              "      border-color: transparent;\n",
              "      border-right-color: var(--fill-color);\n",
              "    }\n",
              "    80% {\n",
              "      border-color: transparent;\n",
              "      border-right-color: var(--fill-color);\n",
              "      border-bottom-color: var(--fill-color);\n",
              "    }\n",
              "    90% {\n",
              "      border-color: transparent;\n",
              "      border-bottom-color: var(--fill-color);\n",
              "    }\n",
              "  }\n",
              "</style>\n",
              "\n",
              "  <script>\n",
              "    async function quickchart(key) {\n",
              "      const quickchartButtonEl =\n",
              "        document.querySelector('#' + key + ' button');\n",
              "      quickchartButtonEl.disabled = true;  // To prevent multiple clicks.\n",
              "      quickchartButtonEl.classList.add('colab-df-spinner');\n",
              "      try {\n",
              "        const charts = await google.colab.kernel.invokeFunction(\n",
              "            'suggestCharts', [key], {});\n",
              "      } catch (error) {\n",
              "        console.error('Error during call to suggestCharts:', error);\n",
              "      }\n",
              "      quickchartButtonEl.classList.remove('colab-df-spinner');\n",
              "      quickchartButtonEl.classList.add('colab-df-quickchart-complete');\n",
              "    }\n",
              "    (() => {\n",
              "      let quickchartButtonEl =\n",
              "        document.querySelector('#df-2d467e4a-cfe5-4492-b8e9-f22902a00267 button');\n",
              "      quickchartButtonEl.style.display =\n",
              "        google.colab.kernel.accessAllowed ? 'block' : 'none';\n",
              "    })();\n",
              "  </script>\n",
              "</div>\n",
              "    </div>\n",
              "  </div>\n"
            ]
          },
          "metadata": {},
          "execution_count": 8
        }
      ]
    },
    {
      "cell_type": "code",
      "source": [
        "#결측치 확인\n",
        "df.isnull().sum()"
      ],
      "metadata": {
        "id": "c-g7uUgYfqIJ",
        "colab": {
          "base_uri": "https://localhost:8080/"
        },
        "outputId": "afc11eac-2bbf-4aaa-c897-886d72156717"
      },
      "execution_count": 9,
      "outputs": [
        {
          "output_type": "execute_result",
          "data": {
            "text/plain": [
              "Chins     0\n",
              "Situps    0\n",
              "Jumps     0\n",
              "Weight    0\n",
              "Waist     0\n",
              "Pulse     0\n",
              "dtype: int64"
            ]
          },
          "metadata": {},
          "execution_count": 9
        }
      ]
    },
    {
      "cell_type": "code",
      "source": [
        "#컬럼 확인\n",
        "df.columns"
      ],
      "metadata": {
        "colab": {
          "base_uri": "https://localhost:8080/"
        },
        "id": "Y_RuD2HLHy9g",
        "outputId": "424df357-2c3e-4e0b-f2b3-f6ffc57ea2b3"
      },
      "execution_count": 11,
      "outputs": [
        {
          "output_type": "execute_result",
          "data": {
            "text/plain": [
              "Index(['Chins', 'Situps', 'Jumps', 'Weight', 'Waist', 'Pulse'], dtype='object')"
            ]
          },
          "metadata": {},
          "execution_count": 11
        }
      ]
    },
    {
      "cell_type": "code",
      "source": [
        "#X, Y(Class) splitting\n",
        "x = df.iloc[:,0:4].values\n",
        "y = df.iloc[:,5].values"
      ],
      "metadata": {
        "id": "vjh7xg_PH8cF"
      },
      "execution_count": 16,
      "outputs": []
    },
    {
      "cell_type": "code",
      "source": [
        "x"
      ],
      "metadata": {
        "colab": {
          "base_uri": "https://localhost:8080/"
        },
        "id": "MX6c9nfzIjqv",
        "outputId": "0a5ffcb1-c264-42e5-97e7-c9845b86a46d"
      },
      "execution_count": 17,
      "outputs": [
        {
          "output_type": "execute_result",
          "data": {
            "text/plain": [
              "array([[  5., 162.,  60., 191.],\n",
              "       [  2., 110.,  60., 189.],\n",
              "       [ 12., 101., 101., 193.],\n",
              "       [ 12., 105.,  37., 162.],\n",
              "       [ 13., 155.,  58., 189.],\n",
              "       [  4., 101.,  42., 182.],\n",
              "       [  8., 101.,  38., 211.],\n",
              "       [  6., 125.,  40., 167.],\n",
              "       [ 15., 200.,  40., 176.],\n",
              "       [ 17., 251., 250., 154.],\n",
              "       [ 17., 120.,  38., 169.],\n",
              "       [ 13., 210., 115., 166.],\n",
              "       [ 14., 215., 105., 154.],\n",
              "       [  1.,  50.,  50., 247.],\n",
              "       [  6.,  70.,  31., 193.],\n",
              "       [ 12., 210., 120., 202.],\n",
              "       [  4.,  60.,  25., 176.],\n",
              "       [ 11., 230.,  80., 157.],\n",
              "       [ 15., 225.,  73., 156.],\n",
              "       [  2., 110.,  43., 138.]])"
            ]
          },
          "metadata": {},
          "execution_count": 17
        }
      ]
    },
    {
      "cell_type": "code",
      "source": [
        "y"
      ],
      "metadata": {
        "colab": {
          "base_uri": "https://localhost:8080/"
        },
        "id": "L3qGY_tFIkOF",
        "outputId": "f44f0423-d57d-4b11-ebac-d187b695f618"
      },
      "execution_count": 18,
      "outputs": [
        {
          "output_type": "execute_result",
          "data": {
            "text/plain": [
              "array([50., 52., 58., 62., 46., 56., 56., 60., 74., 56., 50., 52., 64.,\n",
              "       50., 46., 62., 54., 52., 54., 68.])"
            ]
          },
          "metadata": {},
          "execution_count": 18
        }
      ]
    },
    {
      "cell_type": "code",
      "source": [
        "np.unique(y)"
      ],
      "metadata": {
        "colab": {
          "base_uri": "https://localhost:8080/"
        },
        "id": "OjysarS5Jp_n",
        "outputId": "063ec562-1b5a-411c-fa3e-ddf4bd074ed4"
      },
      "execution_count": 24,
      "outputs": [
        {
          "output_type": "execute_result",
          "data": {
            "text/plain": [
              "array([46., 50., 52., 54., 56., 58., 60., 62., 64., 68., 74.])"
            ]
          },
          "metadata": {},
          "execution_count": 24
        }
      ]
    },
    {
      "cell_type": "code",
      "source": [
        "#Splitting the data into training and test test\n",
        "from sklearn.model_selection import train_test_split\n",
        "X_train,X_test, y_train,y_test = train_test_split(x,y,test_size=0.2,random_state=0)"
      ],
      "metadata": {
        "id": "yRhTcV4_Infd"
      },
      "execution_count": 20,
      "outputs": []
    },
    {
      "cell_type": "code",
      "source": [
        "from keras.models import Sequential\n",
        "from keras.layers import Dense\n",
        "from keras.optimizers import SGD,Adam\n",
        "\n",
        "\n",
        "model = Sequential()\n",
        "\n",
        "model.add(Dense(4,input_shape=(4,),activation='relu'))\n",
        "model.add(Dense(4,activation='relu'))\n",
        "model.add(Dense(4,activation='relu'))\n",
        "model.add(Dense(1,activation='sigmoid'))\n",
        "\n",
        "model.compile(Adam(lr=0.02),'binary_crossentropy',metrics=['accuracy'])\n",
        "\n",
        "model.summary()"
      ],
      "metadata": {
        "colab": {
          "base_uri": "https://localhost:8080/"
        },
        "id": "qTqgsyKLIqJ5",
        "outputId": "ce1b3488-7f9f-48d0-9e9b-0168029432ed"
      },
      "execution_count": 41,
      "outputs": [
        {
          "output_type": "stream",
          "name": "stderr",
          "text": [
            "WARNING:absl:`lr` is deprecated in Keras optimizer, please use `learning_rate` or use the legacy optimizer, e.g.,tf.keras.optimizers.legacy.Adam.\n"
          ]
        },
        {
          "output_type": "stream",
          "name": "stdout",
          "text": [
            "Model: \"sequential_9\"\n",
            "_________________________________________________________________\n",
            " Layer (type)                Output Shape              Param #   \n",
            "=================================================================\n",
            " dense_36 (Dense)            (None, 4)                 20        \n",
            "                                                                 \n",
            " dense_37 (Dense)            (None, 4)                 20        \n",
            "                                                                 \n",
            " dense_38 (Dense)            (None, 4)                 20        \n",
            "                                                                 \n",
            " dense_39 (Dense)            (None, 1)                 5         \n",
            "                                                                 \n",
            "=================================================================\n",
            "Total params: 65 (260.00 Byte)\n",
            "Trainable params: 65 (260.00 Byte)\n",
            "Non-trainable params: 0 (0.00 Byte)\n",
            "_________________________________________________________________\n"
          ]
        }
      ]
    },
    {
      "cell_type": "code",
      "source": [
        "model_history=model.fit(x=X_train, y=y_train, epochs=100, batch_size=32,validation_data= (X_test,y_test))\n",
        "y_pred = model.predict(X_test)\n",
        "\n",
        "y_test_class = np.argmax(y_test,axis=0)\n",
        "y_pred_class = np.argmax(y_pred,axis=0)"
      ],
      "metadata": {
        "colab": {
          "base_uri": "https://localhost:8080/"
        },
        "id": "S5GDhFFtI3DW",
        "outputId": "93d0cc20-1065-49d5-cf07-7707dd9f46ea"
      },
      "execution_count": 43,
      "outputs": [
        {
          "output_type": "stream",
          "name": "stdout",
          "text": [
            "Epoch 1/100\n",
            "1/1 [==============================] - 0s 239ms/step - loss: -4.7176 - accuracy: 0.0000e+00 - val_loss: -5.5165 - val_accuracy: 0.0000e+00\n",
            "Epoch 2/100\n",
            "1/1 [==============================] - 0s 235ms/step - loss: -4.7717 - accuracy: 0.0000e+00 - val_loss: -5.5780 - val_accuracy: 0.0000e+00\n",
            "Epoch 3/100\n",
            "1/1 [==============================] - 0s 140ms/step - loss: -4.8258 - accuracy: 0.0000e+00 - val_loss: -5.6395 - val_accuracy: 0.0000e+00\n",
            "Epoch 4/100\n",
            "1/1 [==============================] - 0s 184ms/step - loss: -4.8799 - accuracy: 0.0000e+00 - val_loss: -5.7009 - val_accuracy: 0.0000e+00\n",
            "Epoch 5/100\n",
            "1/1 [==============================] - 0s 163ms/step - loss: -4.9340 - accuracy: 0.0000e+00 - val_loss: -5.7624 - val_accuracy: 0.0000e+00\n",
            "Epoch 6/100\n",
            "1/1 [==============================] - 0s 53ms/step - loss: -4.9881 - accuracy: 0.0000e+00 - val_loss: -5.8239 - val_accuracy: 0.0000e+00\n",
            "Epoch 7/100\n",
            "1/1 [==============================] - 0s 36ms/step - loss: -5.0422 - accuracy: 0.0000e+00 - val_loss: -5.8853 - val_accuracy: 0.0000e+00\n",
            "Epoch 8/100\n",
            "1/1 [==============================] - 0s 36ms/step - loss: -5.0963 - accuracy: 0.0000e+00 - val_loss: -5.9468 - val_accuracy: 0.0000e+00\n",
            "Epoch 9/100\n",
            "1/1 [==============================] - 0s 37ms/step - loss: -5.1504 - accuracy: 0.0000e+00 - val_loss: -6.0082 - val_accuracy: 0.0000e+00\n",
            "Epoch 10/100\n",
            "1/1 [==============================] - 0s 41ms/step - loss: -5.2044 - accuracy: 0.0000e+00 - val_loss: -6.0697 - val_accuracy: 0.0000e+00\n",
            "Epoch 11/100\n",
            "1/1 [==============================] - 0s 34ms/step - loss: -5.2585 - accuracy: 0.0000e+00 - val_loss: -6.1312 - val_accuracy: 0.0000e+00\n",
            "Epoch 12/100\n",
            "1/1 [==============================] - 0s 35ms/step - loss: -5.3126 - accuracy: 0.0000e+00 - val_loss: -6.1926 - val_accuracy: 0.0000e+00\n",
            "Epoch 13/100\n",
            "1/1 [==============================] - 0s 34ms/step - loss: -5.3667 - accuracy: 0.0000e+00 - val_loss: -6.2541 - val_accuracy: 0.0000e+00\n",
            "Epoch 14/100\n",
            "1/1 [==============================] - 0s 41ms/step - loss: -5.4208 - accuracy: 0.0000e+00 - val_loss: -6.3155 - val_accuracy: 0.0000e+00\n",
            "Epoch 15/100\n",
            "1/1 [==============================] - 0s 38ms/step - loss: -5.4749 - accuracy: 0.0000e+00 - val_loss: -6.3770 - val_accuracy: 0.0000e+00\n",
            "Epoch 16/100\n",
            "1/1 [==============================] - 0s 37ms/step - loss: -5.5290 - accuracy: 0.0000e+00 - val_loss: -6.4384 - val_accuracy: 0.0000e+00\n",
            "Epoch 17/100\n",
            "1/1 [==============================] - 0s 44ms/step - loss: -5.5830 - accuracy: 0.0000e+00 - val_loss: -6.4999 - val_accuracy: 0.0000e+00\n",
            "Epoch 18/100\n",
            "1/1 [==============================] - 0s 36ms/step - loss: -5.6371 - accuracy: 0.0000e+00 - val_loss: -6.5614 - val_accuracy: 0.0000e+00\n",
            "Epoch 19/100\n",
            "1/1 [==============================] - 0s 34ms/step - loss: -5.6912 - accuracy: 0.0000e+00 - val_loss: -6.6228 - val_accuracy: 0.0000e+00\n",
            "Epoch 20/100\n",
            "1/1 [==============================] - 0s 40ms/step - loss: -5.7453 - accuracy: 0.0000e+00 - val_loss: -6.6843 - val_accuracy: 0.0000e+00\n",
            "Epoch 21/100\n",
            "1/1 [==============================] - 0s 37ms/step - loss: -5.7994 - accuracy: 0.0000e+00 - val_loss: -6.7457 - val_accuracy: 0.0000e+00\n",
            "Epoch 22/100\n",
            "1/1 [==============================] - 0s 36ms/step - loss: -5.8534 - accuracy: 0.0000e+00 - val_loss: -6.8072 - val_accuracy: 0.0000e+00\n",
            "Epoch 23/100\n",
            "1/1 [==============================] - 0s 36ms/step - loss: -5.9075 - accuracy: 0.0000e+00 - val_loss: -6.8686 - val_accuracy: 0.0000e+00\n",
            "Epoch 24/100\n",
            "1/1 [==============================] - 0s 35ms/step - loss: -5.9616 - accuracy: 0.0000e+00 - val_loss: -6.9301 - val_accuracy: 0.0000e+00\n",
            "Epoch 25/100\n",
            "1/1 [==============================] - 0s 34ms/step - loss: -6.0157 - accuracy: 0.0000e+00 - val_loss: -6.9915 - val_accuracy: 0.0000e+00\n",
            "Epoch 26/100\n",
            "1/1 [==============================] - 0s 43ms/step - loss: -6.0698 - accuracy: 0.0000e+00 - val_loss: -7.0530 - val_accuracy: 0.0000e+00\n",
            "Epoch 27/100\n",
            "1/1 [==============================] - 0s 53ms/step - loss: -6.1239 - accuracy: 0.0000e+00 - val_loss: -7.1145 - val_accuracy: 0.0000e+00\n",
            "Epoch 28/100\n",
            "1/1 [==============================] - 0s 48ms/step - loss: -6.1779 - accuracy: 0.0000e+00 - val_loss: -7.1759 - val_accuracy: 0.0000e+00\n",
            "Epoch 29/100\n",
            "1/1 [==============================] - 0s 32ms/step - loss: -6.2320 - accuracy: 0.0000e+00 - val_loss: -7.2374 - val_accuracy: 0.0000e+00\n",
            "Epoch 30/100\n",
            "1/1 [==============================] - 0s 35ms/step - loss: -6.2861 - accuracy: 0.0000e+00 - val_loss: -7.2988 - val_accuracy: 0.0000e+00\n",
            "Epoch 31/100\n",
            "1/1 [==============================] - 0s 37ms/step - loss: -6.3402 - accuracy: 0.0000e+00 - val_loss: -7.3603 - val_accuracy: 0.0000e+00\n",
            "Epoch 32/100\n",
            "1/1 [==============================] - 0s 34ms/step - loss: -6.3943 - accuracy: 0.0000e+00 - val_loss: -7.4217 - val_accuracy: 0.0000e+00\n",
            "Epoch 33/100\n",
            "1/1 [==============================] - 0s 37ms/step - loss: -6.4483 - accuracy: 0.0000e+00 - val_loss: -7.4832 - val_accuracy: 0.0000e+00\n",
            "Epoch 34/100\n",
            "1/1 [==============================] - 0s 38ms/step - loss: -6.5024 - accuracy: 0.0000e+00 - val_loss: -7.5446 - val_accuracy: 0.0000e+00\n",
            "Epoch 35/100\n",
            "1/1 [==============================] - 0s 39ms/step - loss: -6.5565 - accuracy: 0.0000e+00 - val_loss: -7.6061 - val_accuracy: 0.0000e+00\n",
            "Epoch 36/100\n",
            "1/1 [==============================] - 0s 36ms/step - loss: -6.6106 - accuracy: 0.0000e+00 - val_loss: -7.6675 - val_accuracy: 0.0000e+00\n",
            "Epoch 37/100\n",
            "1/1 [==============================] - 0s 35ms/step - loss: -6.6646 - accuracy: 0.0000e+00 - val_loss: -7.7290 - val_accuracy: 0.0000e+00\n",
            "Epoch 38/100\n",
            "1/1 [==============================] - 0s 36ms/step - loss: -6.7187 - accuracy: 0.0000e+00 - val_loss: -7.7904 - val_accuracy: 0.0000e+00\n",
            "Epoch 39/100\n",
            "1/1 [==============================] - 0s 38ms/step - loss: -6.7728 - accuracy: 0.0000e+00 - val_loss: -7.8519 - val_accuracy: 0.0000e+00\n",
            "Epoch 40/100\n",
            "1/1 [==============================] - 0s 45ms/step - loss: -6.8269 - accuracy: 0.0000e+00 - val_loss: -7.9133 - val_accuracy: 0.0000e+00\n",
            "Epoch 41/100\n",
            "1/1 [==============================] - 0s 38ms/step - loss: -6.8809 - accuracy: 0.0000e+00 - val_loss: -7.9748 - val_accuracy: 0.0000e+00\n",
            "Epoch 42/100\n",
            "1/1 [==============================] - 0s 38ms/step - loss: -6.9350 - accuracy: 0.0000e+00 - val_loss: -8.0362 - val_accuracy: 0.0000e+00\n",
            "Epoch 43/100\n",
            "1/1 [==============================] - 0s 40ms/step - loss: -6.9891 - accuracy: 0.0000e+00 - val_loss: -8.0977 - val_accuracy: 0.0000e+00\n",
            "Epoch 44/100\n",
            "1/1 [==============================] - 0s 36ms/step - loss: -7.0432 - accuracy: 0.0000e+00 - val_loss: -8.1591 - val_accuracy: 0.0000e+00\n",
            "Epoch 45/100\n",
            "1/1 [==============================] - 0s 39ms/step - loss: -7.0972 - accuracy: 0.0000e+00 - val_loss: -8.2205 - val_accuracy: 0.0000e+00\n",
            "Epoch 46/100\n",
            "1/1 [==============================] - 0s 42ms/step - loss: -7.1513 - accuracy: 0.0000e+00 - val_loss: -8.2820 - val_accuracy: 0.0000e+00\n",
            "Epoch 47/100\n",
            "1/1 [==============================] - 0s 39ms/step - loss: -7.2054 - accuracy: 0.0000e+00 - val_loss: -8.3434 - val_accuracy: 0.0000e+00\n",
            "Epoch 48/100\n",
            "1/1 [==============================] - 0s 35ms/step - loss: -7.2595 - accuracy: 0.0000e+00 - val_loss: -8.4049 - val_accuracy: 0.0000e+00\n",
            "Epoch 49/100\n",
            "1/1 [==============================] - 0s 39ms/step - loss: -7.3135 - accuracy: 0.0000e+00 - val_loss: -8.4663 - val_accuracy: 0.0000e+00\n",
            "Epoch 50/100\n",
            "1/1 [==============================] - 0s 58ms/step - loss: -7.3676 - accuracy: 0.0000e+00 - val_loss: -8.5278 - val_accuracy: 0.0000e+00\n",
            "Epoch 51/100\n",
            "1/1 [==============================] - 0s 43ms/step - loss: -7.4217 - accuracy: 0.0000e+00 - val_loss: -8.5892 - val_accuracy: 0.0000e+00\n",
            "Epoch 52/100\n",
            "1/1 [==============================] - 0s 42ms/step - loss: -7.4757 - accuracy: 0.0000e+00 - val_loss: -8.6507 - val_accuracy: 0.0000e+00\n",
            "Epoch 53/100\n",
            "1/1 [==============================] - 0s 37ms/step - loss: -7.5298 - accuracy: 0.0000e+00 - val_loss: -8.7121 - val_accuracy: 0.0000e+00\n",
            "Epoch 54/100\n",
            "1/1 [==============================] - 0s 38ms/step - loss: -7.5839 - accuracy: 0.0000e+00 - val_loss: -8.7735 - val_accuracy: 0.0000e+00\n",
            "Epoch 55/100\n",
            "1/1 [==============================] - 0s 37ms/step - loss: -7.6380 - accuracy: 0.0000e+00 - val_loss: -8.8350 - val_accuracy: 0.0000e+00\n",
            "Epoch 56/100\n",
            "1/1 [==============================] - 0s 45ms/step - loss: -7.6920 - accuracy: 0.0000e+00 - val_loss: -8.8964 - val_accuracy: 0.0000e+00\n",
            "Epoch 57/100\n",
            "1/1 [==============================] - 0s 41ms/step - loss: -7.7461 - accuracy: 0.0000e+00 - val_loss: -8.9579 - val_accuracy: 0.0000e+00\n",
            "Epoch 58/100\n",
            "1/1 [==============================] - 0s 36ms/step - loss: -7.8002 - accuracy: 0.0000e+00 - val_loss: -9.0193 - val_accuracy: 0.0000e+00\n",
            "Epoch 59/100\n",
            "1/1 [==============================] - 0s 38ms/step - loss: -7.8542 - accuracy: 0.0000e+00 - val_loss: -9.0808 - val_accuracy: 0.0000e+00\n",
            "Epoch 60/100\n",
            "1/1 [==============================] - 0s 40ms/step - loss: -7.9083 - accuracy: 0.0000e+00 - val_loss: -9.1422 - val_accuracy: 0.0000e+00\n",
            "Epoch 61/100\n",
            "1/1 [==============================] - 0s 38ms/step - loss: -7.9624 - accuracy: 0.0000e+00 - val_loss: -9.2036 - val_accuracy: 0.0000e+00\n",
            "Epoch 62/100\n",
            "1/1 [==============================] - 0s 60ms/step - loss: -8.0164 - accuracy: 0.0000e+00 - val_loss: -9.2651 - val_accuracy: 0.0000e+00\n",
            "Epoch 63/100\n",
            "1/1 [==============================] - 0s 66ms/step - loss: -8.0705 - accuracy: 0.0000e+00 - val_loss: -9.3265 - val_accuracy: 0.0000e+00\n",
            "Epoch 64/100\n",
            "1/1 [==============================] - 0s 60ms/step - loss: -8.1246 - accuracy: 0.0000e+00 - val_loss: -9.3879 - val_accuracy: 0.0000e+00\n",
            "Epoch 65/100\n",
            "1/1 [==============================] - 0s 77ms/step - loss: -8.1786 - accuracy: 0.0000e+00 - val_loss: -9.4494 - val_accuracy: 0.0000e+00\n",
            "Epoch 66/100\n",
            "1/1 [==============================] - 0s 67ms/step - loss: -8.2327 - accuracy: 0.0000e+00 - val_loss: -9.5108 - val_accuracy: 0.0000e+00\n",
            "Epoch 67/100\n",
            "1/1 [==============================] - 0s 59ms/step - loss: -8.2868 - accuracy: 0.0000e+00 - val_loss: -9.5723 - val_accuracy: 0.0000e+00\n",
            "Epoch 68/100\n",
            "1/1 [==============================] - 0s 66ms/step - loss: -8.3408 - accuracy: 0.0000e+00 - val_loss: -9.6337 - val_accuracy: 0.0000e+00\n",
            "Epoch 69/100\n",
            "1/1 [==============================] - 0s 70ms/step - loss: -8.3949 - accuracy: 0.0000e+00 - val_loss: -9.6951 - val_accuracy: 0.0000e+00\n",
            "Epoch 70/100\n",
            "1/1 [==============================] - 0s 76ms/step - loss: -8.4490 - accuracy: 0.0000e+00 - val_loss: -9.7566 - val_accuracy: 0.0000e+00\n",
            "Epoch 71/100\n",
            "1/1 [==============================] - 0s 71ms/step - loss: -8.5030 - accuracy: 0.0000e+00 - val_loss: -9.8180 - val_accuracy: 0.0000e+00\n",
            "Epoch 72/100\n",
            "1/1 [==============================] - 0s 64ms/step - loss: -8.5571 - accuracy: 0.0000e+00 - val_loss: -9.8794 - val_accuracy: 0.0000e+00\n",
            "Epoch 73/100\n",
            "1/1 [==============================] - 0s 63ms/step - loss: -8.6112 - accuracy: 0.0000e+00 - val_loss: -9.9409 - val_accuracy: 0.0000e+00\n",
            "Epoch 74/100\n",
            "1/1 [==============================] - 0s 44ms/step - loss: -8.6652 - accuracy: 0.0000e+00 - val_loss: -10.0023 - val_accuracy: 0.0000e+00\n",
            "Epoch 75/100\n",
            "1/1 [==============================] - 0s 63ms/step - loss: -8.7193 - accuracy: 0.0000e+00 - val_loss: -10.0638 - val_accuracy: 0.0000e+00\n",
            "Epoch 76/100\n",
            "1/1 [==============================] - 0s 46ms/step - loss: -8.7733 - accuracy: 0.0000e+00 - val_loss: -10.1252 - val_accuracy: 0.0000e+00\n",
            "Epoch 77/100\n",
            "1/1 [==============================] - 0s 64ms/step - loss: -8.8274 - accuracy: 0.0000e+00 - val_loss: -10.1866 - val_accuracy: 0.0000e+00\n",
            "Epoch 78/100\n",
            "1/1 [==============================] - 0s 62ms/step - loss: -8.8815 - accuracy: 0.0000e+00 - val_loss: -10.2481 - val_accuracy: 0.0000e+00\n",
            "Epoch 79/100\n",
            "1/1 [==============================] - 0s 63ms/step - loss: -8.9355 - accuracy: 0.0000e+00 - val_loss: -10.3095 - val_accuracy: 0.0000e+00\n",
            "Epoch 80/100\n",
            "1/1 [==============================] - 0s 64ms/step - loss: -8.9896 - accuracy: 0.0000e+00 - val_loss: -10.3709 - val_accuracy: 0.0000e+00\n",
            "Epoch 81/100\n",
            "1/1 [==============================] - 0s 66ms/step - loss: -9.0436 - accuracy: 0.0000e+00 - val_loss: -10.4324 - val_accuracy: 0.0000e+00\n",
            "Epoch 82/100\n",
            "1/1 [==============================] - 0s 53ms/step - loss: -9.0977 - accuracy: 0.0000e+00 - val_loss: -10.4938 - val_accuracy: 0.0000e+00\n",
            "Epoch 83/100\n",
            "1/1 [==============================] - 0s 52ms/step - loss: -9.1518 - accuracy: 0.0000e+00 - val_loss: -10.5552 - val_accuracy: 0.0000e+00\n",
            "Epoch 84/100\n",
            "1/1 [==============================] - 0s 82ms/step - loss: -9.2058 - accuracy: 0.0000e+00 - val_loss: -10.6166 - val_accuracy: 0.0000e+00\n",
            "Epoch 85/100\n",
            "1/1 [==============================] - 0s 67ms/step - loss: -9.2599 - accuracy: 0.0000e+00 - val_loss: -10.6781 - val_accuracy: 0.0000e+00\n",
            "Epoch 86/100\n",
            "1/1 [==============================] - 0s 66ms/step - loss: -9.3139 - accuracy: 0.0000e+00 - val_loss: -10.7395 - val_accuracy: 0.0000e+00\n",
            "Epoch 87/100\n",
            "1/1 [==============================] - 0s 73ms/step - loss: -9.3680 - accuracy: 0.0000e+00 - val_loss: -10.8009 - val_accuracy: 0.0000e+00\n",
            "Epoch 88/100\n",
            "1/1 [==============================] - 0s 54ms/step - loss: -9.4221 - accuracy: 0.0000e+00 - val_loss: -10.8624 - val_accuracy: 0.0000e+00\n",
            "Epoch 89/100\n",
            "1/1 [==============================] - 0s 75ms/step - loss: -9.4761 - accuracy: 0.0000e+00 - val_loss: -10.9238 - val_accuracy: 0.0000e+00\n",
            "Epoch 90/100\n",
            "1/1 [==============================] - 0s 72ms/step - loss: -9.5302 - accuracy: 0.0000e+00 - val_loss: -10.9852 - val_accuracy: 0.0000e+00\n",
            "Epoch 91/100\n",
            "1/1 [==============================] - 0s 49ms/step - loss: -9.5842 - accuracy: 0.0000e+00 - val_loss: -11.0467 - val_accuracy: 0.0000e+00\n",
            "Epoch 92/100\n",
            "1/1 [==============================] - 0s 65ms/step - loss: -9.6383 - accuracy: 0.0000e+00 - val_loss: -11.1081 - val_accuracy: 0.0000e+00\n",
            "Epoch 93/100\n",
            "1/1 [==============================] - 0s 50ms/step - loss: -9.6923 - accuracy: 0.0000e+00 - val_loss: -11.1695 - val_accuracy: 0.0000e+00\n",
            "Epoch 94/100\n",
            "1/1 [==============================] - 0s 64ms/step - loss: -9.7464 - accuracy: 0.0000e+00 - val_loss: -11.2309 - val_accuracy: 0.0000e+00\n",
            "Epoch 95/100\n",
            "1/1 [==============================] - 0s 72ms/step - loss: -9.8005 - accuracy: 0.0000e+00 - val_loss: -11.2924 - val_accuracy: 0.0000e+00\n",
            "Epoch 96/100\n",
            "1/1 [==============================] - 0s 75ms/step - loss: -9.8545 - accuracy: 0.0000e+00 - val_loss: -11.3538 - val_accuracy: 0.0000e+00\n",
            "Epoch 97/100\n",
            "1/1 [==============================] - 0s 71ms/step - loss: -9.9086 - accuracy: 0.0000e+00 - val_loss: -11.4152 - val_accuracy: 0.0000e+00\n",
            "Epoch 98/100\n",
            "1/1 [==============================] - 0s 75ms/step - loss: -9.9626 - accuracy: 0.0000e+00 - val_loss: -11.4766 - val_accuracy: 0.0000e+00\n",
            "Epoch 99/100\n",
            "1/1 [==============================] - 0s 80ms/step - loss: -10.0167 - accuracy: 0.0000e+00 - val_loss: -11.5381 - val_accuracy: 0.0000e+00\n",
            "Epoch 100/100\n",
            "1/1 [==============================] - 0s 75ms/step - loss: -10.0707 - accuracy: 0.0000e+00 - val_loss: -11.5995 - val_accuracy: 0.0000e+00\n",
            "1/1 [==============================] - 0s 27ms/step\n"
          ]
        }
      ]
    },
    {
      "cell_type": "code",
      "source": [],
      "metadata": {
        "id": "492a8UKxLuyo"
      },
      "execution_count": null,
      "outputs": []
    }
  ]
}